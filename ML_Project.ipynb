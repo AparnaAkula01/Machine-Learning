{
 "cells": [
  {
   "cell_type": "markdown",
   "id": "6634a0bd",
   "metadata": {},
   "source": [
    "# Importing Libraries"
   ]
  },
  {
   "cell_type": "code",
   "execution_count": 1,
   "id": "971e3b37",
   "metadata": {},
   "outputs": [],
   "source": [
    "import pandas as pd\n",
    "import matplotlib.pyplot as plt\n",
    "import seaborn as sns"
   ]
  },
  {
   "cell_type": "markdown",
   "id": "4a2d2446",
   "metadata": {},
   "source": [
    "# Data Gathering"
   ]
  },
  {
   "cell_type": "code",
   "execution_count": 2,
   "id": "7dbc1aa3",
   "metadata": {},
   "outputs": [
    {
     "data": {
      "text/html": [
       "<div>\n",
       "<style scoped>\n",
       "    .dataframe tbody tr th:only-of-type {\n",
       "        vertical-align: middle;\n",
       "    }\n",
       "\n",
       "    .dataframe tbody tr th {\n",
       "        vertical-align: top;\n",
       "    }\n",
       "\n",
       "    .dataframe thead th {\n",
       "        text-align: right;\n",
       "    }\n",
       "</style>\n",
       "<table border=\"1\" class=\"dataframe\">\n",
       "  <thead>\n",
       "    <tr style=\"text-align: right;\">\n",
       "      <th></th>\n",
       "      <th>ID</th>\n",
       "      <th>Species</th>\n",
       "      <th>Owner</th>\n",
       "      <th>Country.of.Origin</th>\n",
       "      <th>Farm.Name</th>\n",
       "      <th>Lot.Number</th>\n",
       "      <th>Mill</th>\n",
       "      <th>ICO.Number</th>\n",
       "      <th>Company</th>\n",
       "      <th>Altitude</th>\n",
       "      <th>...</th>\n",
       "      <th>Color</th>\n",
       "      <th>Category.Two.Defects</th>\n",
       "      <th>Expiration</th>\n",
       "      <th>Certification.Body</th>\n",
       "      <th>Certification.Address</th>\n",
       "      <th>Certification.Contact</th>\n",
       "      <th>unit_of_measurement</th>\n",
       "      <th>altitude_low_meters</th>\n",
       "      <th>altitude_high_meters</th>\n",
       "      <th>altitude_mean_meters</th>\n",
       "    </tr>\n",
       "  </thead>\n",
       "  <tbody>\n",
       "    <tr>\n",
       "      <th>0</th>\n",
       "      <td>629</td>\n",
       "      <td>Arabica</td>\n",
       "      <td>george a. fernandez</td>\n",
       "      <td>Colombia</td>\n",
       "      <td>la canada</td>\n",
       "      <td>NaN</td>\n",
       "      <td>the beneficio is designed to be ecologic</td>\n",
       "      <td>2889</td>\n",
       "      <td>NaN</td>\n",
       "      <td>1800 meters (5900</td>\n",
       "      <td>...</td>\n",
       "      <td>Green</td>\n",
       "      <td>0.0</td>\n",
       "      <td>November 15th, 2012</td>\n",
       "      <td>Specialty Coffee Association</td>\n",
       "      <td>36d0d00a3724338ba7937c52a378d085f2172daa</td>\n",
       "      <td>0878a7d4b9d35ddbf0fe2ce69a2062cceb45a660</td>\n",
       "      <td>m</td>\n",
       "      <td>1800.0</td>\n",
       "      <td>5900.0</td>\n",
       "      <td>3850.0</td>\n",
       "    </tr>\n",
       "    <tr>\n",
       "      <th>1</th>\n",
       "      <td>159</td>\n",
       "      <td>Arabica</td>\n",
       "      <td>max gurdian</td>\n",
       "      <td>Costa Rica</td>\n",
       "      <td>NaN</td>\n",
       "      <td>S015.367</td>\n",
       "      <td>beneficio santo domingo - beneficio dosmil</td>\n",
       "      <td>5-0015-0029</td>\n",
       "      <td>beneficios volcafÃ© costa rica</td>\n",
       "      <td>1200</td>\n",
       "      <td>...</td>\n",
       "      <td>Bluish-Green</td>\n",
       "      <td>2.0</td>\n",
       "      <td>November 28th, 2018</td>\n",
       "      <td>Specialty Coffee Association of Costa Rica</td>\n",
       "      <td>8e0b118f3cf3121ab27c5387deacdb7d4d2a60b1</td>\n",
       "      <td>5eb2b7129d9714c43825e44dc3bca9423de209e9</td>\n",
       "      <td>m</td>\n",
       "      <td>1200.0</td>\n",
       "      <td>1200.0</td>\n",
       "      <td>1200.0</td>\n",
       "    </tr>\n",
       "    <tr>\n",
       "      <th>2</th>\n",
       "      <td>3</td>\n",
       "      <td>Arabica</td>\n",
       "      <td>grounds for health admin</td>\n",
       "      <td>Guatemala</td>\n",
       "      <td>san marcos barrancas \"san cristobal cuch</td>\n",
       "      <td>NaN</td>\n",
       "      <td>NaN</td>\n",
       "      <td>NaN</td>\n",
       "      <td>NaN</td>\n",
       "      <td>1600 - 1800 m</td>\n",
       "      <td>...</td>\n",
       "      <td>NaN</td>\n",
       "      <td>0.0</td>\n",
       "      <td>May 31st, 2011</td>\n",
       "      <td>Specialty Coffee Association</td>\n",
       "      <td>36d0d00a3724338ba7937c52a378d085f2172daa</td>\n",
       "      <td>0878a7d4b9d35ddbf0fe2ce69a2062cceb45a660</td>\n",
       "      <td>m</td>\n",
       "      <td>1600.0</td>\n",
       "      <td>1800.0</td>\n",
       "      <td>1700.0</td>\n",
       "    </tr>\n",
       "    <tr>\n",
       "      <th>3</th>\n",
       "      <td>180</td>\n",
       "      <td>Arabica</td>\n",
       "      <td>lydiah mwangi</td>\n",
       "      <td>Kenya</td>\n",
       "      <td>kigwandi</td>\n",
       "      <td>K25159</td>\n",
       "      <td>central kenya coffee mills</td>\n",
       "      <td>NaN</td>\n",
       "      <td>c dorman ltd</td>\n",
       "      <td>1800</td>\n",
       "      <td>...</td>\n",
       "      <td>Green</td>\n",
       "      <td>4.0</td>\n",
       "      <td>August 3rd, 2018</td>\n",
       "      <td>Kenya Coffee Traders Association</td>\n",
       "      <td>ccba45b89d859740b749878be8c6d16fbdb96c2e</td>\n",
       "      <td>d752c909a015f3c76224b3c5cc520f8a67afda74</td>\n",
       "      <td>m</td>\n",
       "      <td>1800.0</td>\n",
       "      <td>1800.0</td>\n",
       "      <td>1800.0</td>\n",
       "    </tr>\n",
       "    <tr>\n",
       "      <th>4</th>\n",
       "      <td>233</td>\n",
       "      <td>Arabica</td>\n",
       "      <td>carcafe ltda ci</td>\n",
       "      <td>Colombia</td>\n",
       "      <td>NaN</td>\n",
       "      <td>3-59-0503</td>\n",
       "      <td>neiva</td>\n",
       "      <td>3-59-0503</td>\n",
       "      <td>carcafe ltda</td>\n",
       "      <td>442</td>\n",
       "      <td>...</td>\n",
       "      <td>Green</td>\n",
       "      <td>3.0</td>\n",
       "      <td>November 9th, 2018</td>\n",
       "      <td>AlmacafÃ©</td>\n",
       "      <td>e493c36c2d076bf273064f7ac23ad562af257a25</td>\n",
       "      <td>70d3c0c26f89e00fdae6fb39ff54f0d2eb1c38ab</td>\n",
       "      <td>m</td>\n",
       "      <td>442.0</td>\n",
       "      <td>442.0</td>\n",
       "      <td>442.0</td>\n",
       "    </tr>\n",
       "  </tbody>\n",
       "</table>\n",
       "<p>5 rows × 44 columns</p>\n",
       "</div>"
      ],
      "text/plain": [
       "    ID  Species                     Owner Country.of.Origin  \\\n",
       "0  629  Arabica       george a. fernandez          Colombia   \n",
       "1  159  Arabica               max gurdian        Costa Rica   \n",
       "2    3  Arabica  grounds for health admin         Guatemala   \n",
       "3  180  Arabica             lydiah mwangi             Kenya   \n",
       "4  233  Arabica           carcafe ltda ci          Colombia   \n",
       "\n",
       "                                  Farm.Name Lot.Number  \\\n",
       "0                                 la canada        NaN   \n",
       "1                                       NaN   S015.367   \n",
       "2  san marcos barrancas \"san cristobal cuch        NaN   \n",
       "3                                  kigwandi     K25159   \n",
       "4                                       NaN  3-59-0503   \n",
       "\n",
       "                                         Mill   ICO.Number  \\\n",
       "0    the beneficio is designed to be ecologic         2889   \n",
       "1  beneficio santo domingo - beneficio dosmil  5-0015-0029   \n",
       "2                                         NaN          NaN   \n",
       "3                  central kenya coffee mills          NaN   \n",
       "4                                       neiva    3-59-0503   \n",
       "\n",
       "                          Company           Altitude  ...         Color  \\\n",
       "0                             NaN  1800 meters (5900  ...         Green   \n",
       "1  beneficios volcafÃ© costa rica               1200  ...  Bluish-Green   \n",
       "2                             NaN      1600 - 1800 m  ...           NaN   \n",
       "3                    c dorman ltd               1800  ...         Green   \n",
       "4                    carcafe ltda                442  ...         Green   \n",
       "\n",
       "  Category.Two.Defects           Expiration  \\\n",
       "0                  0.0  November 15th, 2012   \n",
       "1                  2.0  November 28th, 2018   \n",
       "2                  0.0       May 31st, 2011   \n",
       "3                  4.0     August 3rd, 2018   \n",
       "4                  3.0   November 9th, 2018   \n",
       "\n",
       "                           Certification.Body  \\\n",
       "0                Specialty Coffee Association   \n",
       "1  Specialty Coffee Association of Costa Rica   \n",
       "2                Specialty Coffee Association   \n",
       "3            Kenya Coffee Traders Association   \n",
       "4                                   AlmacafÃ©   \n",
       "\n",
       "                      Certification.Address  \\\n",
       "0  36d0d00a3724338ba7937c52a378d085f2172daa   \n",
       "1  8e0b118f3cf3121ab27c5387deacdb7d4d2a60b1   \n",
       "2  36d0d00a3724338ba7937c52a378d085f2172daa   \n",
       "3  ccba45b89d859740b749878be8c6d16fbdb96c2e   \n",
       "4  e493c36c2d076bf273064f7ac23ad562af257a25   \n",
       "\n",
       "                      Certification.Contact unit_of_measurement  \\\n",
       "0  0878a7d4b9d35ddbf0fe2ce69a2062cceb45a660                   m   \n",
       "1  5eb2b7129d9714c43825e44dc3bca9423de209e9                   m   \n",
       "2  0878a7d4b9d35ddbf0fe2ce69a2062cceb45a660                   m   \n",
       "3  d752c909a015f3c76224b3c5cc520f8a67afda74                   m   \n",
       "4  70d3c0c26f89e00fdae6fb39ff54f0d2eb1c38ab                   m   \n",
       "\n",
       "  altitude_low_meters altitude_high_meters altitude_mean_meters  \n",
       "0              1800.0               5900.0               3850.0  \n",
       "1              1200.0               1200.0               1200.0  \n",
       "2              1600.0               1800.0               1700.0  \n",
       "3              1800.0               1800.0               1800.0  \n",
       "4               442.0                442.0                442.0  \n",
       "\n",
       "[5 rows x 44 columns]"
      ]
     },
     "execution_count": 2,
     "metadata": {},
     "output_type": "execute_result"
    }
   ],
   "source": [
    "df = pd.read_csv (\"C:/Users/Aparna Akula/Documents/Machine Learning/Coffee-modified.csv\")\n",
    "df.head()"
   ]
  },
  {
   "cell_type": "code",
   "execution_count": 3,
   "id": "ca72bbfe",
   "metadata": {},
   "outputs": [
    {
     "data": {
      "text/plain": [
       "(1319, 44)"
      ]
     },
     "execution_count": 3,
     "metadata": {},
     "output_type": "execute_result"
    }
   ],
   "source": [
    "df.shape"
   ]
  },
  {
   "cell_type": "code",
   "execution_count": 4,
   "id": "b3896dc7",
   "metadata": {},
   "outputs": [
    {
     "data": {
      "text/plain": [
       "Index(['ID', 'Species', 'Owner', 'Country.of.Origin', 'Farm.Name',\n",
       "       'Lot.Number', 'Mill', 'ICO.Number', 'Company', 'Altitude', 'Region',\n",
       "       'Producer', 'Number.of.Bags', 'Bag.Weight', 'In.Country.Partner',\n",
       "       'Harvest.Year', 'Grading.Date', 'Owner.1', 'Variety',\n",
       "       'Processing.Method', 'Aroma', 'Flavor', 'Aftertaste', 'Acidity', 'Body',\n",
       "       'Balance', 'Uniformity', 'Clean.Cup', 'Sweetness', 'Cupper.Points',\n",
       "       'Total.Cup.Points', 'Moisture', 'Category.One.Defects', 'Quakers',\n",
       "       'Color', 'Category.Two.Defects', 'Expiration', 'Certification.Body',\n",
       "       'Certification.Address', 'Certification.Contact', 'unit_of_measurement',\n",
       "       'altitude_low_meters', 'altitude_high_meters', 'altitude_mean_meters'],\n",
       "      dtype='object')"
      ]
     },
     "execution_count": 4,
     "metadata": {},
     "output_type": "execute_result"
    }
   ],
   "source": [
    "df.columns"
   ]
  },
  {
   "cell_type": "code",
   "execution_count": 5,
   "id": "49bc7674",
   "metadata": {},
   "outputs": [],
   "source": [
    "coffee_beans = df[['Species', 'Owner','Country.of.Origin','Farm.Name', 'Company', 'Altitude', 'Region',\n",
    "       'Producer', 'Number.of.Bags', 'Bag.Weight','Harvest.Year','Variety',\n",
    "       'Processing.Method', 'Aroma', 'Flavor', 'Aftertaste', 'Acidity', 'Body',\n",
    "       'Balance', 'Uniformity', 'Clean.Cup', 'Sweetness', 'Total.Cup.Points', 'Moisture', 'Quakers',\n",
    "       'Color', 'Expiration','Category.Two.Defects', 'Category.One.Defects']]"
   ]
  },
  {
   "cell_type": "markdown",
   "id": "33ed72d8",
   "metadata": {},
   "source": [
    "# Data Cleaning"
   ]
  },
  {
   "cell_type": "markdown",
   "id": "c4ba1101",
   "metadata": {},
   "source": [
    "### Renaming Columns"
   ]
  },
  {
   "cell_type": "code",
   "execution_count": 6,
   "id": "42b08cf0",
   "metadata": {},
   "outputs": [
    {
     "name": "stderr",
     "output_type": "stream",
     "text": [
      "C:\\Users\\Aparna Akula\\anaconda3\\lib\\site-packages\\pandas\\core\\frame.py:5039: SettingWithCopyWarning: \n",
      "A value is trying to be set on a copy of a slice from a DataFrame\n",
      "\n",
      "See the caveats in the documentation: https://pandas.pydata.org/pandas-docs/stable/user_guide/indexing.html#returning-a-view-versus-a-copy\n",
      "  return super().rename(\n"
     ]
    }
   ],
   "source": [
    "#renaming the column names as required\n",
    "coffee_beans.rename(columns = {'Country.of.Origin':'Country_of_Origin', 'Farm.Name':'Farm_Name', 'Number.of.Bags':'Number_of_Bags',\n",
    "                        'Bag.Weight':'Bag_Weight', 'Harvest.Year':'Harvest_Year', 'Processing.Method':'Processing_Method',                        \n",
    "                         'Clean.Cup':'Clean_Cup', 'Total.Cup.Points':'Total_Cup_Points',\n",
    "                        'Category.Two.Defects':'Category_Two_Defects', 'Category.One.Defects':'Category_One_Defects'}, inplace = True)"
   ]
  },
  {
   "cell_type": "code",
   "execution_count": 7,
   "id": "9b2ef899",
   "metadata": {},
   "outputs": [
    {
     "data": {
      "text/plain": [
       "(1319, 29)"
      ]
     },
     "execution_count": 7,
     "metadata": {},
     "output_type": "execute_result"
    }
   ],
   "source": [
    "coffee_beans.shape"
   ]
  },
  {
   "cell_type": "markdown",
   "id": "47fb945d",
   "metadata": {},
   "source": [
    "### Dropping the Null Values"
   ]
  },
  {
   "cell_type": "code",
   "execution_count": 8,
   "id": "da6de881",
   "metadata": {},
   "outputs": [
    {
     "data": {
      "text/plain": [
       "Species                   0\n",
       "Owner                     9\n",
       "Country_of_Origin         3\n",
       "Farm_Name               358\n",
       "Company                 214\n",
       "Altitude                227\n",
       "Region                   62\n",
       "Producer                235\n",
       "Number_of_Bags            5\n",
       "Bag_Weight                5\n",
       "Harvest_Year             53\n",
       "Variety                 209\n",
       "Processing_Method       160\n",
       "Aroma                     8\n",
       "Flavor                   10\n",
       "Aftertaste               10\n",
       "Acidity                  10\n",
       "Body                     10\n",
       "Balance                  10\n",
       "Uniformity               10\n",
       "Clean_Cup                12\n",
       "Sweetness                11\n",
       "Total_Cup_Points         11\n",
       "Moisture                 11\n",
       "Quakers                  12\n",
       "Color                   227\n",
       "Expiration               12\n",
       "Category_Two_Defects     12\n",
       "Category_One_Defects     11\n",
       "dtype: int64"
      ]
     },
     "execution_count": 8,
     "metadata": {},
     "output_type": "execute_result"
    }
   ],
   "source": [
    "coffee_beans.isnull().sum(axis=0)"
   ]
  },
  {
   "cell_type": "code",
   "execution_count": 9,
   "id": "2d94ee42",
   "metadata": {},
   "outputs": [],
   "source": [
    "coffee_beans = coffee_beans.dropna(axis=0)\n",
    "coffee_beans = coffee_beans.reset_index()"
   ]
  },
  {
   "cell_type": "code",
   "execution_count": 10,
   "id": "ceca475d",
   "metadata": {},
   "outputs": [
    {
     "data": {
      "text/plain": [
       "(660, 30)"
      ]
     },
     "execution_count": 10,
     "metadata": {},
     "output_type": "execute_result"
    }
   ],
   "source": [
    "coffee_beans.shape"
   ]
  },
  {
   "cell_type": "code",
   "execution_count": 11,
   "id": "9da5e1a3",
   "metadata": {},
   "outputs": [
    {
     "data": {
      "text/plain": [
       "index                   0\n",
       "Species                 0\n",
       "Owner                   0\n",
       "Country_of_Origin       0\n",
       "Farm_Name               0\n",
       "Company                 0\n",
       "Altitude                0\n",
       "Region                  0\n",
       "Producer                0\n",
       "Number_of_Bags          0\n",
       "Bag_Weight              0\n",
       "Harvest_Year            0\n",
       "Variety                 0\n",
       "Processing_Method       0\n",
       "Aroma                   0\n",
       "Flavor                  0\n",
       "Aftertaste              0\n",
       "Acidity                 0\n",
       "Body                    0\n",
       "Balance                 0\n",
       "Uniformity              0\n",
       "Clean_Cup               0\n",
       "Sweetness               0\n",
       "Total_Cup_Points        0\n",
       "Moisture                0\n",
       "Quakers                 0\n",
       "Color                   0\n",
       "Expiration              0\n",
       "Category_Two_Defects    0\n",
       "Category_One_Defects    0\n",
       "dtype: int64"
      ]
     },
     "execution_count": 11,
     "metadata": {},
     "output_type": "execute_result"
    }
   ],
   "source": [
    "coffee_beans.isnull().sum(axis=0)"
   ]
  },
  {
   "cell_type": "code",
   "execution_count": 12,
   "id": "b57cc991",
   "metadata": {},
   "outputs": [],
   "source": [
    "coffee_beans = coffee_beans.drop(columns = ['index'])\n",
    "coffee_beans = coffee_beans.reset_index()"
   ]
  },
  {
   "cell_type": "code",
   "execution_count": 13,
   "id": "8bd9953e",
   "metadata": {},
   "outputs": [
    {
     "data": {
      "text/html": [
       "<div>\n",
       "<style scoped>\n",
       "    .dataframe tbody tr th:only-of-type {\n",
       "        vertical-align: middle;\n",
       "    }\n",
       "\n",
       "    .dataframe tbody tr th {\n",
       "        vertical-align: top;\n",
       "    }\n",
       "\n",
       "    .dataframe thead th {\n",
       "        text-align: right;\n",
       "    }\n",
       "</style>\n",
       "<table border=\"1\" class=\"dataframe\">\n",
       "  <thead>\n",
       "    <tr style=\"text-align: right;\">\n",
       "      <th></th>\n",
       "      <th>index</th>\n",
       "      <th>Species</th>\n",
       "      <th>Owner</th>\n",
       "      <th>Country_of_Origin</th>\n",
       "      <th>Farm_Name</th>\n",
       "      <th>Company</th>\n",
       "      <th>Altitude</th>\n",
       "      <th>Region</th>\n",
       "      <th>Producer</th>\n",
       "      <th>Number_of_Bags</th>\n",
       "      <th>...</th>\n",
       "      <th>Uniformity</th>\n",
       "      <th>Clean_Cup</th>\n",
       "      <th>Sweetness</th>\n",
       "      <th>Total_Cup_Points</th>\n",
       "      <th>Moisture</th>\n",
       "      <th>Quakers</th>\n",
       "      <th>Color</th>\n",
       "      <th>Expiration</th>\n",
       "      <th>Category_Two_Defects</th>\n",
       "      <th>Category_One_Defects</th>\n",
       "    </tr>\n",
       "  </thead>\n",
       "  <tbody>\n",
       "    <tr>\n",
       "      <th>0</th>\n",
       "      <td>0</td>\n",
       "      <td>Arabica</td>\n",
       "      <td>lydiah mwangi</td>\n",
       "      <td>Kenya</td>\n",
       "      <td>kigwandi</td>\n",
       "      <td>c dorman ltd</td>\n",
       "      <td>1800</td>\n",
       "      <td>nyeri</td>\n",
       "      <td>mutheka</td>\n",
       "      <td>150</td>\n",
       "      <td>...</td>\n",
       "      <td>10.0</td>\n",
       "      <td>10.0</td>\n",
       "      <td>10.0</td>\n",
       "      <td>84.33</td>\n",
       "      <td>0.11</td>\n",
       "      <td>0</td>\n",
       "      <td>Green</td>\n",
       "      <td>August 3rd, 2018</td>\n",
       "      <td>4.0</td>\n",
       "      <td>0</td>\n",
       "    </tr>\n",
       "    <tr>\n",
       "      <th>1</th>\n",
       "      <td>1</td>\n",
       "      <td>Arabica</td>\n",
       "      <td>ipanema coffees</td>\n",
       "      <td>Brazil</td>\n",
       "      <td>fazenda capoeirnha</td>\n",
       "      <td>ipanema coffees</td>\n",
       "      <td>890</td>\n",
       "      <td>south of minas</td>\n",
       "      <td>Ipanema Agricola S.A</td>\n",
       "      <td>320</td>\n",
       "      <td>...</td>\n",
       "      <td>10.0</td>\n",
       "      <td>10.0</td>\n",
       "      <td>10.0</td>\n",
       "      <td>83.92</td>\n",
       "      <td>0</td>\n",
       "      <td>0</td>\n",
       "      <td>Green</td>\n",
       "      <td>October 20th, 2018</td>\n",
       "      <td>3.0</td>\n",
       "      <td>0</td>\n",
       "    </tr>\n",
       "    <tr>\n",
       "      <th>2</th>\n",
       "      <td>2</td>\n",
       "      <td>Arabica</td>\n",
       "      <td>ipanema coffees</td>\n",
       "      <td>Brazil</td>\n",
       "      <td>fazenda capoeirnha</td>\n",
       "      <td>ipanema coffees</td>\n",
       "      <td>890</td>\n",
       "      <td>south of minas</td>\n",
       "      <td>Ipanema Agricola S.A</td>\n",
       "      <td>320</td>\n",
       "      <td>...</td>\n",
       "      <td>10.0</td>\n",
       "      <td>10.0</td>\n",
       "      <td>10.0</td>\n",
       "      <td>83.75</td>\n",
       "      <td>0.11</td>\n",
       "      <td>0</td>\n",
       "      <td>Green</td>\n",
       "      <td>October 20th, 2018</td>\n",
       "      <td>5.0</td>\n",
       "      <td>0</td>\n",
       "    </tr>\n",
       "    <tr>\n",
       "      <th>3</th>\n",
       "      <td>3</td>\n",
       "      <td>Arabica</td>\n",
       "      <td>ipanema coffees</td>\n",
       "      <td>Brazil</td>\n",
       "      <td>fazenda capoeirnha</td>\n",
       "      <td>ipanema coffees</td>\n",
       "      <td>890</td>\n",
       "      <td>south of minas</td>\n",
       "      <td>Ipanema Agricola S.A</td>\n",
       "      <td>320</td>\n",
       "      <td>...</td>\n",
       "      <td>10.0</td>\n",
       "      <td>10.0</td>\n",
       "      <td>10.0</td>\n",
       "      <td>83.67</td>\n",
       "      <td>0.11</td>\n",
       "      <td>0</td>\n",
       "      <td>Green</td>\n",
       "      <td>October 20th, 2018</td>\n",
       "      <td>2.0</td>\n",
       "      <td>0</td>\n",
       "    </tr>\n",
       "    <tr>\n",
       "      <th>4</th>\n",
       "      <td>4</td>\n",
       "      <td>Arabica</td>\n",
       "      <td>ipanema coffees</td>\n",
       "      <td>Brazil</td>\n",
       "      <td>fazenda capoeirnha</td>\n",
       "      <td>ipanema coffees</td>\n",
       "      <td>890</td>\n",
       "      <td>south of minas</td>\n",
       "      <td>Ipanema Agricola S.A</td>\n",
       "      <td>320</td>\n",
       "      <td>...</td>\n",
       "      <td>10.0</td>\n",
       "      <td>10.0</td>\n",
       "      <td>10.0</td>\n",
       "      <td>83.58</td>\n",
       "      <td>0.11</td>\n",
       "      <td>0</td>\n",
       "      <td>Green</td>\n",
       "      <td>October 20th, 2018</td>\n",
       "      <td>5.0</td>\n",
       "      <td>0</td>\n",
       "    </tr>\n",
       "  </tbody>\n",
       "</table>\n",
       "<p>5 rows × 30 columns</p>\n",
       "</div>"
      ],
      "text/plain": [
       "   index  Species            Owner Country_of_Origin           Farm_Name  \\\n",
       "0      0  Arabica    lydiah mwangi             Kenya            kigwandi   \n",
       "1      1  Arabica  ipanema coffees            Brazil  fazenda capoeirnha   \n",
       "2      2  Arabica  ipanema coffees            Brazil  fazenda capoeirnha   \n",
       "3      3  Arabica  ipanema coffees            Brazil  fazenda capoeirnha   \n",
       "4      4  Arabica  ipanema coffees            Brazil  fazenda capoeirnha   \n",
       "\n",
       "           Company Altitude          Region              Producer  \\\n",
       "0     c dorman ltd     1800           nyeri               mutheka   \n",
       "1  ipanema coffees      890  south of minas  Ipanema Agricola S.A   \n",
       "2  ipanema coffees      890  south of minas  Ipanema Agricola S.A   \n",
       "3  ipanema coffees      890  south of minas  Ipanema Agricola S.A   \n",
       "4  ipanema coffees      890  south of minas  Ipanema Agricola S.A   \n",
       "\n",
       "  Number_of_Bags  ... Uniformity Clean_Cup Sweetness Total_Cup_Points  \\\n",
       "0            150  ...       10.0      10.0      10.0            84.33   \n",
       "1            320  ...       10.0      10.0      10.0            83.92   \n",
       "2            320  ...       10.0      10.0      10.0            83.75   \n",
       "3            320  ...       10.0      10.0      10.0            83.67   \n",
       "4            320  ...       10.0      10.0      10.0            83.58   \n",
       "\n",
       "  Moisture Quakers  Color          Expiration  Category_Two_Defects  \\\n",
       "0     0.11       0  Green    August 3rd, 2018                   4.0   \n",
       "1        0       0  Green  October 20th, 2018                   3.0   \n",
       "2     0.11       0  Green  October 20th, 2018                   5.0   \n",
       "3     0.11       0  Green  October 20th, 2018                   2.0   \n",
       "4     0.11       0  Green  October 20th, 2018                   5.0   \n",
       "\n",
       "   Category_One_Defects  \n",
       "0                     0  \n",
       "1                     0  \n",
       "2                     0  \n",
       "3                     0  \n",
       "4                     0  \n",
       "\n",
       "[5 rows x 30 columns]"
      ]
     },
     "execution_count": 13,
     "metadata": {},
     "output_type": "execute_result"
    }
   ],
   "source": [
    "coffee_beans.head()"
   ]
  },
  {
   "cell_type": "code",
   "execution_count": 14,
   "id": "52fd1d83",
   "metadata": {},
   "outputs": [
    {
     "name": "stdout",
     "output_type": "stream",
     "text": [
      "False\n"
     ]
    }
   ],
   "source": [
    "value = coffee_beans['Color'].isnull().values.any()\n",
    "print(value)"
   ]
  },
  {
   "cell_type": "code",
   "execution_count": 15,
   "id": "995600c9",
   "metadata": {},
   "outputs": [],
   "source": [
    "coffee_beans = coffee_beans.drop(coffee_beans[coffee_beans['Color'] == \"None\"].index)"
   ]
  },
  {
   "cell_type": "code",
   "execution_count": 16,
   "id": "e2bb715a",
   "metadata": {},
   "outputs": [
    {
     "data": {
      "text/plain": [
       "(639, 30)"
      ]
     },
     "execution_count": 16,
     "metadata": {},
     "output_type": "execute_result"
    }
   ],
   "source": [
    "coffee_beans.shape"
   ]
  },
  {
   "cell_type": "code",
   "execution_count": 17,
   "id": "2539182f",
   "metadata": {},
   "outputs": [
    {
     "data": {
      "text/plain": [
       "False    639\n",
       "dtype: int64"
      ]
     },
     "execution_count": 17,
     "metadata": {},
     "output_type": "execute_result"
    }
   ],
   "source": [
    "coffee_beans.duplicated().value_counts()"
   ]
  },
  {
   "cell_type": "code",
   "execution_count": 18,
   "id": "12f43962",
   "metadata": {},
   "outputs": [
    {
     "data": {
      "text/plain": [
       "pandas.core.frame.DataFrame"
      ]
     },
     "execution_count": 18,
     "metadata": {},
     "output_type": "execute_result"
    }
   ],
   "source": [
    "type(coffee_beans)"
   ]
  },
  {
   "cell_type": "code",
   "execution_count": 19,
   "id": "56e05aee",
   "metadata": {},
   "outputs": [
    {
     "data": {
      "text/plain": [
       "index                     int64\n",
       "Species                  object\n",
       "Owner                    object\n",
       "Country_of_Origin        object\n",
       "Farm_Name                object\n",
       "Company                  object\n",
       "Altitude                 object\n",
       "Region                   object\n",
       "Producer                 object\n",
       "Number_of_Bags           object\n",
       "Bag_Weight               object\n",
       "Harvest_Year             object\n",
       "Variety                  object\n",
       "Processing_Method        object\n",
       "Aroma                    object\n",
       "Flavor                   object\n",
       "Aftertaste               object\n",
       "Acidity                  object\n",
       "Body                    float64\n",
       "Balance                 float64\n",
       "Uniformity              float64\n",
       "Clean_Cup               float64\n",
       "Sweetness               float64\n",
       "Total_Cup_Points         object\n",
       "Moisture                 object\n",
       "Quakers                  object\n",
       "Color                    object\n",
       "Expiration               object\n",
       "Category_Two_Defects    float64\n",
       "Category_One_Defects     object\n",
       "dtype: object"
      ]
     },
     "execution_count": 19,
     "metadata": {},
     "output_type": "execute_result"
    }
   ],
   "source": [
    "coffee_beans.dtypes"
   ]
  },
  {
   "cell_type": "markdown",
   "id": "833286d2",
   "metadata": {},
   "source": [
    "## Explaratory Data Analysis"
   ]
  },
  {
   "cell_type": "markdown",
   "id": "ec310432",
   "metadata": {},
   "source": [
    "**Data cleaning on number of bags**"
   ]
  },
  {
   "cell_type": "code",
   "execution_count": 20,
   "id": "3149c844",
   "metadata": {},
   "outputs": [
    {
     "data": {
      "text/plain": [
       "Text(0.5, 1.0, 'Box Pot for Number of Bags')"
      ]
     },
     "execution_count": 20,
     "metadata": {},
     "output_type": "execute_result"
    },
    {
     "data": {
      "image/png": "[encoded data removed]",
      "text/plain": [
       "<Figure size 504x360 with 1 Axes>"
      ]
     },
     "metadata": {
      "needs_background": "light"
     },
     "output_type": "display_data"
    }
   ],
   "source": [
    "#converting object to int detecting outliers \n",
    "plt.figure(figsize=(7,5))\n",
    "coffee_beans['Number_of_Bags'] = coffee_beans['Number_of_Bags'].astype(int)\n",
    "sns.boxplot(data = coffee_beans[\"Number_of_Bags\"])\n",
    "plt.ylabel(\"Number of Bags\")\n",
    "plt.title(\"Box Pot for Number of Bags\")"
   ]
  },
  {
   "cell_type": "markdown",
   "id": "5a3a1163",
   "metadata": {},
   "source": [
    "The number of bags from the coffee beans dataset has a median of 200. Also the count of the number of bags is more between 20 to 280."
   ]
  },
  {
   "cell_type": "code",
   "execution_count": 21,
   "id": "9691ff44",
   "metadata": {},
   "outputs": [
    {
     "data": {
      "text/plain": [
       "array([150, 320, 440, 305, 275, 250,  10,  12, 180, 300, 100,  69, 220,\n",
       "        35,  60,   5,  37, 200,  50,  27,  25,   2,   1,  20, 274,  80,\n",
       "       550, 240,  15,  36, 230, 377, 130, 285,  29,   8,   6, 450, 500,\n",
       "       120,   3,  45,  11, 310, 325,  30, 166, 123, 134,  65,  39,  26,\n",
       "        84,   4,  93,  77,  16, 114,  24, 280,  31,  54,  75,  18,  17,\n",
       "        32,  49, 400, 380,  53, 125,  48,  33,  70,  44, 209,  43,   7])"
      ]
     },
     "execution_count": 21,
     "metadata": {},
     "output_type": "execute_result"
    }
   ],
   "source": [
    "coffee_beans['Number_of_Bags'].unique()"
   ]
  },
  {
   "cell_type": "markdown",
   "id": "8b85e42a",
   "metadata": {},
   "source": [
    "**Data cleaning on Bag Weight**"
   ]
  },
  {
   "cell_type": "code",
   "execution_count": 22,
   "id": "54d02b89",
   "metadata": {},
   "outputs": [
    {
     "data": {
      "text/plain": [
       "array(['60 kg', '59 kg', '69 kg', '2 lbs', '2 kg', '30 kg', '20 kg',\n",
       "       '1 kg', '66 kg', '50 kg', '67 kg', '5 kg', '46 kg', '12000 kg',\n",
       "       '10 kg', '0 kg', '1500 kg', '15 kg', '70 kg', '40 kg', '34 kg',\n",
       "       '25 kg', '1218 kg', '80 kg', '350 kg', '18975 kg', '3 lbs',\n",
       "       '1 lbs', '18 kg', '55 lbs', '5 lbs', '3 kg', '4 lbs', '9000 kg'],\n",
       "      dtype=object)"
      ]
     },
     "execution_count": 22,
     "metadata": {},
     "output_type": "execute_result"
    }
   ],
   "source": [
    "coffee_beans['Bag_Weight'].unique()"
   ]
  },
  {
   "cell_type": "code",
   "execution_count": 23,
   "id": "53ed26d3",
   "metadata": {},
   "outputs": [],
   "source": [
    "coffee_beans = coffee_beans.reset_index()"
   ]
  },
  {
   "cell_type": "code",
   "execution_count": 24,
   "id": "eba578bb",
   "metadata": {},
   "outputs": [
    {
     "name": "stderr",
     "output_type": "stream",
     "text": [
      "C:\\Users\\APARNA~1\\AppData\\Local\\Temp/ipykernel_18192/1200199441.py:3: SettingWithCopyWarning: \n",
      "A value is trying to be set on a copy of a slice from a DataFrame\n",
      "\n",
      "See the caveats in the documentation: https://pandas.pydata.org/pandas-docs/stable/user_guide/indexing.html#returning-a-view-versus-a-copy\n",
      "  coffee_beans['Bag_Weight'][i] = coffee_beans['Bag_Weight'][i].replace(\"2 lbs\",\"0.9 kg\")\n",
      "C:\\Users\\APARNA~1\\AppData\\Local\\Temp/ipykernel_18192/1200199441.py:5: SettingWithCopyWarning: \n",
      "A value is trying to be set on a copy of a slice from a DataFrame\n",
      "\n",
      "See the caveats in the documentation: https://pandas.pydata.org/pandas-docs/stable/user_guide/indexing.html#returning-a-view-versus-a-copy\n",
      "  coffee_beans['Bag_Weight'][i] = coffee_beans['Bag_Weight'][i].replace(\"3 lbs\",\"1.3 kg\")\n",
      "C:\\Users\\APARNA~1\\AppData\\Local\\Temp/ipykernel_18192/1200199441.py:7: SettingWithCopyWarning: \n",
      "A value is trying to be set on a copy of a slice from a DataFrame\n",
      "\n",
      "See the caveats in the documentation: https://pandas.pydata.org/pandas-docs/stable/user_guide/indexing.html#returning-a-view-versus-a-copy\n",
      "  coffee_beans['Bag_Weight'][i] = coffee_beans['Bag_Weight'][i].replace(\"1 lbs\",\"0.4 kg\")\n",
      "C:\\Users\\APARNA~1\\AppData\\Local\\Temp/ipykernel_18192/1200199441.py:9: SettingWithCopyWarning: \n",
      "A value is trying to be set on a copy of a slice from a DataFrame\n",
      "\n",
      "See the caveats in the documentation: https://pandas.pydata.org/pandas-docs/stable/user_guide/indexing.html#returning-a-view-versus-a-copy\n",
      "  coffee_beans['Bag_Weight'][i] = coffee_beans['Bag_Weight'][i].replace(\"55 lbs\",\"24.9 kg\")\n",
      "C:\\Users\\APARNA~1\\AppData\\Local\\Temp/ipykernel_18192/1200199441.py:11: SettingWithCopyWarning: \n",
      "A value is trying to be set on a copy of a slice from a DataFrame\n",
      "\n",
      "See the caveats in the documentation: https://pandas.pydata.org/pandas-docs/stable/user_guide/indexing.html#returning-a-view-versus-a-copy\n",
      "  coffee_beans['Bag_Weight'][i] = coffee_beans['Bag_Weight'][i].replace(\"5 lbs\",\"2.2 kg\")\n",
      "C:\\Users\\APARNA~1\\AppData\\Local\\Temp/ipykernel_18192/1200199441.py:13: SettingWithCopyWarning: \n",
      "A value is trying to be set on a copy of a slice from a DataFrame\n",
      "\n",
      "See the caveats in the documentation: https://pandas.pydata.org/pandas-docs/stable/user_guide/indexing.html#returning-a-view-versus-a-copy\n",
      "  coffee_beans['Bag_Weight'][i] = coffee_beans['Bag_Weight'][i].replace(\"4 lbs\",\"1.8 kg\")\n"
     ]
    }
   ],
   "source": [
    "for i in range(len(coffee_beans['Bag_Weight'])):\n",
    "    if coffee_beans['Bag_Weight'][i] == \"2 lbs\":\n",
    "        coffee_beans['Bag_Weight'][i] = coffee_beans['Bag_Weight'][i].replace(\"2 lbs\",\"0.9 kg\")\n",
    "    elif coffee_beans['Bag_Weight'][i] == \"3 lbs\":\n",
    "        coffee_beans['Bag_Weight'][i] = coffee_beans['Bag_Weight'][i].replace(\"3 lbs\",\"1.3 kg\")\n",
    "    elif coffee_beans['Bag_Weight'][i] == \"1 lbs\":\n",
    "        coffee_beans['Bag_Weight'][i] = coffee_beans['Bag_Weight'][i].replace(\"1 lbs\",\"0.4 kg\")\n",
    "    elif coffee_beans['Bag_Weight'][i] == \"55 lbs\":\n",
    "        coffee_beans['Bag_Weight'][i] = coffee_beans['Bag_Weight'][i].replace(\"55 lbs\",\"24.9 kg\")\n",
    "    elif coffee_beans['Bag_Weight'][i] == \"5 lbs\":\n",
    "        coffee_beans['Bag_Weight'][i] = coffee_beans['Bag_Weight'][i].replace(\"5 lbs\",\"2.2 kg\")\n",
    "    elif coffee_beans['Bag_Weight'][i] == \"4 lbs\":\n",
    "        coffee_beans['Bag_Weight'][i] = coffee_beans['Bag_Weight'][i].replace(\"4 lbs\",\"1.8 kg\") "
   ]
  },
  {
   "cell_type": "code",
   "execution_count": 25,
   "id": "8ba01c50",
   "metadata": {},
   "outputs": [
    {
     "data": {
      "text/plain": [
       "array(['60 kg', '59 kg', '69 kg', '0.9 kg', '2 kg', '30 kg', '20 kg',\n",
       "       '1 kg', '66 kg', '50 kg', '67 kg', '5 kg', '46 kg', '12000 kg',\n",
       "       '10 kg', '0 kg', '1500 kg', '15 kg', '70 kg', '40 kg', '34 kg',\n",
       "       '25 kg', '1218 kg', '80 kg', '350 kg', '18975 kg', '1.3 kg',\n",
       "       '0.4 kg', '18 kg', '24.9 kg', '2.2 kg', '3 kg', '1.8 kg',\n",
       "       '9000 kg'], dtype=object)"
      ]
     },
     "execution_count": 25,
     "metadata": {},
     "output_type": "execute_result"
    }
   ],
   "source": [
    "coffee_beans['Bag_Weight'].unique()"
   ]
  },
  {
   "cell_type": "code",
   "execution_count": 26,
   "id": "d30bfdb4",
   "metadata": {},
   "outputs": [
    {
     "name": "stderr",
     "output_type": "stream",
     "text": [
      "C:\\Users\\APARNA~1\\AppData\\Local\\Temp/ipykernel_18192/545446223.py:2: SettingWithCopyWarning: \n",
      "A value is trying to be set on a copy of a slice from a DataFrame\n",
      "\n",
      "See the caveats in the documentation: https://pandas.pydata.org/pandas-docs/stable/user_guide/indexing.html#returning-a-view-versus-a-copy\n",
      "  coffee_beans['Bag_Weight'][i] = coffee_beans['Bag_Weight'][i].replace(\" kg\",\"\")\n"
     ]
    }
   ],
   "source": [
    "for i in range(len(coffee_beans['Bag_Weight'])):\n",
    "    coffee_beans['Bag_Weight'][i] = coffee_beans['Bag_Weight'][i].replace(\" kg\",\"\")"
   ]
  },
  {
   "cell_type": "code",
   "execution_count": 27,
   "id": "195215c0",
   "metadata": {},
   "outputs": [
    {
     "data": {
      "text/plain": [
       "array(['60', '59', '69', '0.9', '2', '30', '20', '1', '66', '50', '67',\n",
       "       '5', '46', '12000', '10', '0', '1500', '15', '70', '40', '34',\n",
       "       '25', '1218', '80', '350', '18975', '1.3', '0.4', '18', '24.9',\n",
       "       '2.2', '3', '1.8', '9000'], dtype=object)"
      ]
     },
     "execution_count": 27,
     "metadata": {},
     "output_type": "execute_result"
    }
   ],
   "source": [
    "coffee_beans['Bag_Weight'].unique()"
   ]
  },
  {
   "cell_type": "code",
   "execution_count": 28,
   "id": "a449cd93",
   "metadata": {},
   "outputs": [],
   "source": [
    "coffee_beans['Bag_Weight'] = coffee_beans['Bag_Weight'].astype(float)"
   ]
  },
  {
   "cell_type": "code",
   "execution_count": 29,
   "id": "da976b21",
   "metadata": {},
   "outputs": [
    {
     "data": {
      "text/plain": [
       "Text(0.5, 1.0, 'Box Pot for the Weight of the Bags')"
      ]
     },
     "execution_count": 29,
     "metadata": {},
     "output_type": "execute_result"
    },
    {
     "data": {
      "image/png": "[encoded data removed]",
      "text/plain": [
       "<Figure size 504x360 with 1 Axes>"
      ]
     },
     "metadata": {
      "needs_background": "light"
     },
     "output_type": "display_data"
    }
   ],
   "source": [
    "plt.figure(figsize=(7,5))\n",
    "sns.boxplot(data = coffee_beans,x='Bag_Weight')\n",
    "plt.xlabel(\"Weight of the bags\")\n",
    "plt.title(\"Box Pot for the Weight of the Bags\")"
   ]
  },
  {
   "cell_type": "markdown",
   "id": "8da75baa",
   "metadata": {},
   "source": [
    "There are outliers in the Weight of the bag column, which can result in misleading interpretations. So removing the outliers."
   ]
  },
  {
   "cell_type": "code",
   "execution_count": 30,
   "id": "87d39567",
   "metadata": {},
   "outputs": [
    {
     "data": {
      "text/plain": [
       "132    12000.0\n",
       "154     1500.0\n",
       "216     1218.0\n",
       "253      350.0\n",
       "261    18975.0\n",
       "271    18975.0\n",
       "385    18975.0\n",
       "528     9000.0\n",
       "Name: Bag_Weight, dtype: float64"
      ]
     },
     "execution_count": 30,
     "metadata": {},
     "output_type": "execute_result"
    }
   ],
   "source": [
    "coffee_beans[coffee_beans['Bag_Weight'] > 100]['Bag_Weight']"
   ]
  },
  {
   "cell_type": "code",
   "execution_count": 31,
   "id": "c7c53578",
   "metadata": {},
   "outputs": [],
   "source": [
    "coffee_beans.drop(coffee_beans[coffee_beans.Bag_Weight > 100].index, inplace=True)"
   ]
  },
  {
   "cell_type": "code",
   "execution_count": 32,
   "id": "939ca790",
   "metadata": {},
   "outputs": [
    {
     "data": {
      "text/plain": [
       "Text(0.5, 1.0, 'Box Pot for the Weight of the Bags')"
      ]
     },
     "execution_count": 32,
     "metadata": {},
     "output_type": "execute_result"
    },
    {
     "data": {
      "image/png": "[encoded data removed]",
      "text/plain": [
       "<Figure size 504x360 with 1 Axes>"
      ]
     },
     "metadata": {
      "needs_background": "light"
     },
     "output_type": "display_data"
    }
   ],
   "source": [
    "plt.figure(figsize=(7,5))\n",
    "sns.boxplot(data = coffee_beans,x='Bag_Weight')\n",
    "plt.xlabel(\"Weight of the bags\")\n",
    "plt.title(\"Box Pot for the Weight of the Bags\")"
   ]
  },
  {
   "cell_type": "markdown",
   "id": "e9be7f66",
   "metadata": {},
   "source": [
    "After removing the outliers present in the data, the median is 60 for the weight of the bags, having Q1 at 3 and Q3 at 70. The weight of the bags is more distributed between 0 to 70."
   ]
  },
  {
   "cell_type": "code",
   "execution_count": 33,
   "id": "c493b32e",
   "metadata": {},
   "outputs": [
    {
     "data": {
      "text/plain": [
       "(631, 31)"
      ]
     },
     "execution_count": 33,
     "metadata": {},
     "output_type": "execute_result"
    }
   ],
   "source": [
    "coffee_beans.shape "
   ]
  },
  {
   "cell_type": "markdown",
   "id": "06e580c7",
   "metadata": {},
   "source": [
    "**Data Cleaning on Harvest_Year**"
   ]
  },
  {
   "cell_type": "code",
   "execution_count": 34,
   "id": "e7021b8c",
   "metadata": {},
   "outputs": [
    {
     "data": {
      "text/plain": [
       "array(['2017 / 2018', '2016 / 2017', '2015/2016', '2014/2015',\n",
       "       '2013/2014', '2011/2012', '2018', '2017', '2016', '2015', '2014',\n",
       "       '2013', '2012', '2011'], dtype=object)"
      ]
     },
     "execution_count": 34,
     "metadata": {},
     "output_type": "execute_result"
    }
   ],
   "source": [
    "coffee_beans['Harvest_Year'].unique()"
   ]
  },
  {
   "cell_type": "code",
   "execution_count": 35,
   "id": "6966e426",
   "metadata": {},
   "outputs": [],
   "source": [
    "coffee_beans = coffee_beans.drop(columns = ['level_0'])\n",
    "coffee_beans = coffee_beans.reset_index()"
   ]
  },
  {
   "cell_type": "code",
   "execution_count": 36,
   "id": "3f0efca8",
   "metadata": {},
   "outputs": [
    {
     "name": "stderr",
     "output_type": "stream",
     "text": [
      "C:\\Users\\APARNA~1\\AppData\\Local\\Temp/ipykernel_18192/2451717445.py:3: SettingWithCopyWarning: \n",
      "A value is trying to be set on a copy of a slice from a DataFrame\n",
      "\n",
      "See the caveats in the documentation: https://pandas.pydata.org/pandas-docs/stable/user_guide/indexing.html#returning-a-view-versus-a-copy\n",
      "  coffee_beans['Harvest_Year'][i] = coffee_beans['Harvest_Year'][i].replace(\"2017 / 2018\",\"2018\")\n",
      "C:\\Users\\APARNA~1\\AppData\\Local\\Temp/ipykernel_18192/2451717445.py:5: SettingWithCopyWarning: \n",
      "A value is trying to be set on a copy of a slice from a DataFrame\n",
      "\n",
      "See the caveats in the documentation: https://pandas.pydata.org/pandas-docs/stable/user_guide/indexing.html#returning-a-view-versus-a-copy\n",
      "  coffee_beans['Harvest_Year'][i] = coffee_beans['Harvest_Year'][i].replace(\"2016 / 2017\",\"2017\")\n",
      "C:\\Users\\APARNA~1\\AppData\\Local\\Temp/ipykernel_18192/2451717445.py:7: SettingWithCopyWarning: \n",
      "A value is trying to be set on a copy of a slice from a DataFrame\n",
      "\n",
      "See the caveats in the documentation: https://pandas.pydata.org/pandas-docs/stable/user_guide/indexing.html#returning-a-view-versus-a-copy\n",
      "  coffee_beans['Harvest_Year'][i] = coffee_beans['Harvest_Year'][i].replace(\"2015/2016\",\"2016\")\n",
      "C:\\Users\\APARNA~1\\AppData\\Local\\Temp/ipykernel_18192/2451717445.py:9: SettingWithCopyWarning: \n",
      "A value is trying to be set on a copy of a slice from a DataFrame\n",
      "\n",
      "See the caveats in the documentation: https://pandas.pydata.org/pandas-docs/stable/user_guide/indexing.html#returning-a-view-versus-a-copy\n",
      "  coffee_beans['Harvest_Year'][i] = coffee_beans['Harvest_Year'][i].replace(\"2014/2015\",\"2015\")\n",
      "C:\\Users\\APARNA~1\\AppData\\Local\\Temp/ipykernel_18192/2451717445.py:11: SettingWithCopyWarning: \n",
      "A value is trying to be set on a copy of a slice from a DataFrame\n",
      "\n",
      "See the caveats in the documentation: https://pandas.pydata.org/pandas-docs/stable/user_guide/indexing.html#returning-a-view-versus-a-copy\n",
      "  coffee_beans['Harvest_Year'][i] = coffee_beans['Harvest_Year'][i].replace(\"2013/2014\",\"2014\")\n",
      "C:\\Users\\APARNA~1\\AppData\\Local\\Temp/ipykernel_18192/2451717445.py:13: SettingWithCopyWarning: \n",
      "A value is trying to be set on a copy of a slice from a DataFrame\n",
      "\n",
      "See the caveats in the documentation: https://pandas.pydata.org/pandas-docs/stable/user_guide/indexing.html#returning-a-view-versus-a-copy\n",
      "  coffee_beans['Harvest_Year'][i] = coffee_beans['Harvest_Year'][i].replace(\"2011/2012\",\"2012\")\n"
     ]
    }
   ],
   "source": [
    "for i in range(len(coffee_beans['Harvest_Year'])):\n",
    "    if coffee_beans['Harvest_Year'][i] == \"2017 / 2018\":\n",
    "        coffee_beans['Harvest_Year'][i] = coffee_beans['Harvest_Year'][i].replace(\"2017 / 2018\",\"2018\")\n",
    "    elif coffee_beans['Harvest_Year'][i] == \"2016 / 2017\":\n",
    "        coffee_beans['Harvest_Year'][i] = coffee_beans['Harvest_Year'][i].replace(\"2016 / 2017\",\"2017\")\n",
    "    elif coffee_beans['Harvest_Year'][i] == \"2015/2016\":\n",
    "        coffee_beans['Harvest_Year'][i] = coffee_beans['Harvest_Year'][i].replace(\"2015/2016\",\"2016\")\n",
    "    elif coffee_beans['Harvest_Year'][i] == \"2014/2015\":\n",
    "        coffee_beans['Harvest_Year'][i] = coffee_beans['Harvest_Year'][i].replace(\"2014/2015\",\"2015\")\n",
    "    elif coffee_beans['Harvest_Year'][i] == \"2013/2014\":\n",
    "        coffee_beans['Harvest_Year'][i] = coffee_beans['Harvest_Year'][i].replace(\"2013/2014\",\"2014\")\n",
    "    elif coffee_beans['Harvest_Year'][i] == \"2011/2012\":\n",
    "        coffee_beans['Harvest_Year'][i] = coffee_beans['Harvest_Year'][i].replace(\"2011/2012\",\"2012\")"
   ]
  },
  {
   "cell_type": "code",
   "execution_count": 37,
   "id": "4f0baa99",
   "metadata": {},
   "outputs": [],
   "source": [
    "coffee_beans['Harvest_Year'] = pd.to_datetime(coffee_beans['Harvest_Year'])"
   ]
  },
  {
   "cell_type": "code",
   "execution_count": 38,
   "id": "098f0cec",
   "metadata": {},
   "outputs": [
    {
     "data": {
      "text/plain": [
       "Text(0.5, 1.0, 'Histogram on Harvest Year')"
      ]
     },
     "execution_count": 38,
     "metadata": {},
     "output_type": "execute_result"
    },
    {
     "data": {
      "image/png": "[encoded data removed]",
      "text/plain": [
       "<Figure size 504x360 with 1 Axes>"
      ]
     },
     "metadata": {
      "needs_background": "light"
     },
     "output_type": "display_data"
    }
   ],
   "source": [
    "plt.figure(figsize=(7,5))\n",
    "sns.histplot(data = coffee_beans, x='Harvest_Year')\n",
    "plt.title(\"Histogram on Harvest Year\")"
   ]
  },
  {
   "cell_type": "markdown",
   "id": "a5075cfb",
   "metadata": {},
   "source": [
    "More number of Harvests were in the year 2014, and next comes 2012 with almost 120 harvests. In the year 2011 there are very less number of harvests for coffee beans"
   ]
  },
  {
   "cell_type": "markdown",
   "id": "6db2de2c",
   "metadata": {},
   "source": [
    "**Data Cleaning on Aroma**"
   ]
  },
  {
   "cell_type": "code",
   "execution_count": 39,
   "id": "80c1d0ee",
   "metadata": {},
   "outputs": [
    {
     "data": {
      "text/plain": [
       "array(['7.33', '7.5', '7.67', '7.58', '7.42', '7.17', '8.17', '7.25',\n",
       "       '8.25', '6.92', '7.08', '7.75', '8', '7.92', '7.83', '8.42',\n",
       "       '8.08', '8.75', '7', '6.83', '6.33', '6.67', '8.33', '6.5', '6.75',\n",
       "       '8.5'], dtype=object)"
      ]
     },
     "execution_count": 39,
     "metadata": {},
     "output_type": "execute_result"
    }
   ],
   "source": [
    "coffee_beans['Aroma'].unique()"
   ]
  },
  {
   "cell_type": "code",
   "execution_count": 40,
   "id": "6c335ddf",
   "metadata": {},
   "outputs": [],
   "source": [
    "coffee_beans['Aroma'] = coffee_beans['Aroma'].astype(float)"
   ]
  },
  {
   "cell_type": "code",
   "execution_count": 41,
   "id": "0a2a1fde",
   "metadata": {},
   "outputs": [
    {
     "data": {
      "text/plain": [
       "Text(0.5, 1.0, 'KDE on Aroma')"
      ]
     },
     "execution_count": 41,
     "metadata": {},
     "output_type": "execute_result"
    },
    {
     "data": {
      "image/png": "[encoded data removed]",
      "text/plain": [
       "<Figure size 504x360 with 1 Axes>"
      ]
     },
     "metadata": {
      "needs_background": "light"
     },
     "output_type": "display_data"
    }
   ],
   "source": [
    "plt.figure(figsize=(7,5))\n",
    "sns.kdeplot(data=coffee_beans['Aroma'])\n",
    "plt.title(\"KDE on Aroma\")"
   ]
  },
  {
   "cell_type": "markdown",
   "id": "a210d169",
   "metadata": {},
   "source": [
    "Aroma can vary from coffee bean to coffee bean, so considering there are no outliers in Aroma. There are a lot of coffee beans that have an aroma around 7.5 which is the mean value."
   ]
  },
  {
   "cell_type": "markdown",
   "id": "25d19e40",
   "metadata": {},
   "source": [
    "**Data Cleaning on Flavor**"
   ]
  },
  {
   "cell_type": "code",
   "execution_count": 42,
   "id": "03558a55",
   "metadata": {},
   "outputs": [
    {
     "data": {
      "text/plain": [
       "array(['7.58', '7.75', '7.67', '7.83', '7.42', '7.5', '7.33', '7.25', '7',\n",
       "       '7.17', '8.08', '7.92', '6.92', '7.08', '8', '6.58', '8.25',\n",
       "       '8.17', '8.67', '8.5', '8.58', '6.83', '6.75', '6.5', '6.17',\n",
       "       '6.33', '8.33', '6.67'], dtype=object)"
      ]
     },
     "execution_count": 42,
     "metadata": {},
     "output_type": "execute_result"
    }
   ],
   "source": [
    "coffee_beans['Flavor'].unique()"
   ]
  },
  {
   "cell_type": "code",
   "execution_count": 43,
   "id": "51de2b10",
   "metadata": {},
   "outputs": [],
   "source": [
    "coffee_beans['Flavor'] = coffee_beans['Flavor'].astype(float)"
   ]
  },
  {
   "cell_type": "code",
   "execution_count": 44,
   "id": "7c5e9576",
   "metadata": {},
   "outputs": [
    {
     "data": {
      "text/plain": [
       "Text(0.5, 1.0, 'Line plot on Flavor')"
      ]
     },
     "execution_count": 44,
     "metadata": {},
     "output_type": "execute_result"
    },
    {
     "data": {
      "image/png": "[encoded data removed]",
      "text/plain": [
       "<Figure size 720x360 with 1 Axes>"
      ]
     },
     "metadata": {
      "needs_background": "light"
     },
     "output_type": "display_data"
    }
   ],
   "source": [
    "plt.figure(figsize=(10,5))\n",
    "sns.lineplot(data = coffee_beans['Flavor'])\n",
    "plt.title(\"Line plot on Flavor\")"
   ]
  },
  {
   "cell_type": "markdown",
   "id": "8ff68ebb",
   "metadata": {},
   "source": [
    "The flavour of the coffee beans ranges from 6 to 9. So from index from 0 to 100 ranges from 7 to 8 of the flavor."
   ]
  },
  {
   "cell_type": "markdown",
   "id": "dd539f59",
   "metadata": {},
   "source": [
    "**Data Cleaning on Aftertaste**"
   ]
  },
  {
   "cell_type": "code",
   "execution_count": 45,
   "id": "4175566a",
   "metadata": {},
   "outputs": [
    {
     "data": {
      "text/plain": [
       "array(['7.83', '7.58', '7.5', '7.25', '7.42', '7.33', '7', '8', '7.67',\n",
       "       '6.83', '6.92', '7.17', '7.75', '7.08', '7.92', '6.75', '6.33',\n",
       "       '8.08', '8.5', '8.25', '6.58', '6.67', '6.17', '8.17', '6.5',\n",
       "       '6.42'], dtype=object)"
      ]
     },
     "execution_count": 45,
     "metadata": {},
     "output_type": "execute_result"
    }
   ],
   "source": [
    "coffee_beans['Aftertaste'].unique()"
   ]
  },
  {
   "cell_type": "code",
   "execution_count": 46,
   "id": "06dfa36b",
   "metadata": {},
   "outputs": [],
   "source": [
    "coffee_beans['Aftertaste'] = coffee_beans['Aftertaste'].astype(float)"
   ]
  },
  {
   "cell_type": "code",
   "execution_count": 47,
   "id": "b69aa67f",
   "metadata": {},
   "outputs": [
    {
     "name": "stderr",
     "output_type": "stream",
     "text": [
      "C:\\Users\\Aparna Akula\\anaconda3\\lib\\site-packages\\seaborn\\_decorators.py:36: FutureWarning: Pass the following variable as a keyword arg: x. From version 0.12, the only valid positional argument will be `data`, and passing other arguments without an explicit keyword will result in an error or misinterpretation.\n",
      "  warnings.warn(\n"
     ]
    },
    {
     "data": {
      "text/plain": [
       "Text(0.5, 1.0, 'Box plot on Aftertaste')"
      ]
     },
     "execution_count": 47,
     "metadata": {},
     "output_type": "execute_result"
    },
    {
     "data": {
      "image/png": "[encoded data removed]",
      "text/plain": [
       "<Figure size 504x360 with 1 Axes>"
      ]
     },
     "metadata": {
      "needs_background": "light"
     },
     "output_type": "display_data"
    }
   ],
   "source": [
    "plt.figure(figsize=(7,5))\n",
    "sns.boxplot(coffee_beans['Aftertaste'])\n",
    "plt.title(\"Box plot on Aftertaste\")"
   ]
  },
  {
   "cell_type": "markdown",
   "id": "01ced64e",
   "metadata": {},
   "source": [
    "Aftertaste of the coffee beans ranges from 6 to 8.5, and the medain is almost 7.3."
   ]
  },
  {
   "cell_type": "markdown",
   "id": "0a2ab429",
   "metadata": {},
   "source": [
    "**Data Cleaning on Acidity**"
   ]
  },
  {
   "cell_type": "code",
   "execution_count": 48,
   "id": "33de3fa5",
   "metadata": {},
   "outputs": [
    {
     "data": {
      "text/plain": [
       "array(['7.75', '7.5', '7.67', '7.58', '7.08', '7.17', '8.08', '8', '7.33',\n",
       "       '7.42', '8.33', '6.92', '7.25', '7.83', '7', '7.92', '6.83',\n",
       "       '6.25', '8.17', '8.25', '8.58', '8.5', '6.67', '6.5'], dtype=object)"
      ]
     },
     "execution_count": 48,
     "metadata": {},
     "output_type": "execute_result"
    }
   ],
   "source": [
    "coffee_beans['Acidity'].unique()"
   ]
  },
  {
   "cell_type": "code",
   "execution_count": 49,
   "id": "4543c6f4",
   "metadata": {},
   "outputs": [],
   "source": [
    "coffee_beans['Acidity'] = coffee_beans['Acidity'].astype(float)"
   ]
  },
  {
   "cell_type": "code",
   "execution_count": 50,
   "id": "13f4a15c",
   "metadata": {},
   "outputs": [
    {
     "data": {
      "text/plain": [
       "Text(0.5, 1.0, 'Histogram on Acidity')"
      ]
     },
     "execution_count": 50,
     "metadata": {},
     "output_type": "execute_result"
    },
    {
     "data": {
      "image/png": "[encoded data removed]",
      "text/plain": [
       "<Figure size 720x504 with 1 Axes>"
      ]
     },
     "metadata": {
      "needs_background": "light"
     },
     "output_type": "display_data"
    }
   ],
   "source": [
    "plt.figure(figsize=(10,7))\n",
    "sns.histplot(coffee_beans['Acidity'])\n",
    "plt.title(\"Histogram on Acidity\")"
   ]
  },
  {
   "cell_type": "markdown",
   "id": "5fb2f108",
   "metadata": {},
   "source": [
    "Acidity ranges from 8.5 to 6.5. The acidity is 7.5 for more number of coffee beans and very less number of coffee beans have an acidity of 6.5"
   ]
  },
  {
   "cell_type": "markdown",
   "id": "fd42fc94",
   "metadata": {},
   "source": [
    "**Visualizing on Body, Balance, Uniformity, Clean_Cup, Sweetness**"
   ]
  },
  {
   "cell_type": "code",
   "execution_count": 51,
   "id": "7a8a4e78",
   "metadata": {},
   "outputs": [
    {
     "data": {
      "image/png": "[encoded data removed]",
      "text/plain": [
       "<Figure size 1080x720 with 6 Axes>"
      ]
     },
     "metadata": {
      "needs_background": "light"
     },
     "output_type": "display_data"
    }
   ],
   "source": [
    "fig, ax = plt.subplots(nrows=3, ncols=2, figsize=(15,10))\n",
    "sns.boxplot(data=coffee_beans, x='Body', ax=ax[0][0])\n",
    "sns.boxplot(data=coffee_beans, x='Balance', ax=ax[0][1])\n",
    "sns.boxplot(data=coffee_beans, x='Uniformity', ax=ax[1][0])\n",
    "sns.boxplot(data=coffee_beans, x='Clean_Cup', ax=ax[1][1]) \n",
    "sns.boxplot(data=coffee_beans, x='Sweetness', ax=ax[2][0]);"
   ]
  },
  {
   "cell_type": "markdown",
   "id": "4ae92c39",
   "metadata": {},
   "source": [
    "**Box plots on Body, Balace, Uniformity, Clean_Cup, Sweetness**\n",
    "\n",
    "All these quantitave values like Body, Balance, Uniformity, Clean_Cup, Sweetness have outliers but the range will be varied from coffee bean to coffee bean so not removing those values."
   ]
  },
  {
   "cell_type": "markdown",
   "id": "b2ea942e",
   "metadata": {},
   "source": [
    "**Data Cleaning on Total_Cup_Points**"
   ]
  },
  {
   "cell_type": "code",
   "execution_count": 52,
   "id": "5e7ae029",
   "metadata": {},
   "outputs": [
    {
     "data": {
      "text/plain": [
       "array(['84.33', '83.92', '83.75', '83.67', '83.58', '83.17', '83',\n",
       "       '82.92', '82.67', '82.5', '81.67', '80.25', '77.33', '81.92',\n",
       "       '81.33', '86.33', '83.83', '83.33', '83.08', '82.42', '82.33',\n",
       "       '82.25', '82.17', '82.08', '81.83', '81.42', '81.25', '81.17',\n",
       "       '80.67', '80.5', '80.33', '80.92', '80.58', '84.67', '84', '81.58',\n",
       "       '81.5', '81', '80.08', '80', '85.83', '84.42', '84.17', '83.42',\n",
       "       '83.25', '82.83', '82.75', '82.58', '82', '81.75', '79.83',\n",
       "       '79.17', '79.08', '85', '84.83', '84.25', '84.08', '83.5', '81.08',\n",
       "       '80.83', '79.75', '79.67', '78.83', '78', '63.08', '87.25',\n",
       "       '86.58', '86.08', '85.33', '85.25', '84.92', '84.5', '80.75',\n",
       "       '80.17', '79.5', '89.92', '88.83', '88.25', '87.17', '84.75',\n",
       "       '84.58', '80.42', '79.42', '79.25', '79', '78.58', '78.5', '78.33',\n",
       "       '77.92', '77', '76', '73.42', '71.75', '70.75', '69.33', '69.17',\n",
       "       '86.83', '86.25', '85.92', '85.58', '85.5', '85.42', '79.92',\n",
       "       '79.33', '78.92', '78.75', '78.67', '77.83', '77.42', '74.67',\n",
       "       '74.33', '86.17', '77.67', '77.17', '76.33', '76.08', '75.58',\n",
       "       '75.5', '75.17', '75', '71.08', '67.92', '59.83', '86.92', '86.42'],\n",
       "      dtype=object)"
      ]
     },
     "execution_count": 52,
     "metadata": {},
     "output_type": "execute_result"
    }
   ],
   "source": [
    "coffee_beans['Total_Cup_Points'].unique()"
   ]
  },
  {
   "cell_type": "code",
   "execution_count": 53,
   "id": "0dd9bd05",
   "metadata": {},
   "outputs": [],
   "source": [
    "coffee_beans['Total_Cup_Points'] = coffee_beans['Total_Cup_Points'].astype(float)"
   ]
  },
  {
   "cell_type": "code",
   "execution_count": 54,
   "id": "769566fb",
   "metadata": {},
   "outputs": [
    {
     "data": {
      "text/plain": [
       "Text(0.5, 1.0, 'KDE on Total_Cup_Points')"
      ]
     },
     "execution_count": 54,
     "metadata": {},
     "output_type": "execute_result"
    },
    {
     "data": {
      "image/png": "[encoded data removed]",
      "text/plain": [
       "<Figure size 504x360 with 1 Axes>"
      ]
     },
     "metadata": {
      "needs_background": "light"
     },
     "output_type": "display_data"
    }
   ],
   "source": [
    "plt.figure(figsize=(7,5))\n",
    "sns.kdeplot(coffee_beans['Total_Cup_Points'] )\n",
    "plt.title(\"KDE on Total_Cup_Points\")"
   ]
  },
  {
   "cell_type": "markdown",
   "id": "418c2ace",
   "metadata": {},
   "source": [
    "The mean on Total_Cup_Points is 83 and it ranges from 60 to 90. Also Total_Cup_Points seems to be right skewed."
   ]
  },
  {
   "cell_type": "markdown",
   "id": "32cf96ee",
   "metadata": {},
   "source": [
    "**Data Cleaning on Moisture**"
   ]
  },
  {
   "cell_type": "code",
   "execution_count": 55,
   "id": "24f6925a",
   "metadata": {},
   "outputs": [
    {
     "data": {
      "text/plain": [
       "array(['0.11', '0', '0.1', '0.13', '0.07', '0.12', '0.08', '0.09', '0.06',\n",
       "       '0.14', '0.17'], dtype=object)"
      ]
     },
     "execution_count": 55,
     "metadata": {},
     "output_type": "execute_result"
    }
   ],
   "source": [
    "coffee_beans['Moisture'].unique()"
   ]
  },
  {
   "cell_type": "code",
   "execution_count": 56,
   "id": "c9cf53bc",
   "metadata": {},
   "outputs": [],
   "source": [
    "coffee_beans['Moisture'] = coffee_beans['Moisture'].astype(float)"
   ]
  },
  {
   "cell_type": "code",
   "execution_count": 57,
   "id": "5d11ad93",
   "metadata": {},
   "outputs": [
    {
     "name": "stderr",
     "output_type": "stream",
     "text": [
      "C:\\Users\\Aparna Akula\\anaconda3\\lib\\site-packages\\seaborn\\_decorators.py:36: FutureWarning: Pass the following variable as a keyword arg: x. From version 0.12, the only valid positional argument will be `data`, and passing other arguments without an explicit keyword will result in an error or misinterpretation.\n",
      "  warnings.warn(\n"
     ]
    },
    {
     "data": {
      "text/plain": [
       "Text(0.5, 1.0, 'Box Plot on Moisture')"
      ]
     },
     "execution_count": 57,
     "metadata": {},
     "output_type": "execute_result"
    },
    {
     "data": {
      "image/png": "[encoded data removed]",
      "text/plain": [
       "<Figure size 504x360 with 1 Axes>"
      ]
     },
     "metadata": {
      "needs_background": "light"
     },
     "output_type": "display_data"
    }
   ],
   "source": [
    "plt.figure(figsize=(7,5))\n",
    "sns.boxplot(coffee_beans['Moisture'])\n",
    "plt.title(\"Box Plot on Moisture\")"
   ]
  },
  {
   "cell_type": "markdown",
   "id": "a814a598",
   "metadata": {},
   "source": [
    "The moisture of the coffee beans vary from 0 to 0.175. The median is between 0.100 to 0.125"
   ]
  },
  {
   "cell_type": "markdown",
   "id": "5644c51c",
   "metadata": {},
   "source": [
    "**Data Cleaning on Quakers**"
   ]
  },
  {
   "cell_type": "code",
   "execution_count": 58,
   "id": "d94dea6f",
   "metadata": {},
   "outputs": [
    {
     "data": {
      "text/plain": [
       "array(['0', '1', '2', '11', '5', '4', '7', '3', '8', '6'], dtype=object)"
      ]
     },
     "execution_count": 58,
     "metadata": {},
     "output_type": "execute_result"
    }
   ],
   "source": [
    "coffee_beans['Quakers'].unique()"
   ]
  },
  {
   "cell_type": "code",
   "execution_count": 59,
   "id": "b2cf88b2",
   "metadata": {},
   "outputs": [],
   "source": [
    "coffee_beans['Quakers'] = coffee_beans['Quakers'].astype(int)"
   ]
  },
  {
   "cell_type": "code",
   "execution_count": 60,
   "id": "91c160fb",
   "metadata": {},
   "outputs": [
    {
     "data": {
      "text/plain": [
       "Text(0.5, 1.0, 'Histograms on Quakers')"
      ]
     },
     "execution_count": 60,
     "metadata": {},
     "output_type": "execute_result"
    },
    {
     "data": {
      "image/png": "[encoded data removed]",
      "text/plain": [
       "<Figure size 720x360 with 1 Axes>"
      ]
     },
     "metadata": {
      "needs_background": "light"
     },
     "output_type": "display_data"
    }
   ],
   "source": [
    "plt.figure(figsize=(10,5))\n",
    "sns.histplot(coffee_beans['Quakers'])\n",
    "plt.title(\"Histograms on Quakers\")"
   ]
  },
  {
   "cell_type": "markdown",
   "id": "4d144a81",
   "metadata": {},
   "source": [
    "A lot of coffee beans have quakers from 0 to 1."
   ]
  },
  {
   "cell_type": "markdown",
   "id": "4310aa1c",
   "metadata": {},
   "source": [
    "**Data Cleaning on Expiration**"
   ]
  },
  {
   "cell_type": "code",
   "execution_count": 61,
   "id": "461bef24",
   "metadata": {},
   "outputs": [
    {
     "data": {
      "text/plain": [
       "array(['August 3rd, 2018', 'October 20th, 2018', 'November 3rd, 2018',\n",
       "       'October 26th, 2017', 'June 9th, 2017', 'December 2nd, 2016',\n",
       "       'October 7th, 2016', 'October 11th, 2016', 'November 15th, 2016',\n",
       "       'November 19th, 2016', 'October 22nd, 2016', 'November 16th, 2016',\n",
       "       'October 16th, 2015', 'August 15th, 2015', 'October 15th, 2015',\n",
       "       'October 17th, 2015', 'December 16th, 2015', 'December 26th, 2014',\n",
       "       'January 2nd, 2015', 'January 14th, 2015', 'December 30th, 2014',\n",
       "       'November 6th, 2014', 'December 20th, 2012', 'January 19th, 2019',\n",
       "       'October 9th, 2018', 'March 14th, 2018', 'June 1st, 2018',\n",
       "       'June 5th, 2018', 'May 11th, 2018', 'July 3rd, 2018',\n",
       "       'August 23rd, 2018', 'March 7th, 2018', 'August 24th, 2018',\n",
       "       'August 28th, 2018', 'October 13th, 2018', 'June 22nd, 2018',\n",
       "       'October 17th, 2018', 'September 19th, 2018',\n",
       "       'September 8th, 2018', 'August 22nd, 2018', 'August 8th, 2018',\n",
       "       'April 6th, 2018', 'September 4th, 2018', 'June 3rd, 2018',\n",
       "       'September 27th, 2018', 'June 20th, 2018', 'May 12th, 2018',\n",
       "       'December 8th, 2018', 'July 7th, 2018', 'June 13th, 2018',\n",
       "       'July 27th, 2018', 'July 24th, 2018', 'January 30th, 2018',\n",
       "       'May 18th, 2017', 'June 26th, 2018', 'November 24th, 2017',\n",
       "       'March 23rd, 2018', 'April 4th, 2017', 'August 10th, 2018',\n",
       "       'May 23rd, 2017', 'August 19th, 2017', 'June 23rd, 2017',\n",
       "       'June 1st, 2017', 'August 16th, 2017', 'June 6th, 2018',\n",
       "       'July 5th, 2017', 'March 16th, 2017', 'February 17th, 2018',\n",
       "       'August 12th, 2017', 'May 2nd, 2017', 'March 29th, 2017',\n",
       "       'June 28th, 2017', 'February 25th, 2017', 'April 8th, 2017',\n",
       "       'April 28th, 2018', 'February 9th, 2018', 'August 31st, 2017',\n",
       "       'February 13th, 2018', 'January 20th, 2018', 'July 15th, 2017',\n",
       "       'March 17th, 2017', 'June 21st, 2018', 'August 2nd, 2017',\n",
       "       'April 26th, 2017', 'May 22nd, 2018', 'April 7th, 2017',\n",
       "       'June 9th, 2016', 'April 6th, 2017', 'April 7th, 2016',\n",
       "       'September 21st, 2017', 'June 8th, 2016', 'October 4th, 2017',\n",
       "       'November 2nd, 2017', 'August 2nd, 2016', 'October 18th, 2017',\n",
       "       'June 6th, 2017', 'September 13th, 2016', 'June 27th, 2017',\n",
       "       'July 13th, 2016', 'June 17th, 2016', 'April 5th, 2017',\n",
       "       'October 28th, 2016', 'September 28th, 2016', 'April 25th, 2017',\n",
       "       'May 18th, 2016', 'July 18th, 2017', 'July 7th, 2016',\n",
       "       'June 4th, 2016', 'April 22nd, 2016', 'July 30th, 2016',\n",
       "       'June 10th, 2016', 'February 6th, 2018', 'March 25th, 2017',\n",
       "       'July 19th, 2016', 'May 25th, 2016', 'June 2nd, 2017',\n",
       "       'September 14th, 2016', 'May 17th, 2017', 'March 9th, 2016',\n",
       "       'April 14th, 2016', 'November 4th, 2016', 'April 19th, 2016',\n",
       "       'January 19th, 2018', 'June 24th, 2016', 'May 11th, 2016',\n",
       "       'February 3rd, 2016', 'September 16th, 2016', 'July 16th, 2016',\n",
       "       'May 21st, 2016', 'July 5th, 2016', 'July 22nd, 2016',\n",
       "       'May 5th, 2016', 'May 27th, 2016', 'May 24th, 2016',\n",
       "       'November 9th, 2016', 'February 27th, 2016', 'August 26th, 2016',\n",
       "       'February 20th, 2016', 'January 26th, 2016', 'June 29th, 2016',\n",
       "       'April 3rd, 2016', 'March 29th, 2016', 'April 2nd, 2015',\n",
       "       'January 29th, 2016', 'May 22nd, 2016', 'May 1st, 2015',\n",
       "       'December 12th, 2015', 'June 1st, 2016', 'April 25th, 2015',\n",
       "       'March 5th, 2015', 'May 29th, 2015', 'March 24th, 2015',\n",
       "       'August 21st, 2015', 'April 9th, 2016', 'March 25th, 2016',\n",
       "       'June 16th, 2015', 'August 8th, 2015', 'June 27th, 2015',\n",
       "       'November 23rd, 2015', 'April 29th, 2016', 'May 22nd, 2015',\n",
       "       'February 27th, 2015', 'February 18th, 2015', 'April 7th, 2015',\n",
       "       'March 7th, 2015', 'October 28th, 2015', 'March 27th, 2015',\n",
       "       'July 15th, 2015', 'December 27th, 2016', 'February 13th, 2016',\n",
       "       'September 6th, 2016', 'July 20th, 2016', 'April 3rd, 2015',\n",
       "       'January 18th, 2017', 'November 4th, 2015', 'December 18th, 2015',\n",
       "       'December 15th, 2015', 'August 14th, 2015', 'June 10th, 2015',\n",
       "       'March 24th, 2016', 'January 8th, 2016', 'October 31st, 2015',\n",
       "       'April 30th, 2015', 'May 4th, 2016', 'January 6th, 2016',\n",
       "       'April 26th, 2015', 'December 20th, 2016', 'January 2nd, 2016',\n",
       "       'January 7th, 2016', 'September 23rd, 2015', 'July 29th, 2015',\n",
       "       'May 26th, 2015', 'November 13th, 2015', 'January 22nd, 2015',\n",
       "       'March 20th, 2016', 'December 17th, 2015', 'May 9th, 2015',\n",
       "       'April 11th, 2015', 'October 23rd, 2015', 'January 28th, 2015',\n",
       "       'April 23rd, 2015', 'March 31st, 2015', 'November 7th, 2015',\n",
       "       'September 11th, 2015', 'September 4th, 2015', 'May 15th, 2015',\n",
       "       'February 7th, 2015', 'April 8th, 2015', 'June 15th, 2016',\n",
       "       'May 5th, 2015', 'June 26th, 2015', 'May 30th, 2015',\n",
       "       'June 30th, 2015', 'March 18th, 2014', 'February 26th, 2014',\n",
       "       'July 21st, 2015', 'May 9th, 2014', 'June 9th, 2015',\n",
       "       'April 26th, 2014', 'May 30th, 2014', 'July 16th, 2014',\n",
       "       'February 14th, 2015', 'March 29th, 2014', 'April 12th, 2015',\n",
       "       'March 11th, 2014', 'January 21st, 2015', 'June 25th, 2015',\n",
       "       'September 3rd, 2014', 'April 16th, 2014', 'April 14th, 2015',\n",
       "       'March 15th, 2014', 'March 21st, 2015', 'July 22nd, 2015',\n",
       "       'October 7th, 2014', 'March 4th, 2014', 'May 28th, 2015',\n",
       "       'June 5th, 2014', 'February 13th, 2014', 'January 17th, 2015',\n",
       "       'June 6th, 2014', 'August 7th, 2014', 'July 28th, 2015',\n",
       "       'September 23rd, 2014', 'June 27th, 2014', 'May 13th, 2015',\n",
       "       'January 8th, 2015', 'March 12th, 2014', 'July 5th, 2014',\n",
       "       'September 5th, 2014', 'April 29th, 2014', 'February 7th, 2014',\n",
       "       'January 29th, 2014', 'April 12th, 2013', 'July 3rd, 2013',\n",
       "       'June 5th, 2013', 'February 28th, 2013', 'July 17th, 2013',\n",
       "       'October 9th, 2013', 'July 10th, 2014', 'September 11th, 2013',\n",
       "       'April 2nd, 2013', 'May 20th, 2014', 'May 24th, 2013',\n",
       "       'August 23rd, 2013', 'July 9th, 2013', 'May 23rd, 2013',\n",
       "       'April 30th, 2013', 'January 22nd, 2013', 'August 31st, 2013',\n",
       "       'January 31st, 2013', 'June 26th, 2013', 'October 3rd, 2014',\n",
       "       'February 22nd, 2013', 'March 19th, 2013', 'February 16th, 2013',\n",
       "       'July 26th, 2013', 'July 11th, 2013', 'May 11th, 2013',\n",
       "       'April 27th, 2013', 'March 5th, 2013', 'April 19th, 2014',\n",
       "       'July 2nd, 2013', 'March 16th, 2013', 'May 8th, 2015',\n",
       "       'April 9th, 2013', 'October 5th, 2013', 'April 11th, 2013',\n",
       "       'September 19th, 2013', 'May 29th, 2014', 'July 23rd, 2013',\n",
       "       'June 3rd, 2014', 'May 21st, 2014', 'June 4th, 2013',\n",
       "       'March 2nd, 2014', 'August 30th, 2013', 'August 20th, 2013',\n",
       "       'August 29th, 2013', 'May 22nd, 2013', 'September 4th, 2013',\n",
       "       'January 9th, 2014', 'September 13th, 2013',\n",
       "       'September 10th, 2013', 'September 12th, 2013', 'August 1st, 2013',\n",
       "       'December 2nd, 2012', 'December 22nd, 2012'], dtype=object)"
      ]
     },
     "execution_count": 61,
     "metadata": {},
     "output_type": "execute_result"
    }
   ],
   "source": [
    "coffee_beans['Expiration'].unique()"
   ]
  },
  {
   "cell_type": "code",
   "execution_count": 62,
   "id": "8fde6274",
   "metadata": {},
   "outputs": [],
   "source": [
    "coffee_beans = coffee_beans.drop(columns = ['level_0'])\n",
    "coffee_beans = coffee_beans.reset_index()"
   ]
  },
  {
   "cell_type": "code",
   "execution_count": 63,
   "id": "79d73137",
   "metadata": {},
   "outputs": [
    {
     "name": "stderr",
     "output_type": "stream",
     "text": [
      "C:\\Users\\APARNA~1\\AppData\\Local\\Temp/ipykernel_18192/4106154275.py:3: SettingWithCopyWarning: \n",
      "A value is trying to be set on a copy of a slice from a DataFrame\n",
      "\n",
      "See the caveats in the documentation: https://pandas.pydata.org/pandas-docs/stable/user_guide/indexing.html#returning-a-view-versus-a-copy\n",
      "  coffee_beans['Expiration'][i] = parse(coffee_beans['Expiration'][i]).date()\n"
     ]
    }
   ],
   "source": [
    "from dateutil.parser import parse\n",
    "for i in range(len(coffee_beans['Expiration'])):\n",
    "    coffee_beans['Expiration'][i] = parse(coffee_beans['Expiration'][i]).date()"
   ]
  },
  {
   "cell_type": "code",
   "execution_count": 64,
   "id": "bb29f06a",
   "metadata": {},
   "outputs": [
    {
     "data": {
      "text/plain": [
       "0     2018-08-03\n",
       "1     2018-10-20\n",
       "2     2018-10-20\n",
       "3     2018-10-20\n",
       "4     2018-10-20\n",
       "         ...    \n",
       "626   2012-12-22\n",
       "627   2012-12-02\n",
       "628   2012-12-22\n",
       "629   2012-12-02\n",
       "630   2012-12-02\n",
       "Name: Expiration, Length: 631, dtype: datetime64[ns]"
      ]
     },
     "execution_count": 64,
     "metadata": {},
     "output_type": "execute_result"
    }
   ],
   "source": [
    "coffee_beans['Expiration'] = pd.to_datetime(coffee_beans['Expiration'])\n",
    "coffee_beans['Expiration']"
   ]
  },
  {
   "cell_type": "code",
   "execution_count": 65,
   "id": "f4a05bbb",
   "metadata": {},
   "outputs": [
    {
     "data": {
      "text/plain": [
       "Text(0.5, 1.0, 'KDE on Expiration')"
      ]
     },
     "execution_count": 65,
     "metadata": {},
     "output_type": "execute_result"
    },
    {
     "data": {
      "image/png": "[encoded data removed]",
      "text/plain": [
       "<Figure size 504x360 with 1 Axes>"
      ]
     },
     "metadata": {
      "needs_background": "light"
     },
     "output_type": "display_data"
    }
   ],
   "source": [
    "plt.figure(figsize=(7,5))\n",
    "sns.kdeplot(data = coffee_beans['Expiration'])\n",
    "plt.title(\"KDE on Expiration\")"
   ]
  },
  {
   "cell_type": "markdown",
   "id": "a7bc1307",
   "metadata": {},
   "source": [
    "The plot on Expiration is kind of normally distributed. Most of the coffee beans are expired in the year 2016"
   ]
  },
  {
   "cell_type": "markdown",
   "id": "8aee0eaf",
   "metadata": {},
   "source": [
    "**Data Cleaning on Category_Two_Defects**"
   ]
  },
  {
   "cell_type": "code",
   "execution_count": 66,
   "id": "bd1569ed",
   "metadata": {},
   "outputs": [
    {
     "data": {
      "text/plain": [
       "array([ 4.,  3.,  5.,  2.,  0.,  1.,  7.,  9., 14., 16.,  6.,  8., 15.,\n",
       "       17., 11., 10., 20., 12., 21., 26., 13., 28., 32., 22., 30., 45.,\n",
       "       38., 47., 29., 24.])"
      ]
     },
     "execution_count": 66,
     "metadata": {},
     "output_type": "execute_result"
    }
   ],
   "source": [
    "coffee_beans['Category_Two_Defects'].unique()"
   ]
  },
  {
   "cell_type": "code",
   "execution_count": 67,
   "id": "de3ce88a",
   "metadata": {},
   "outputs": [],
   "source": [
    "coffee_beans['Category_Two_Defects'] = coffee_beans['Category_Two_Defects'].astype(int)"
   ]
  },
  {
   "cell_type": "code",
   "execution_count": 68,
   "id": "d13a5030",
   "metadata": {},
   "outputs": [
    {
     "name": "stderr",
     "output_type": "stream",
     "text": [
      "C:\\Users\\Aparna Akula\\anaconda3\\lib\\site-packages\\seaborn\\_decorators.py:36: FutureWarning: Pass the following variable as a keyword arg: x. From version 0.12, the only valid positional argument will be `data`, and passing other arguments without an explicit keyword will result in an error or misinterpretation.\n",
      "  warnings.warn(\n"
     ]
    },
    {
     "data": {
      "text/plain": [
       "Text(0.5, 1.0, 'Box Plot on Category_Two_Defects')"
      ]
     },
     "execution_count": 68,
     "metadata": {},
     "output_type": "execute_result"
    },
    {
     "data": {
      "image/png": "[encoded data removed]",
      "text/plain": [
       "<Figure size 504x360 with 1 Axes>"
      ]
     },
     "metadata": {
      "needs_background": "light"
     },
     "output_type": "display_data"
    }
   ],
   "source": [
    "plt.figure(figsize=(7,5))\n",
    "sns.boxplot(coffee_beans['Category_Two_Defects'])\n",
    "plt.title(\"Box Plot on Category_Two_Defects\")"
   ]
  },
  {
   "cell_type": "markdown",
   "id": "bc608071",
   "metadata": {},
   "source": [
    "There are a lot of outliers based on the visualization, because the taste of the coffee will be varied based on the count of the defects."
   ]
  },
  {
   "cell_type": "markdown",
   "id": "82b2e18f",
   "metadata": {},
   "source": [
    "**Data Cleaning on Category_One_Defects**"
   ]
  },
  {
   "cell_type": "code",
   "execution_count": 69,
   "id": "f44eac53",
   "metadata": {},
   "outputs": [
    {
     "data": {
      "text/plain": [
       "array(['0', '1', '3', '31', '5', '2', '6', '11', '7', '10', '4', '23',\n",
       "       '15', '8'], dtype=object)"
      ]
     },
     "execution_count": 69,
     "metadata": {},
     "output_type": "execute_result"
    }
   ],
   "source": [
    "coffee_beans['Category_One_Defects'].unique()"
   ]
  },
  {
   "cell_type": "code",
   "execution_count": 70,
   "id": "8ce7d6af",
   "metadata": {},
   "outputs": [],
   "source": [
    "coffee_beans['Category_One_Defects'] = coffee_beans['Category_One_Defects'].astype(int)"
   ]
  },
  {
   "cell_type": "code",
   "execution_count": 71,
   "id": "ec3cc244",
   "metadata": {},
   "outputs": [
    {
     "data": {
      "text/plain": [
       "Text(0.5, 1.0, 'KDE on Category_One_Defects')"
      ]
     },
     "execution_count": 71,
     "metadata": {},
     "output_type": "execute_result"
    },
    {
     "data": {
      "image/png": "[encoded data removed]",
      "text/plain": [
       "<Figure size 504x360 with 1 Axes>"
      ]
     },
     "metadata": {
      "needs_background": "light"
     },
     "output_type": "display_data"
    }
   ],
   "source": [
    "plt.figure(figsize=(7,5))\n",
    "sns.kdeplot(coffee_beans['Category_One_Defects'])\n",
    "plt.title(\"KDE on Category_One_Defects\")"
   ]
  },
  {
   "cell_type": "markdown",
   "id": "226d32ec",
   "metadata": {},
   "source": [
    "There are a lot of outliers based on the visualization, because the taste of the coffee will be varied based on the count of the defects."
   ]
  },
  {
   "cell_type": "markdown",
   "id": "eb6ada9f",
   "metadata": {},
   "source": [
    "**Data cleaning on Altitude**"
   ]
  },
  {
   "cell_type": "code",
   "execution_count": 72,
   "id": "f5636a52",
   "metadata": {},
   "outputs": [
    {
     "data": {
      "text/plain": [
       "array(['1800', '890', '995', '1020', '1500', '1300', '1', '1227', '2285',\n",
       "       '1268', '1100', '100/2000', '1500msnm', '1250 m', '1700', '1200',\n",
       "       '11000 metros', '1260', '1000 m', '1250', '1240 m', '200 m',\n",
       "       '600 m', '650 m', '1200 m', '150 m', '750 m', '1100 m', '688 m',\n",
       "       '300 m', '700 m', '250 m', '1.250 m', '1600', '1400', '1901',\n",
       "       '1350', '1754', '4000', '518', '1396', '190164', '1450', '200',\n",
       "       '50', '1650', '1900', '350', '1000', '3664', '1565', '3280', '968',\n",
       "       '934', '750', '3702', '1850', '2100', '16.8', '894', '872', '2000',\n",
       "       '650', '1050', '982', '944', '973', '800', '4500', '695',\n",
       "       '1901.64', '1320', '1550 msnm', '800 m', '1150', '1680', '3607',\n",
       "       'de 900 a 1100 msnm', '5440 - 5760 metros', '1400m', '1650 msnm',\n",
       "       '1261', '1400-1900 psn', '905', '700-800m', '1473', '1645',\n",
       "       '1300 a 1800 metros sobre el nivel del mar', '4500 pies',\n",
       "       '1200 masl', '1059', '1300 meters', '4000psn', '900',\n",
       "       '1200-1300m dpl', '1550', '1580', '5500 metros', '1500-1800',\n",
       "       '1250m', '1300 a 1800 mtrs. a nivel del mar', '1350-1500',\n",
       "       '1400 msnm', '1.3', '160-200m', '4000 ft', '680', '1400 msn',\n",
       "       '758m', '5440-5760 metros', '1100.00 mosl', '1450 masl',\n",
       "       '1200-1500', '1.85', '3800', '3000 ft', '900 m.s.n.m.', '3845',\n",
       "       '1950-2200', '1795-1850', '1300 msnm', '1770', '1620m',\n",
       "       '1450 msnm', '1750', '1750m', '5000 ft.', '4000 psn', '4000 psnm',\n",
       "       '1545-1668 masl', '950??', '480-570m', '4451 metros', '1500 msnm',\n",
       "       '800??', '1653', '5000 pies', '1200-1400', '900-1100', '775',\n",
       "       '1600 + meters above sea level', '1040', '1442 m', '1200??',\n",
       "       '1296', '1450 m', '1180m', '1500 - 1700', '1300- 1400', '2500m',\n",
       "       '1400 m.s.n.m.', '1877', '700m', '1556m', '1550 meters',\n",
       "       '1200-1800m', '1100m', '1200 msm', '1599m', '110??', '1422',\n",
       "       '1550 mts.', '1550 meter', '1400 masl', '1200m', '1700m',\n",
       "       '990-1000m', '1456', '1500 mts', '1525 m', '550??', '1680m',\n",
       "       '4540 metros', '4000 p.s.n.m.', '600??', '850??',\n",
       "       '1300 to 1500 meters', '850', '1600 meters', '4000 p.s.n.m',\n",
       "       '900-1500 masl', '1000 meters', '1950', '1400-1900', '1500 meters',\n",
       "       '5600-5760 metros', 'above 1100m', '4300', '2800 ft', '1400 mts',\n",
       "       '1100-1300', '1450 msnn', '1400- 1900', '1750 msnm', '1500-1700m',\n",
       "       '1560', '600m', '400-1250m', '5000 f', '6100 metros', '1450m',\n",
       "       '500-700m', '1022', '800m', '1200 meters', '5000', '4650',\n",
       "       '1800 msnm', '894m - 1183m', '1300 mts', '1200-1600masl', '1170',\n",
       "       '4600 ft.', '4200 feet', '1000m', '950m', '1500-1750 msnm',\n",
       "       '1400 m', '1400 meter above sea level', '5500-6000 psnm',\n",
       "       '1200 a 1400', '4563', '1040m', '600-700 m', '1050m', '940',\n",
       "       '1.25', '950', '1210', '~1000 meters', '12oo', '750-800 m', '1280',\n",
       "       '~350m', '1300m'], dtype=object)"
      ]
     },
     "execution_count": 72,
     "metadata": {},
     "output_type": "execute_result"
    }
   ],
   "source": [
    "coffee_beans['Altitude'].unique()"
   ]
  },
  {
   "cell_type": "code",
   "execution_count": 73,
   "id": "a844a5cc",
   "metadata": {},
   "outputs": [
    {
     "name": "stderr",
     "output_type": "stream",
     "text": [
      "C:\\Users\\APARNA~1\\AppData\\Local\\Temp/ipykernel_18192/3496048021.py:2: SettingWithCopyWarning: \n",
      "A value is trying to be set on a copy of a slice from a DataFrame\n",
      "\n",
      "See the caveats in the documentation: https://pandas.pydata.org/pandas-docs/stable/user_guide/indexing.html#returning-a-view-versus-a-copy\n",
      "  coffee_beans['Altitude'][i] = coffee_beans['Altitude'][i].replace(\" m\",\"\")\n"
     ]
    }
   ],
   "source": [
    "for i in range(len(coffee_beans['Altitude'])):\n",
    "    coffee_beans['Altitude'][i] = coffee_beans['Altitude'][i].replace(\" m\",\"\")"
   ]
  },
  {
   "cell_type": "code",
   "execution_count": 74,
   "id": "df17bbf2",
   "metadata": {},
   "outputs": [
    {
     "data": {
      "text/plain": [
       "array(['1800', '890', '995', '1020', '1500', '1300', '1', '1227', '2285',\n",
       "       '1268', '1100', '100/2000', '1500msnm', '1250', '1700', '1200',\n",
       "       '11000etros', '1260', '1000', '1240', '200', '600', '650', '150',\n",
       "       '750', '688', '300', '700', '250', '1.250', '1600', '1400', '1901',\n",
       "       '1350', '1754', '4000', '518', '1396', '190164', '1450', '50',\n",
       "       '1650', '1900', '350', '3664', '1565', '3280', '968', '934',\n",
       "       '3702', '1850', '2100', '16.8', '894', '872', '2000', '1050',\n",
       "       '982', '944', '973', '800', '4500', '695', '1901.64', '1320',\n",
       "       '1550snm', '1150', '1680', '3607', 'de 900 a 1100snm',\n",
       "       '5440 - 5760etros', '1400m', '1650snm', '1261', '1400-1900 psn',\n",
       "       '905', '700-800m', '1473', '1645',\n",
       "       '1300 a 1800etros sobre el nivel delar', '4500 pies', '1200asl',\n",
       "       '1059', '1300eters', '4000psn', '900', '1200-1300m dpl', '1550',\n",
       "       '1580', '5500etros', '1500-1800', '1250m',\n",
       "       '1300 a 1800trs. a nivel delar', '1350-1500', '1400snm', '1.3',\n",
       "       '160-200m', '4000 ft', '680', '1400sn', '758m', '5440-5760etros',\n",
       "       '1100.00osl', '1450asl', '1200-1500', '1.85', '3800', '3000 ft',\n",
       "       '900.s.n.m.', '3845', '1950-2200', '1795-1850', '1300snm', '1770',\n",
       "       '1620m', '1450snm', '1750', '1750m', '5000 ft.', '4000 psn',\n",
       "       '4000 psnm', '1545-1668asl', '950??', '480-570m', '4451etros',\n",
       "       '1500snm', '800??', '1653', '5000 pies', '1200-1400', '900-1100',\n",
       "       '775', '1600 +eters above sea level', '1040', '1442', '1200??',\n",
       "       '1296', '1180m', '1500 - 1700', '1300- 1400', '2500m',\n",
       "       '1400.s.n.m.', '1877', '700m', '1556m', '1550eters', '1200-1800m',\n",
       "       '1100m', '1200sm', '1599m', '110??', '1422', '1550ts.', '1550eter',\n",
       "       '1400asl', '1200m', '1700m', '990-1000m', '1456', '1500ts', '1525',\n",
       "       '550??', '1680m', '4540etros', '4000 p.s.n.m.', '600??', '850??',\n",
       "       '1300 to 1500eters', '850', '1600eters', '4000 p.s.n.m',\n",
       "       '900-1500asl', '1000eters', '1950', '1400-1900', '1500eters',\n",
       "       '5600-5760etros', 'above 1100m', '4300', '2800 ft', '1400ts',\n",
       "       '1100-1300', '1450snn', '1400- 1900', '1750snm', '1500-1700m',\n",
       "       '1560', '600m', '400-1250m', '5000 f', '6100etros', '1450m',\n",
       "       '500-700m', '1022', '800m', '1200eters', '5000', '4650', '1800snm',\n",
       "       '894m - 1183m', '1300ts', '1200-1600masl', '1170', '4600 ft.',\n",
       "       '4200 feet', '1000m', '950m', '1500-1750snm',\n",
       "       '1400eter above sea level', '5500-6000 psnm', '1200 a 1400',\n",
       "       '4563', '1040m', '600-700', '1050m', '940', '1.25', '950', '1210',\n",
       "       '~1000eters', '12oo', '750-800', '1280', '~350m', '1300m'],\n",
       "      dtype=object)"
      ]
     },
     "execution_count": 74,
     "metadata": {},
     "output_type": "execute_result"
    }
   ],
   "source": [
    "coffee_beans['Altitude'].unique()"
   ]
  },
  {
   "cell_type": "code",
   "execution_count": 75,
   "id": "5b11509e",
   "metadata": {},
   "outputs": [],
   "source": [
    "coffee_beans = coffee_beans[coffee_beans['Altitude'].str.contains(\"snm\")==False]"
   ]
  },
  {
   "cell_type": "code",
   "execution_count": 76,
   "id": "83b2b870",
   "metadata": {},
   "outputs": [
    {
     "data": {
      "text/plain": [
       "False    594\n",
       "Name: Altitude, dtype: int64"
      ]
     },
     "execution_count": 76,
     "metadata": {},
     "output_type": "execute_result"
    }
   ],
   "source": [
    "coffee_beans['Altitude'].str.contains(\"snm\").value_counts()"
   ]
  },
  {
   "cell_type": "code",
   "execution_count": 77,
   "id": "ab3c023a",
   "metadata": {},
   "outputs": [
    {
     "data": {
      "text/plain": [
       "array(['1800', '890', '995', '1020', '1500', '1300', '1', '1227', '2285',\n",
       "       '1268', '1100', '100/2000', '1250', '1700', '1200', '11000etros',\n",
       "       '1260', '1000', '1240', '200', '600', '650', '150', '750', '688',\n",
       "       '300', '700', '250', '1.250', '1600', '1400', '1901', '1350',\n",
       "       '1754', '4000', '518', '1396', '190164', '1450', '50', '1650',\n",
       "       '1900', '350', '3664', '1565', '3280', '968', '934', '3702',\n",
       "       '1850', '2100', '16.8', '894', '872', '2000', '1050', '982', '944',\n",
       "       '973', '800', '4500', '695', '1901.64', '1320', '1150', '1680',\n",
       "       '3607', '5440 - 5760etros', '1400m', '1261', '1400-1900 psn',\n",
       "       '905', '700-800m', '1473', '1645',\n",
       "       '1300 a 1800etros sobre el nivel delar', '4500 pies', '1200asl',\n",
       "       '1059', '1300eters', '4000psn', '900', '1200-1300m dpl', '1550',\n",
       "       '1580', '5500etros', '1500-1800', '1250m',\n",
       "       '1300 a 1800trs. a nivel delar', '1350-1500', '1.3', '160-200m',\n",
       "       '4000 ft', '680', '1400sn', '758m', '5440-5760etros', '1100.00osl',\n",
       "       '1450asl', '1200-1500', '1.85', '3800', '3000 ft', '900.s.n.m.',\n",
       "       '3845', '1950-2200', '1795-1850', '1770', '1620m', '1750', '1750m',\n",
       "       '5000 ft.', '4000 psn', '1545-1668asl', '950??', '480-570m',\n",
       "       '4451etros', '800??', '1653', '5000 pies', '1200-1400', '900-1100',\n",
       "       '775', '1600 +eters above sea level', '1040', '1442', '1200??',\n",
       "       '1296', '1180m', '1500 - 1700', '1300- 1400', '2500m',\n",
       "       '1400.s.n.m.', '1877', '700m', '1556m', '1550eters', '1200-1800m',\n",
       "       '1100m', '1200sm', '1599m', '110??', '1422', '1550ts.', '1550eter',\n",
       "       '1400asl', '1200m', '1700m', '990-1000m', '1456', '1500ts', '1525',\n",
       "       '550??', '1680m', '4540etros', '4000 p.s.n.m.', '600??', '850??',\n",
       "       '1300 to 1500eters', '850', '1600eters', '4000 p.s.n.m',\n",
       "       '900-1500asl', '1000eters', '1950', '1400-1900', '1500eters',\n",
       "       '5600-5760etros', 'above 1100m', '4300', '2800 ft', '1400ts',\n",
       "       '1100-1300', '1450snn', '1400- 1900', '1500-1700m', '1560', '600m',\n",
       "       '400-1250m', '5000 f', '6100etros', '1450m', '500-700m', '1022',\n",
       "       '800m', '1200eters', '5000', '4650', '894m - 1183m', '1300ts',\n",
       "       '1200-1600masl', '1170', '4600 ft.', '4200 feet', '1000m', '950m',\n",
       "       '1400eter above sea level', '1200 a 1400', '4563', '1040m',\n",
       "       '600-700', '1050m', '940', '1.25', '950', '1210', '~1000eters',\n",
       "       '12oo', '750-800', '1280', '~350m', '1300m'], dtype=object)"
      ]
     },
     "execution_count": 77,
     "metadata": {},
     "output_type": "execute_result"
    }
   ],
   "source": [
    "coffee_beans['Altitude'].unique()"
   ]
  },
  {
   "cell_type": "code",
   "execution_count": 78,
   "id": "2f2a083d",
   "metadata": {},
   "outputs": [],
   "source": [
    "coffee_beans = coffee_beans.drop(columns = ['level_0'])\n",
    "coffee_beans = coffee_beans.reset_index()"
   ]
  },
  {
   "cell_type": "code",
   "execution_count": 79,
   "id": "278f68d4",
   "metadata": {},
   "outputs": [
    {
     "name": "stderr",
     "output_type": "stream",
     "text": [
      "C:\\Users\\APARNA~1\\AppData\\Local\\Temp/ipykernel_18192/2643809806.py:2: SettingWithCopyWarning: \n",
      "A value is trying to be set on a copy of a slice from a DataFrame\n",
      "\n",
      "See the caveats in the documentation: https://pandas.pydata.org/pandas-docs/stable/user_guide/indexing.html#returning-a-view-versus-a-copy\n",
      "  coffee_beans['Altitude'][i] = coffee_beans['Altitude'][i].replace(\"etros\",\"\")\n"
     ]
    }
   ],
   "source": [
    "for i in range(len(coffee_beans['Altitude'])):\n",
    "    coffee_beans['Altitude'][i] = coffee_beans['Altitude'][i].replace(\"etros\",\"\")"
   ]
  },
  {
   "cell_type": "code",
   "execution_count": 80,
   "id": "f637b9ef",
   "metadata": {},
   "outputs": [
    {
     "data": {
      "text/plain": [
       "array(['1800', '890', '995', '1020', '1500', '1300', '1', '1227', '2285',\n",
       "       '1268', '1100', '100/2000', '1250', '1700', '1200', '11000',\n",
       "       '1260', '1000', '1240', '200', '600', '650', '150', '750', '688',\n",
       "       '300', '700', '250', '1.250', '1600', '1400', '1901', '1350',\n",
       "       '1754', '4000', '518', '1396', '190164', '1450', '50', '1650',\n",
       "       '1900', '350', '3664', '1565', '3280', '968', '934', '3702',\n",
       "       '1850', '2100', '16.8', '894', '872', '2000', '1050', '982', '944',\n",
       "       '973', '800', '4500', '695', '1901.64', '1320', '1150', '1680',\n",
       "       '3607', '5440 - 5760', '1400m', '1261', '1400-1900 psn', '905',\n",
       "       '700-800m', '1473', '1645', '1300 a 1800 sobre el nivel delar',\n",
       "       '4500 pies', '1200asl', '1059', '1300eters', '4000psn', '900',\n",
       "       '1200-1300m dpl', '1550', '1580', '5500', '1500-1800', '1250m',\n",
       "       '1300 a 1800trs. a nivel delar', '1350-1500', '1.3', '160-200m',\n",
       "       '4000 ft', '680', '1400sn', '758m', '5440-5760', '1100.00osl',\n",
       "       '1450asl', '1200-1500', '1.85', '3800', '3000 ft', '900.s.n.m.',\n",
       "       '3845', '1950-2200', '1795-1850', '1770', '1620m', '1750', '1750m',\n",
       "       '5000 ft.', '4000 psn', '1545-1668asl', '950??', '480-570m',\n",
       "       '4451', '800??', '1653', '5000 pies', '1200-1400', '900-1100',\n",
       "       '775', '1600 +eters above sea level', '1040', '1442', '1200??',\n",
       "       '1296', '1180m', '1500 - 1700', '1300- 1400', '2500m',\n",
       "       '1400.s.n.m.', '1877', '700m', '1556m', '1550eters', '1200-1800m',\n",
       "       '1100m', '1200sm', '1599m', '110??', '1422', '1550ts.', '1550eter',\n",
       "       '1400asl', '1200m', '1700m', '990-1000m', '1456', '1500ts', '1525',\n",
       "       '550??', '1680m', '4540', '4000 p.s.n.m.', '600??', '850??',\n",
       "       '1300 to 1500eters', '850', '1600eters', '4000 p.s.n.m',\n",
       "       '900-1500asl', '1000eters', '1950', '1400-1900', '1500eters',\n",
       "       '5600-5760', 'above 1100m', '4300', '2800 ft', '1400ts',\n",
       "       '1100-1300', '1450snn', '1400- 1900', '1500-1700m', '1560', '600m',\n",
       "       '400-1250m', '5000 f', '6100', '1450m', '500-700m', '1022', '800m',\n",
       "       '1200eters', '5000', '4650', '894m - 1183m', '1300ts',\n",
       "       '1200-1600masl', '1170', '4600 ft.', '4200 feet', '1000m', '950m',\n",
       "       '1400eter above sea level', '1200 a 1400', '4563', '1040m',\n",
       "       '600-700', '1050m', '940', '1.25', '950', '1210', '~1000eters',\n",
       "       '12oo', '750-800', '1280', '~350m', '1300m'], dtype=object)"
      ]
     },
     "execution_count": 80,
     "metadata": {},
     "output_type": "execute_result"
    }
   ],
   "source": [
    "coffee_beans['Altitude'].unique()"
   ]
  },
  {
   "cell_type": "code",
   "execution_count": 81,
   "id": "5a40d54d",
   "metadata": {},
   "outputs": [
    {
     "name": "stderr",
     "output_type": "stream",
     "text": [
      "C:\\Users\\APARNA~1\\AppData\\Local\\Temp/ipykernel_18192/4043622747.py:2: SettingWithCopyWarning: \n",
      "A value is trying to be set on a copy of a slice from a DataFrame\n",
      "\n",
      "See the caveats in the documentation: https://pandas.pydata.org/pandas-docs/stable/user_guide/indexing.html#returning-a-view-versus-a-copy\n",
      "  coffee_beans['Altitude'][i] = coffee_beans['Altitude'][i].replace(\"m\",\"\")\n"
     ]
    }
   ],
   "source": [
    "for i in range(len(coffee_beans['Altitude'])):\n",
    "    coffee_beans['Altitude'][i] = coffee_beans['Altitude'][i].replace(\"m\",\"\")"
   ]
  },
  {
   "cell_type": "code",
   "execution_count": 82,
   "id": "3bc6d979",
   "metadata": {},
   "outputs": [
    {
     "data": {
      "text/plain": [
       "array(['1800', '890', '995', '1020', '1500', '1300', '1', '1227', '2285',\n",
       "       '1268', '1100', '100/2000', '1250', '1700', '1200', '11000',\n",
       "       '1260', '1000', '1240', '200', '600', '650', '150', '750', '688',\n",
       "       '300', '700', '250', '1.250', '1600', '1400', '1901', '1350',\n",
       "       '1754', '4000', '518', '1396', '190164', '1450', '50', '1650',\n",
       "       '1900', '350', '3664', '1565', '3280', '968', '934', '3702',\n",
       "       '1850', '2100', '16.8', '894', '872', '2000', '1050', '982', '944',\n",
       "       '973', '800', '4500', '695', '1901.64', '1320', '1150', '1680',\n",
       "       '3607', '5440 - 5760', '1261', '1400-1900 psn', '905', '700-800',\n",
       "       '1473', '1645', '1300 a 1800 sobre el nivel delar', '4500 pies',\n",
       "       '1200asl', '1059', '1300eters', '4000psn', '900', '1200-1300 dpl',\n",
       "       '1550', '1580', '5500', '1500-1800',\n",
       "       '1300 a 1800trs. a nivel delar', '1350-1500', '1.3', '160-200',\n",
       "       '4000 ft', '680', '1400sn', '758', '5440-5760', '1100.00osl',\n",
       "       '1450asl', '1200-1500', '1.85', '3800', '3000 ft', '900.s.n..',\n",
       "       '3845', '1950-2200', '1795-1850', '1770', '1620', '1750',\n",
       "       '5000 ft.', '4000 psn', '1545-1668asl', '950??', '480-570', '4451',\n",
       "       '800??', '1653', '5000 pies', '1200-1400', '900-1100', '775',\n",
       "       '1600 +eters above sea level', '1040', '1442', '1200??', '1296',\n",
       "       '1180', '1500 - 1700', '1300- 1400', '2500', '1400.s.n..', '1877',\n",
       "       '1556', '1550eters', '1200-1800', '1200s', '1599', '110??', '1422',\n",
       "       '1550ts.', '1550eter', '1400asl', '990-1000', '1456', '1500ts',\n",
       "       '1525', '550??', '4540', '4000 p.s.n..', '600??', '850??',\n",
       "       '1300 to 1500eters', '850', '1600eters', '4000 p.s.n.',\n",
       "       '900-1500asl', '1000eters', '1950', '1400-1900', '1500eters',\n",
       "       '5600-5760', 'above 1100', '4300', '2800 ft', '1400ts',\n",
       "       '1100-1300', '1450snn', '1400- 1900', '1500-1700', '1560',\n",
       "       '400-1250', '5000 f', '6100', '500-700', '1022', '1200eters',\n",
       "       '5000', '4650', '894 - 1183', '1300ts', '1200-1600asl', '1170',\n",
       "       '4600 ft.', '4200 feet', '950', '1400eter above sea level',\n",
       "       '1200 a 1400', '4563', '600-700', '940', '1.25', '1210',\n",
       "       '~1000eters', '12oo', '750-800', '1280', '~350'], dtype=object)"
      ]
     },
     "execution_count": 82,
     "metadata": {},
     "output_type": "execute_result"
    }
   ],
   "source": [
    "coffee_beans['Altitude'].unique()"
   ]
  },
  {
   "cell_type": "code",
   "execution_count": 83,
   "id": "5bd2ae19",
   "metadata": {},
   "outputs": [
    {
     "data": {
      "text/plain": [
       "False    572\n",
       "True      22\n",
       "Name: Altitude, dtype: int64"
      ]
     },
     "execution_count": 83,
     "metadata": {},
     "output_type": "execute_result"
    }
   ],
   "source": [
    "coffee_beans['Altitude'].str.contains(\"psn|p.s.n..|p.s.n.|pies|sn|.s.n..|ts|ts.|snn\").value_counts()"
   ]
  },
  {
   "cell_type": "code",
   "execution_count": 84,
   "id": "0e84f5b8",
   "metadata": {},
   "outputs": [],
   "source": [
    "coffee_beans = coffee_beans[coffee_beans['Altitude'].str.contains(\"psn|p.s.n..|p.s.n.|pies|sn|.s.n..|ts|ts.|snn\")==False]"
   ]
  },
  {
   "cell_type": "code",
   "execution_count": 85,
   "id": "8bb0a435",
   "metadata": {},
   "outputs": [
    {
     "data": {
      "text/plain": [
       "array(['1800', '890', '995', '1020', '1500', '1300', '1', '1227', '2285',\n",
       "       '1268', '1100', '100/2000', '1250', '1700', '1200', '11000',\n",
       "       '1260', '1000', '1240', '200', '600', '650', '150', '750', '688',\n",
       "       '300', '700', '250', '1.250', '1600', '1400', '1901', '1350',\n",
       "       '1754', '4000', '518', '1396', '190164', '1450', '50', '1650',\n",
       "       '1900', '350', '3664', '1565', '3280', '968', '934', '3702',\n",
       "       '1850', '2100', '16.8', '894', '872', '2000', '1050', '982', '944',\n",
       "       '973', '800', '4500', '695', '1901.64', '1320', '1150', '1680',\n",
       "       '3607', '5440 - 5760', '1261', '905', '700-800', '1473', '1645',\n",
       "       '1300 a 1800 sobre el nivel delar', '1200asl', '1059', '1300eters',\n",
       "       '900', '1200-1300 dpl', '1550', '1580', '5500', '1500-1800',\n",
       "       '1300 a 1800trs. a nivel delar', '1350-1500', '1.3', '160-200',\n",
       "       '4000 ft', '680', '758', '5440-5760', '1100.00osl', '1450asl',\n",
       "       '1200-1500', '1.85', '3800', '3000 ft', '3845', '1950-2200',\n",
       "       '1795-1850', '1770', '1620', '1750', '5000 ft.', '1545-1668asl',\n",
       "       '950??', '480-570', '4451', '800??', '1653', '1200-1400',\n",
       "       '900-1100', '775', '1600 +eters above sea level', '1040', '1442',\n",
       "       '1200??', '1296', '1180', '1500 - 1700', '1300- 1400', '2500',\n",
       "       '1877', '1556', '1550eters', '1200-1800', '1200s', '1599', '110??',\n",
       "       '1422', '1550eter', '1400asl', '990-1000', '1456', '1525', '550??',\n",
       "       '4540', '600??', '850??', '1300 to 1500eters', '850', '1600eters',\n",
       "       '900-1500asl', '1000eters', '1950', '1400-1900', '1500eters',\n",
       "       '5600-5760', 'above 1100', '4300', '2800 ft', '1100-1300',\n",
       "       '1400- 1900', '1500-1700', '1560', '400-1250', '5000 f', '6100',\n",
       "       '500-700', '1022', '1200eters', '5000', '4650', '894 - 1183',\n",
       "       '1200-1600asl', '1170', '4600 ft.', '4200 feet', '950',\n",
       "       '1400eter above sea level', '1200 a 1400', '4563', '600-700',\n",
       "       '940', '1.25', '1210', '~1000eters', '12oo', '750-800', '1280',\n",
       "       '~350'], dtype=object)"
      ]
     },
     "execution_count": 85,
     "metadata": {},
     "output_type": "execute_result"
    }
   ],
   "source": [
    "coffee_beans['Altitude'].unique()"
   ]
  },
  {
   "cell_type": "code",
   "execution_count": 86,
   "id": "6849f25c",
   "metadata": {},
   "outputs": [],
   "source": [
    "coffee_beans = coffee_beans.drop(columns = ['level_0'])\n",
    "coffee_beans = coffee_beans.reset_index()"
   ]
  },
  {
   "cell_type": "code",
   "execution_count": 87,
   "id": "aa898e98",
   "metadata": {
    "scrolled": true
   },
   "outputs": [
    {
     "name": "stderr",
     "output_type": "stream",
     "text": [
      "C:\\Users\\APARNA~1\\AppData\\Local\\Temp/ipykernel_18192/4186690021.py:2: SettingWithCopyWarning: \n",
      "A value is trying to be set on a copy of a slice from a DataFrame\n",
      "\n",
      "See the caveats in the documentation: https://pandas.pydata.org/pandas-docs/stable/user_guide/indexing.html#returning-a-view-versus-a-copy\n",
      "  coffee_beans['Altitude'][i] = coffee_beans['Altitude'][i].replace(\"eters\",\"\")\n",
      "C:\\Users\\APARNA~1\\AppData\\Local\\Temp/ipykernel_18192/4186690021.py:3: SettingWithCopyWarning: \n",
      "A value is trying to be set on a copy of a slice from a DataFrame\n",
      "\n",
      "See the caveats in the documentation: https://pandas.pydata.org/pandas-docs/stable/user_guide/indexing.html#returning-a-view-versus-a-copy\n",
      "  coffee_beans['Altitude'][i] = coffee_beans['Altitude'][i].replace(\"~\",\"\")\n",
      "C:\\Users\\APARNA~1\\AppData\\Local\\Temp/ipykernel_18192/4186690021.py:4: SettingWithCopyWarning: \n",
      "A value is trying to be set on a copy of a slice from a DataFrame\n",
      "\n",
      "See the caveats in the documentation: https://pandas.pydata.org/pandas-docs/stable/user_guide/indexing.html#returning-a-view-versus-a-copy\n",
      "  coffee_beans['Altitude'][i] = coffee_beans['Altitude'][i].replace(\"??\",\"\")\n",
      "C:\\Users\\APARNA~1\\AppData\\Local\\Temp/ipykernel_18192/4186690021.py:5: SettingWithCopyWarning: \n",
      "A value is trying to be set on a copy of a slice from a DataFrame\n",
      "\n",
      "See the caveats in the documentation: https://pandas.pydata.org/pandas-docs/stable/user_guide/indexing.html#returning-a-view-versus-a-copy\n",
      "  coffee_beans['Altitude'][i] = coffee_beans['Altitude'][i].replace(\"+eters above sea level\",\"\")\n",
      "C:\\Users\\APARNA~1\\AppData\\Local\\Temp/ipykernel_18192/4186690021.py:6: SettingWithCopyWarning: \n",
      "A value is trying to be set on a copy of a slice from a DataFrame\n",
      "\n",
      "See the caveats in the documentation: https://pandas.pydata.org/pandas-docs/stable/user_guide/indexing.html#returning-a-view-versus-a-copy\n",
      "  coffee_beans['Altitude'][i] = coffee_beans['Altitude'][i].replace(\"eter\",\"\")\n"
     ]
    }
   ],
   "source": [
    "for i in range(len(coffee_beans['Altitude'])):\n",
    "    coffee_beans['Altitude'][i] = coffee_beans['Altitude'][i].replace(\"eters\",\"\")\n",
    "    coffee_beans['Altitude'][i] = coffee_beans['Altitude'][i].replace(\"~\",\"\")\n",
    "    coffee_beans['Altitude'][i] = coffee_beans['Altitude'][i].replace(\"??\",\"\")  \n",
    "    coffee_beans['Altitude'][i] = coffee_beans['Altitude'][i].replace(\"+eters above sea level\",\"\") \n",
    "    coffee_beans['Altitude'][i] = coffee_beans['Altitude'][i].replace(\"eter\",\"\")"
   ]
  },
  {
   "cell_type": "code",
   "execution_count": 88,
   "id": "6945232d",
   "metadata": {},
   "outputs": [
    {
     "data": {
      "text/plain": [
       "array(['1800', '890', '995', '1020', '1500', '1300', '1', '1227', '2285',\n",
       "       '1268', '1100', '100/2000', '1250', '1700', '1200', '11000',\n",
       "       '1260', '1000', '1240', '200', '600', '650', '150', '750', '688',\n",
       "       '300', '700', '250', '1.250', '1600', '1400', '1901', '1350',\n",
       "       '1754', '4000', '518', '1396', '190164', '1450', '50', '1650',\n",
       "       '1900', '350', '3664', '1565', '3280', '968', '934', '3702',\n",
       "       '1850', '2100', '16.8', '894', '872', '2000', '1050', '982', '944',\n",
       "       '973', '800', '4500', '695', '1901.64', '1320', '1150', '1680',\n",
       "       '3607', '5440 - 5760', '1261', '905', '700-800', '1473', '1645',\n",
       "       '1300 a 1800 sobre el nivel delar', '1200asl', '1059', '900',\n",
       "       '1200-1300 dpl', '1550', '1580', '5500', '1500-1800',\n",
       "       '1300 a 1800trs. a nivel delar', '1350-1500', '1.3', '160-200',\n",
       "       '4000 ft', '680', '758', '5440-5760', '1100.00osl', '1450asl',\n",
       "       '1200-1500', '1.85', '3800', '3000 ft', '3845', '1950-2200',\n",
       "       '1795-1850', '1770', '1620', '1750', '5000 ft.', '1545-1668asl',\n",
       "       '950', '480-570', '4451', '1653', '1200-1400', '900-1100', '775',\n",
       "       '1600 + above sea level', '1040', '1442', '1296', '1180',\n",
       "       '1500 - 1700', '1300- 1400', '2500', '1877', '1556', '1200-1800',\n",
       "       '1200s', '1599', '110', '1422', '1400asl', '990-1000', '1456',\n",
       "       '1525', '550', '4540', '850', '1300 to 1500', '900-1500asl',\n",
       "       '1950', '1400-1900', '5600-5760', 'above 1100', '4300', '2800 ft',\n",
       "       '1100-1300', '1400- 1900', '1500-1700', '1560', '400-1250',\n",
       "       '5000 f', '6100', '500-700', '1022', '5000', '4650', '894 - 1183',\n",
       "       '1200-1600asl', '1170', '4600 ft.', '4200 feet',\n",
       "       '1400 above sea level', '1200 a 1400', '4563', '600-700', '940',\n",
       "       '1.25', '1210', '12oo', '750-800', '1280'], dtype=object)"
      ]
     },
     "execution_count": 88,
     "metadata": {},
     "output_type": "execute_result"
    }
   ],
   "source": [
    "coffee_beans['Altitude'].unique()"
   ]
  },
  {
   "cell_type": "code",
   "execution_count": 89,
   "id": "82baa183",
   "metadata": {},
   "outputs": [
    {
     "name": "stderr",
     "output_type": "stream",
     "text": [
      "C:\\Users\\APARNA~1\\AppData\\Local\\Temp/ipykernel_18192/1484232648.py:3: SettingWithCopyWarning: \n",
      "A value is trying to be set on a copy of a slice from a DataFrame\n",
      "\n",
      "See the caveats in the documentation: https://pandas.pydata.org/pandas-docs/stable/user_guide/indexing.html#returning-a-view-versus-a-copy\n",
      "  coffee_beans['Altitude'][i] = coffee_beans['Altitude'][i].replace(\"100/2000\",\"2000\")\n",
      "C:\\Users\\APARNA~1\\AppData\\Local\\Temp/ipykernel_18192/1484232648.py:5: SettingWithCopyWarning: \n",
      "A value is trying to be set on a copy of a slice from a DataFrame\n",
      "\n",
      "See the caveats in the documentation: https://pandas.pydata.org/pandas-docs/stable/user_guide/indexing.html#returning-a-view-versus-a-copy\n",
      "  coffee_beans['Altitude'][i] = coffee_beans['Altitude'][i].replace(\"5440 - 5760\",\"5760\")\n",
      "C:\\Users\\APARNA~1\\AppData\\Local\\Temp/ipykernel_18192/1484232648.py:7: SettingWithCopyWarning: \n",
      "A value is trying to be set on a copy of a slice from a DataFrame\n",
      "\n",
      "See the caveats in the documentation: https://pandas.pydata.org/pandas-docs/stable/user_guide/indexing.html#returning-a-view-versus-a-copy\n",
      "  coffee_beans['Altitude'][i] = coffee_beans['Altitude'][i].replace(\"700-800\",\"800\")\n",
      "C:\\Users\\APARNA~1\\AppData\\Local\\Temp/ipykernel_18192/1484232648.py:9: SettingWithCopyWarning: \n",
      "A value is trying to be set on a copy of a slice from a DataFrame\n",
      "\n",
      "See the caveats in the documentation: https://pandas.pydata.org/pandas-docs/stable/user_guide/indexing.html#returning-a-view-versus-a-copy\n",
      "  coffee_beans['Altitude'][i] = coffee_beans['Altitude'][i].replace(\"1300 a 1800 sobre el nivel delar\",\"548.64\")\n",
      "C:\\Users\\APARNA~1\\AppData\\Local\\Temp/ipykernel_18192/1484232648.py:11: SettingWithCopyWarning: \n",
      "A value is trying to be set on a copy of a slice from a DataFrame\n",
      "\n",
      "See the caveats in the documentation: https://pandas.pydata.org/pandas-docs/stable/user_guide/indexing.html#returning-a-view-versus-a-copy\n",
      "  coffee_beans['Altitude'][i] = coffee_beans['Altitude'][i].replace(\"1200asl\",\"365\")\n",
      "C:\\Users\\APARNA~1\\AppData\\Local\\Temp/ipykernel_18192/1484232648.py:13: SettingWithCopyWarning: \n",
      "A value is trying to be set on a copy of a slice from a DataFrame\n",
      "\n",
      "See the caveats in the documentation: https://pandas.pydata.org/pandas-docs/stable/user_guide/indexing.html#returning-a-view-versus-a-copy\n",
      "  coffee_beans['Altitude'][i] = coffee_beans['Altitude'][i].replace(\"1200-1300 dpl\",\"396\")\n",
      "C:\\Users\\APARNA~1\\AppData\\Local\\Temp/ipykernel_18192/1484232648.py:15: SettingWithCopyWarning: \n",
      "A value is trying to be set on a copy of a slice from a DataFrame\n",
      "\n",
      "See the caveats in the documentation: https://pandas.pydata.org/pandas-docs/stable/user_guide/indexing.html#returning-a-view-versus-a-copy\n",
      "  coffee_beans['Altitude'][i] = coffee_beans['Altitude'][i].replace(\"1500-1800\",\"1800\")\n",
      "C:\\Users\\APARNA~1\\AppData\\Local\\Temp/ipykernel_18192/1484232648.py:17: SettingWithCopyWarning: \n",
      "A value is trying to be set on a copy of a slice from a DataFrame\n",
      "\n",
      "See the caveats in the documentation: https://pandas.pydata.org/pandas-docs/stable/user_guide/indexing.html#returning-a-view-versus-a-copy\n",
      "  coffee_beans['Altitude'][i] = coffee_beans['Altitude'][i].replace(\"1300 a 1800trs. a nivel delar\",\"548\")\n",
      "C:\\Users\\APARNA~1\\AppData\\Local\\Temp/ipykernel_18192/1484232648.py:19: SettingWithCopyWarning: \n",
      "A value is trying to be set on a copy of a slice from a DataFrame\n",
      "\n",
      "See the caveats in the documentation: https://pandas.pydata.org/pandas-docs/stable/user_guide/indexing.html#returning-a-view-versus-a-copy\n",
      "  coffee_beans['Altitude'][i] = coffee_beans['Altitude'][i].replace(\"1350-1500\",\"1500\")\n",
      "C:\\Users\\APARNA~1\\AppData\\Local\\Temp/ipykernel_18192/1484232648.py:21: SettingWithCopyWarning: \n",
      "A value is trying to be set on a copy of a slice from a DataFrame\n",
      "\n",
      "See the caveats in the documentation: https://pandas.pydata.org/pandas-docs/stable/user_guide/indexing.html#returning-a-view-versus-a-copy\n",
      "  coffee_beans['Altitude'][i] = coffee_beans['Altitude'][i].replace(\"160-200\",\"200\")\n",
      "C:\\Users\\APARNA~1\\AppData\\Local\\Temp/ipykernel_18192/1484232648.py:23: SettingWithCopyWarning: \n",
      "A value is trying to be set on a copy of a slice from a DataFrame\n",
      "\n",
      "See the caveats in the documentation: https://pandas.pydata.org/pandas-docs/stable/user_guide/indexing.html#returning-a-view-versus-a-copy\n",
      "  coffee_beans['Altitude'][i] = coffee_beans['Altitude'][i].replace(\"4000 ft\",\"1800\")\n",
      "C:\\Users\\APARNA~1\\AppData\\Local\\Temp/ipykernel_18192/1484232648.py:25: SettingWithCopyWarning: \n",
      "A value is trying to be set on a copy of a slice from a DataFrame\n",
      "\n",
      "See the caveats in the documentation: https://pandas.pydata.org/pandas-docs/stable/user_guide/indexing.html#returning-a-view-versus-a-copy\n",
      "  coffee_beans['Altitude'][i] = coffee_beans['Altitude'][i].replace(\"5440-5760\",\"1755\")\n",
      "C:\\Users\\APARNA~1\\AppData\\Local\\Temp/ipykernel_18192/1484232648.py:27: SettingWithCopyWarning: \n",
      "A value is trying to be set on a copy of a slice from a DataFrame\n",
      "\n",
      "See the caveats in the documentation: https://pandas.pydata.org/pandas-docs/stable/user_guide/indexing.html#returning-a-view-versus-a-copy\n",
      "  coffee_beans['Altitude'][i] = coffee_beans['Altitude'][i].replace(\"1100.00osl\",\"335\")\n",
      "C:\\Users\\APARNA~1\\AppData\\Local\\Temp/ipykernel_18192/1484232648.py:29: SettingWithCopyWarning: \n",
      "A value is trying to be set on a copy of a slice from a DataFrame\n",
      "\n",
      "See the caveats in the documentation: https://pandas.pydata.org/pandas-docs/stable/user_guide/indexing.html#returning-a-view-versus-a-copy\n",
      "  coffee_beans['Altitude'][i] = coffee_beans['Altitude'][i].replace(\"1450asl\",\"441\")\n",
      "C:\\Users\\APARNA~1\\AppData\\Local\\Temp/ipykernel_18192/1484232648.py:31: SettingWithCopyWarning: \n",
      "A value is trying to be set on a copy of a slice from a DataFrame\n",
      "\n",
      "See the caveats in the documentation: https://pandas.pydata.org/pandas-docs/stable/user_guide/indexing.html#returning-a-view-versus-a-copy\n",
      "  coffee_beans['Altitude'][i] = coffee_beans['Altitude'][i].replace(\"1200-1500\",\"1500\")\n",
      "C:\\Users\\APARNA~1\\AppData\\Local\\Temp/ipykernel_18192/1484232648.py:33: SettingWithCopyWarning: \n",
      "A value is trying to be set on a copy of a slice from a DataFrame\n",
      "\n",
      "See the caveats in the documentation: https://pandas.pydata.org/pandas-docs/stable/user_guide/indexing.html#returning-a-view-versus-a-copy\n",
      "  coffee_beans['Altitude'][i] = coffee_beans['Altitude'][i].replace(\"3000 ft\",\"914\")\n",
      "C:\\Users\\APARNA~1\\AppData\\Local\\Temp/ipykernel_18192/1484232648.py:35: SettingWithCopyWarning: \n",
      "A value is trying to be set on a copy of a slice from a DataFrame\n",
      "\n",
      "See the caveats in the documentation: https://pandas.pydata.org/pandas-docs/stable/user_guide/indexing.html#returning-a-view-versus-a-copy\n",
      "  coffee_beans['Altitude'][i] = coffee_beans['Altitude'][i].replace(\"1950-2200\",\"2200\")\n"
     ]
    }
   ],
   "source": [
    "for i in range(len(coffee_beans['Altitude'])):\n",
    "    if coffee_beans['Altitude'][i] == \"100/2000\":\n",
    "        coffee_beans['Altitude'][i] = coffee_beans['Altitude'][i].replace(\"100/2000\",\"2000\")\n",
    "    elif coffee_beans['Altitude'][i] == \"5440 - 5760\":\n",
    "        coffee_beans['Altitude'][i] = coffee_beans['Altitude'][i].replace(\"5440 - 5760\",\"5760\")\n",
    "    elif coffee_beans['Altitude'][i] == \"700-800\":\n",
    "        coffee_beans['Altitude'][i] = coffee_beans['Altitude'][i].replace(\"700-800\",\"800\")\n",
    "    elif coffee_beans['Altitude'][i] == \"1300 a 1800 sobre el nivel delar\":\n",
    "        coffee_beans['Altitude'][i] = coffee_beans['Altitude'][i].replace(\"1300 a 1800 sobre el nivel delar\",\"548.64\")\n",
    "    elif coffee_beans['Altitude'][i] == \"1200asl\":\n",
    "        coffee_beans['Altitude'][i] = coffee_beans['Altitude'][i].replace(\"1200asl\",\"365\")\n",
    "    elif coffee_beans['Altitude'][i] == \"1200-1300 dpl\":\n",
    "        coffee_beans['Altitude'][i] = coffee_beans['Altitude'][i].replace(\"1200-1300 dpl\",\"396\")\n",
    "    elif coffee_beans['Altitude'][i] == \"1500-1800\":\n",
    "        coffee_beans['Altitude'][i] = coffee_beans['Altitude'][i].replace(\"1500-1800\",\"1800\")\n",
    "    elif coffee_beans['Altitude'][i] == \"1300 a 1800trs. a nivel delar\":\n",
    "        coffee_beans['Altitude'][i] = coffee_beans['Altitude'][i].replace(\"1300 a 1800trs. a nivel delar\",\"548\")\n",
    "    elif coffee_beans['Altitude'][i] == \"1350-1500\":\n",
    "        coffee_beans['Altitude'][i] = coffee_beans['Altitude'][i].replace(\"1350-1500\",\"1500\")\n",
    "    elif coffee_beans['Altitude'][i] == \"160-200\":\n",
    "        coffee_beans['Altitude'][i] = coffee_beans['Altitude'][i].replace(\"160-200\",\"200\")\n",
    "    elif coffee_beans['Altitude'][i] == \"4000 ft\":\n",
    "        coffee_beans['Altitude'][i] = coffee_beans['Altitude'][i].replace(\"4000 ft\",\"1800\")\n",
    "    elif coffee_beans['Altitude'][i] == \"5440-5760\":\n",
    "        coffee_beans['Altitude'][i] = coffee_beans['Altitude'][i].replace(\"5440-5760\",\"1755\")\n",
    "    elif coffee_beans['Altitude'][i] == \"1100.00osl\":\n",
    "        coffee_beans['Altitude'][i] = coffee_beans['Altitude'][i].replace(\"1100.00osl\",\"335\")\n",
    "    elif coffee_beans['Altitude'][i] == \"1450asl\":\n",
    "        coffee_beans['Altitude'][i] = coffee_beans['Altitude'][i].replace(\"1450asl\",\"441\")\n",
    "    elif coffee_beans['Altitude'][i] == \"1200-1500\":\n",
    "        coffee_beans['Altitude'][i] = coffee_beans['Altitude'][i].replace(\"1200-1500\",\"1500\")\n",
    "    elif coffee_beans['Altitude'][i] == \"3000 ft\":\n",
    "        coffee_beans['Altitude'][i] = coffee_beans['Altitude'][i].replace(\"3000 ft\",\"914\")\n",
    "    elif coffee_beans['Altitude'][i] == \"1950-2200\":\n",
    "        coffee_beans['Altitude'][i] = coffee_beans['Altitude'][i].replace(\"1950-2200\",\"2200\")"
   ]
  },
  {
   "cell_type": "code",
   "execution_count": 90,
   "id": "06c4ff1d",
   "metadata": {},
   "outputs": [
    {
     "data": {
      "text/plain": [
       "array(['1800', '890', '995', '1020', '1500', '1300', '1', '1227', '2285',\n",
       "       '1268', '1100', '2000', '1250', '1700', '1200', '11000', '1260',\n",
       "       '1000', '1240', '200', '600', '650', '150', '750', '688', '300',\n",
       "       '700', '250', '1.250', '1600', '1400', '1901', '1350', '1754',\n",
       "       '4000', '518', '1396', '190164', '1450', '50', '1650', '1900',\n",
       "       '350', '3664', '1565', '3280', '968', '934', '3702', '1850',\n",
       "       '2100', '16.8', '894', '872', '1050', '982', '944', '973', '800',\n",
       "       '4500', '695', '1901.64', '1320', '1150', '1680', '3607', '5760',\n",
       "       '1261', '905', '1473', '1645', '548.64', '365', '1059', '900',\n",
       "       '396', '1550', '1580', '5500', '548', '1.3', '680', '758', '1755',\n",
       "       '335', '441', '1.85', '3800', '914', '3845', '2200', '1795-1850',\n",
       "       '1770', '1620', '1750', '5000 ft.', '1545-1668asl', '950',\n",
       "       '480-570', '4451', '1653', '1200-1400', '900-1100', '775',\n",
       "       '1600 + above sea level', '1040', '1442', '1296', '1180',\n",
       "       '1500 - 1700', '1300- 1400', '2500', '1877', '1556', '1200-1800',\n",
       "       '1200s', '1599', '110', '1422', '1400asl', '990-1000', '1456',\n",
       "       '1525', '550', '4540', '850', '1300 to 1500', '900-1500asl',\n",
       "       '1950', '1400-1900', '5600-5760', 'above 1100', '4300', '2800 ft',\n",
       "       '1100-1300', '1400- 1900', '1500-1700', '1560', '400-1250',\n",
       "       '5000 f', '6100', '500-700', '1022', '5000', '4650', '894 - 1183',\n",
       "       '1200-1600asl', '1170', '4600 ft.', '4200 feet',\n",
       "       '1400 above sea level', '1200 a 1400', '4563', '600-700', '940',\n",
       "       '1.25', '1210', '12oo', '750-800', '1280'], dtype=object)"
      ]
     },
     "execution_count": 90,
     "metadata": {},
     "output_type": "execute_result"
    }
   ],
   "source": [
    "coffee_beans['Altitude'].unique()"
   ]
  },
  {
   "cell_type": "code",
   "execution_count": 91,
   "id": "f29421f0",
   "metadata": {},
   "outputs": [
    {
     "name": "stderr",
     "output_type": "stream",
     "text": [
      "C:\\Users\\APARNA~1\\AppData\\Local\\Temp/ipykernel_18192/2695823159.py:3: SettingWithCopyWarning: \n",
      "A value is trying to be set on a copy of a slice from a DataFrame\n",
      "\n",
      "See the caveats in the documentation: https://pandas.pydata.org/pandas-docs/stable/user_guide/indexing.html#returning-a-view-versus-a-copy\n",
      "  coffee_beans['Altitude'][i] = coffee_beans['Altitude'][i].replace(\"1795-1850\",\"1850\")\n",
      "C:\\Users\\APARNA~1\\AppData\\Local\\Temp/ipykernel_18192/2695823159.py:5: SettingWithCopyWarning: \n",
      "A value is trying to be set on a copy of a slice from a DataFrame\n",
      "\n",
      "See the caveats in the documentation: https://pandas.pydata.org/pandas-docs/stable/user_guide/indexing.html#returning-a-view-versus-a-copy\n",
      "  coffee_beans['Altitude'][i] = coffee_beans['Altitude'][i].replace(\"5000 ft.\",\"1254\")\n",
      "C:\\Users\\APARNA~1\\AppData\\Local\\Temp/ipykernel_18192/2695823159.py:7: SettingWithCopyWarning: \n",
      "A value is trying to be set on a copy of a slice from a DataFrame\n",
      "\n",
      "See the caveats in the documentation: https://pandas.pydata.org/pandas-docs/stable/user_guide/indexing.html#returning-a-view-versus-a-copy\n",
      "  coffee_beans['Altitude'][i] = coffee_beans['Altitude'][i].replace(\"1545-1668asl\",\"508\")\n",
      "C:\\Users\\APARNA~1\\AppData\\Local\\Temp/ipykernel_18192/2695823159.py:9: SettingWithCopyWarning: \n",
      "A value is trying to be set on a copy of a slice from a DataFrame\n",
      "\n",
      "See the caveats in the documentation: https://pandas.pydata.org/pandas-docs/stable/user_guide/indexing.html#returning-a-view-versus-a-copy\n",
      "  coffee_beans['Altitude'][i] = coffee_beans['Altitude'][i].replace(\"480-570\",\"570\")\n",
      "C:\\Users\\APARNA~1\\AppData\\Local\\Temp/ipykernel_18192/2695823159.py:11: SettingWithCopyWarning: \n",
      "A value is trying to be set on a copy of a slice from a DataFrame\n",
      "\n",
      "See the caveats in the documentation: https://pandas.pydata.org/pandas-docs/stable/user_guide/indexing.html#returning-a-view-versus-a-copy\n",
      "  coffee_beans['Altitude'][i] = coffee_beans['Altitude'][i].replace(\"1200-1400\",\"1200\")\n",
      "C:\\Users\\APARNA~1\\AppData\\Local\\Temp/ipykernel_18192/2695823159.py:13: SettingWithCopyWarning: \n",
      "A value is trying to be set on a copy of a slice from a DataFrame\n",
      "\n",
      "See the caveats in the documentation: https://pandas.pydata.org/pandas-docs/stable/user_guide/indexing.html#returning-a-view-versus-a-copy\n",
      "  coffee_beans['Altitude'][i] = coffee_beans['Altitude'][i].replace(\"900-1100\",\"1100\")\n",
      "C:\\Users\\APARNA~1\\AppData\\Local\\Temp/ipykernel_18192/2695823159.py:15: SettingWithCopyWarning: \n",
      "A value is trying to be set on a copy of a slice from a DataFrame\n",
      "\n",
      "See the caveats in the documentation: https://pandas.pydata.org/pandas-docs/stable/user_guide/indexing.html#returning-a-view-versus-a-copy\n",
      "  coffee_beans['Altitude'][i] = coffee_beans['Altitude'][i].replace(\"1600 + above sea level\",\"487\")\n",
      "C:\\Users\\APARNA~1\\AppData\\Local\\Temp/ipykernel_18192/2695823159.py:19: SettingWithCopyWarning: \n",
      "A value is trying to be set on a copy of a slice from a DataFrame\n",
      "\n",
      "See the caveats in the documentation: https://pandas.pydata.org/pandas-docs/stable/user_guide/indexing.html#returning-a-view-versus-a-copy\n",
      "  coffee_beans['Altitude'][i] = coffee_beans['Altitude'][i].replace(\"1500 - 1700\",\"1700\")\n",
      "C:\\Users\\APARNA~1\\AppData\\Local\\Temp/ipykernel_18192/2695823159.py:21: SettingWithCopyWarning: \n",
      "A value is trying to be set on a copy of a slice from a DataFrame\n",
      "\n",
      "See the caveats in the documentation: https://pandas.pydata.org/pandas-docs/stable/user_guide/indexing.html#returning-a-view-versus-a-copy\n",
      "  coffee_beans['Altitude'][i] = coffee_beans['Altitude'][i].replace(\"1300- 1400\",\"1400\")\n",
      "C:\\Users\\APARNA~1\\AppData\\Local\\Temp/ipykernel_18192/2695823159.py:23: SettingWithCopyWarning: \n",
      "A value is trying to be set on a copy of a slice from a DataFrame\n",
      "\n",
      "See the caveats in the documentation: https://pandas.pydata.org/pandas-docs/stable/user_guide/indexing.html#returning-a-view-versus-a-copy\n",
      "  coffee_beans['Altitude'][i] = coffee_beans['Altitude'][i].replace(\"1200-1800\",\"1800\")\n",
      "C:\\Users\\APARNA~1\\AppData\\Local\\Temp/ipykernel_18192/2695823159.py:33: SettingWithCopyWarning: \n",
      "A value is trying to be set on a copy of a slice from a DataFrame\n",
      "\n",
      "See the caveats in the documentation: https://pandas.pydata.org/pandas-docs/stable/user_guide/indexing.html#returning-a-view-versus-a-copy\n",
      "  coffee_beans['Altitude'][i] = coffee_beans['Altitude'][i].replace(\"1200s\",\"365\")\n",
      "C:\\Users\\APARNA~1\\AppData\\Local\\Temp/ipykernel_18192/2695823159.py:35: SettingWithCopyWarning: \n",
      "A value is trying to be set on a copy of a slice from a DataFrame\n",
      "\n",
      "See the caveats in the documentation: https://pandas.pydata.org/pandas-docs/stable/user_guide/indexing.html#returning-a-view-versus-a-copy\n",
      "  coffee_beans['Altitude'][i] = coffee_beans['Altitude'][i].replace(\"1400asl\",\"426\")\n"
     ]
    }
   ],
   "source": [
    "for i in range(len(coffee_beans['Altitude'])):\n",
    "    if coffee_beans['Altitude'][i] == \"1795-1850\":\n",
    "        coffee_beans['Altitude'][i] = coffee_beans['Altitude'][i].replace(\"1795-1850\",\"1850\")\n",
    "    elif coffee_beans['Altitude'][i] == \"5000 ft.\":\n",
    "        coffee_beans['Altitude'][i] = coffee_beans['Altitude'][i].replace(\"5000 ft.\",\"1254\")\n",
    "    elif coffee_beans['Altitude'][i] == \"1545-1668asl\":\n",
    "        coffee_beans['Altitude'][i] = coffee_beans['Altitude'][i].replace(\"1545-1668asl\",\"508\")\n",
    "    elif coffee_beans['Altitude'][i] == \"480-570\":\n",
    "        coffee_beans['Altitude'][i] = coffee_beans['Altitude'][i].replace(\"480-570\",\"570\")\n",
    "    elif coffee_beans['Altitude'][i] == \"1200-1400\":\n",
    "        coffee_beans['Altitude'][i] = coffee_beans['Altitude'][i].replace(\"1200-1400\",\"1200\")\n",
    "    elif coffee_beans['Altitude'][i] == \"900-1100\":\n",
    "        coffee_beans['Altitude'][i] = coffee_beans['Altitude'][i].replace(\"900-1100\",\"1100\")\n",
    "    elif coffee_beans['Altitude'][i] == \"1600 + above sea level\":\n",
    "        coffee_beans['Altitude'][i] = coffee_beans['Altitude'][i].replace(\"1600 + above sea level\",\"487\")\n",
    "    elif coffee_beans['Altitude'][i] == \"1300 a 1800trs. a nivel delar\":\n",
    "        coffee_beans['Altitude'][i] = coffee_beans['Altitude'][i].replace(\"1300 a 1800trs. a nivel delar\",\"548\")\n",
    "    elif coffee_beans['Altitude'][i] == \"1500 - 1700\":\n",
    "        coffee_beans['Altitude'][i] = coffee_beans['Altitude'][i].replace(\"1500 - 1700\",\"1700\")\n",
    "    elif coffee_beans['Altitude'][i] == \"1300- 1400\":\n",
    "        coffee_beans['Altitude'][i] = coffee_beans['Altitude'][i].replace(\"1300- 1400\",\"1400\")\n",
    "    elif coffee_beans['Altitude'][i] == \"1200-1800\":\n",
    "        coffee_beans['Altitude'][i] = coffee_beans['Altitude'][i].replace(\"1200-1800\",\"1800\")\n",
    "    elif coffee_beans['Altitude'][i] == \"5440-5760\":\n",
    "        coffee_beans['Altitude'][i] = coffee_beans['Altitude'][i].replace(\"5440-5760\",\"5760\")\n",
    "    elif coffee_beans['Altitude'][i] == \"1100.00osl\":\n",
    "        coffee_beans['Altitude'][i] = coffee_beans['Altitude'][i].replace(\"1100.00osl\",\"335\")\n",
    "    elif coffee_beans['Altitude'][i] == \"1450asl\":\n",
    "        coffee_beans['Altitude'][i] = coffee_beans['Altitude'][i].replace(\"1450asl\",\"441\")\n",
    "    elif coffee_beans['Altitude'][i] == \"1200-1500\":\n",
    "        coffee_beans['Altitude'][i] = coffee_beans['Altitude'][i].replace(\"1200-1500\",\"1500\")\n",
    "    elif coffee_beans['Altitude'][i] == \"1200s\":\n",
    "        coffee_beans['Altitude'][i] = coffee_beans['Altitude'][i].replace(\"1200s\",\"365\")\n",
    "    elif coffee_beans['Altitude'][i] == \"1400asl\":\n",
    "        coffee_beans['Altitude'][i] = coffee_beans['Altitude'][i].replace(\"1400asl\",\"426\")"
   ]
  },
  {
   "cell_type": "code",
   "execution_count": 92,
   "id": "7245079b",
   "metadata": {},
   "outputs": [
    {
     "data": {
      "text/plain": [
       "array(['1800', '890', '995', '1020', '1500', '1300', '1', '1227', '2285',\n",
       "       '1268', '1100', '2000', '1250', '1700', '1200', '11000', '1260',\n",
       "       '1000', '1240', '200', '600', '650', '150', '750', '688', '300',\n",
       "       '700', '250', '1.250', '1600', '1400', '1901', '1350', '1754',\n",
       "       '4000', '518', '1396', '190164', '1450', '50', '1650', '1900',\n",
       "       '350', '3664', '1565', '3280', '968', '934', '3702', '1850',\n",
       "       '2100', '16.8', '894', '872', '1050', '982', '944', '973', '800',\n",
       "       '4500', '695', '1901.64', '1320', '1150', '1680', '3607', '5760',\n",
       "       '1261', '905', '1473', '1645', '548.64', '365', '1059', '900',\n",
       "       '396', '1550', '1580', '5500', '548', '1.3', '680', '758', '1755',\n",
       "       '335', '441', '1.85', '3800', '914', '3845', '2200', '1770',\n",
       "       '1620', '1750', '1254', '508', '950', '570', '4451', '1653', '775',\n",
       "       '487', '1040', '1442', '1296', '1180', '2500', '1877', '1556',\n",
       "       '1599', '110', '1422', '426', '990-1000', '1456', '1525', '550',\n",
       "       '4540', '850', '1300 to 1500', '900-1500asl', '1950', '1400-1900',\n",
       "       '5600-5760', 'above 1100', '4300', '2800 ft', '1100-1300',\n",
       "       '1400- 1900', '1500-1700', '1560', '400-1250', '5000 f', '6100',\n",
       "       '500-700', '1022', '5000', '4650', '894 - 1183', '1200-1600asl',\n",
       "       '1170', '4600 ft.', '4200 feet', '1400 above sea level',\n",
       "       '1200 a 1400', '4563', '600-700', '940', '1.25', '1210', '12oo',\n",
       "       '750-800', '1280'], dtype=object)"
      ]
     },
     "execution_count": 92,
     "metadata": {},
     "output_type": "execute_result"
    }
   ],
   "source": [
    "coffee_beans['Altitude'].unique()"
   ]
  },
  {
   "cell_type": "code",
   "execution_count": 93,
   "id": "4e912d1f",
   "metadata": {},
   "outputs": [
    {
     "name": "stderr",
     "output_type": "stream",
     "text": [
      "C:\\Users\\APARNA~1\\AppData\\Local\\Temp/ipykernel_18192/2105005054.py:3: SettingWithCopyWarning: \n",
      "A value is trying to be set on a copy of a slice from a DataFrame\n",
      "\n",
      "See the caveats in the documentation: https://pandas.pydata.org/pandas-docs/stable/user_guide/indexing.html#returning-a-view-versus-a-copy\n",
      "  coffee_beans['Altitude'][i] = coffee_beans['Altitude'][i].replace(\"990-1000\",\"1000\")\n",
      "C:\\Users\\APARNA~1\\AppData\\Local\\Temp/ipykernel_18192/2105005054.py:5: SettingWithCopyWarning: \n",
      "A value is trying to be set on a copy of a slice from a DataFrame\n",
      "\n",
      "See the caveats in the documentation: https://pandas.pydata.org/pandas-docs/stable/user_guide/indexing.html#returning-a-view-versus-a-copy\n",
      "  coffee_beans['Altitude'][i] = coffee_beans['Altitude'][i].replace(\"1300 to 1500\",\"1500\")\n",
      "C:\\Users\\APARNA~1\\AppData\\Local\\Temp/ipykernel_18192/2105005054.py:7: SettingWithCopyWarning: \n",
      "A value is trying to be set on a copy of a slice from a DataFrame\n",
      "\n",
      "See the caveats in the documentation: https://pandas.pydata.org/pandas-docs/stable/user_guide/indexing.html#returning-a-view-versus-a-copy\n",
      "  coffee_beans['Altitude'][i] = coffee_beans['Altitude'][i].replace(\"900-1500asl\",\"457\")\n",
      "C:\\Users\\APARNA~1\\AppData\\Local\\Temp/ipykernel_18192/2105005054.py:9: SettingWithCopyWarning: \n",
      "A value is trying to be set on a copy of a slice from a DataFrame\n",
      "\n",
      "See the caveats in the documentation: https://pandas.pydata.org/pandas-docs/stable/user_guide/indexing.html#returning-a-view-versus-a-copy\n",
      "  coffee_beans['Altitude'][i] = coffee_beans['Altitude'][i].replace(\"1400-1900\",\"1900\")\n",
      "C:\\Users\\APARNA~1\\AppData\\Local\\Temp/ipykernel_18192/2105005054.py:11: SettingWithCopyWarning: \n",
      "A value is trying to be set on a copy of a slice from a DataFrame\n",
      "\n",
      "See the caveats in the documentation: https://pandas.pydata.org/pandas-docs/stable/user_guide/indexing.html#returning-a-view-versus-a-copy\n",
      "  coffee_beans['Altitude'][i] = coffee_beans['Altitude'][i].replace(\"5600-5760\",\"5760\")\n",
      "C:\\Users\\APARNA~1\\AppData\\Local\\Temp/ipykernel_18192/2105005054.py:13: SettingWithCopyWarning: \n",
      "A value is trying to be set on a copy of a slice from a DataFrame\n",
      "\n",
      "See the caveats in the documentation: https://pandas.pydata.org/pandas-docs/stable/user_guide/indexing.html#returning-a-view-versus-a-copy\n",
      "  coffee_beans['Altitude'][i] = coffee_beans['Altitude'][i].replace(\"above 1100\",\"335\")\n",
      "C:\\Users\\APARNA~1\\AppData\\Local\\Temp/ipykernel_18192/2105005054.py:15: SettingWithCopyWarning: \n",
      "A value is trying to be set on a copy of a slice from a DataFrame\n",
      "\n",
      "See the caveats in the documentation: https://pandas.pydata.org/pandas-docs/stable/user_guide/indexing.html#returning-a-view-versus-a-copy\n",
      "  coffee_beans['Altitude'][i] = coffee_beans['Altitude'][i].replace(\"2800 ft\",\"835\")\n",
      "C:\\Users\\APARNA~1\\AppData\\Local\\Temp/ipykernel_18192/2105005054.py:17: SettingWithCopyWarning: \n",
      "A value is trying to be set on a copy of a slice from a DataFrame\n",
      "\n",
      "See the caveats in the documentation: https://pandas.pydata.org/pandas-docs/stable/user_guide/indexing.html#returning-a-view-versus-a-copy\n",
      "  coffee_beans['Altitude'][i] = coffee_beans['Altitude'][i].replace(\"1100-1300\",\"1300\")\n",
      "C:\\Users\\APARNA~1\\AppData\\Local\\Temp/ipykernel_18192/2105005054.py:19: SettingWithCopyWarning: \n",
      "A value is trying to be set on a copy of a slice from a DataFrame\n",
      "\n",
      "See the caveats in the documentation: https://pandas.pydata.org/pandas-docs/stable/user_guide/indexing.html#returning-a-view-versus-a-copy\n",
      "  coffee_beans['Altitude'][i] = coffee_beans['Altitude'][i].replace(\"1400- 1900\",\"1900\")\n",
      "C:\\Users\\APARNA~1\\AppData\\Local\\Temp/ipykernel_18192/2105005054.py:21: SettingWithCopyWarning: \n",
      "A value is trying to be set on a copy of a slice from a DataFrame\n",
      "\n",
      "See the caveats in the documentation: https://pandas.pydata.org/pandas-docs/stable/user_guide/indexing.html#returning-a-view-versus-a-copy\n",
      "  coffee_beans['Altitude'][i] = coffee_beans['Altitude'][i].replace(\"1500-1700\",\"1700\")\n",
      "C:\\Users\\APARNA~1\\AppData\\Local\\Temp/ipykernel_18192/2105005054.py:23: SettingWithCopyWarning: \n",
      "A value is trying to be set on a copy of a slice from a DataFrame\n",
      "\n",
      "See the caveats in the documentation: https://pandas.pydata.org/pandas-docs/stable/user_guide/indexing.html#returning-a-view-versus-a-copy\n",
      "  coffee_beans['Altitude'][i] = coffee_beans['Altitude'][i].replace(\"400-1250\",\"1250\")\n",
      "C:\\Users\\APARNA~1\\AppData\\Local\\Temp/ipykernel_18192/2105005054.py:25: SettingWithCopyWarning: \n",
      "A value is trying to be set on a copy of a slice from a DataFrame\n",
      "\n",
      "See the caveats in the documentation: https://pandas.pydata.org/pandas-docs/stable/user_guide/indexing.html#returning-a-view-versus-a-copy\n",
      "  coffee_beans['Altitude'][i] = coffee_beans['Altitude'][i].replace(\"5000 f\",\"1254\")\n",
      "C:\\Users\\APARNA~1\\AppData\\Local\\Temp/ipykernel_18192/2105005054.py:27: SettingWithCopyWarning: \n",
      "A value is trying to be set on a copy of a slice from a DataFrame\n",
      "\n",
      "See the caveats in the documentation: https://pandas.pydata.org/pandas-docs/stable/user_guide/indexing.html#returning-a-view-versus-a-copy\n",
      "  coffee_beans['Altitude'][i] = coffee_beans['Altitude'][i].replace(\"500-700\",\"700\")\n",
      "C:\\Users\\APARNA~1\\AppData\\Local\\Temp/ipykernel_18192/2105005054.py:29: SettingWithCopyWarning: \n",
      "A value is trying to be set on a copy of a slice from a DataFrame\n",
      "\n",
      "See the caveats in the documentation: https://pandas.pydata.org/pandas-docs/stable/user_guide/indexing.html#returning-a-view-versus-a-copy\n",
      "  coffee_beans['Altitude'][i] = coffee_beans['Altitude'][i].replace(\"894 - 1183\",\"1183\")\n",
      "C:\\Users\\APARNA~1\\AppData\\Local\\Temp/ipykernel_18192/2105005054.py:31: SettingWithCopyWarning: \n",
      "A value is trying to be set on a copy of a slice from a DataFrame\n",
      "\n",
      "See the caveats in the documentation: https://pandas.pydata.org/pandas-docs/stable/user_guide/indexing.html#returning-a-view-versus-a-copy\n",
      "  coffee_beans['Altitude'][i] = coffee_beans['Altitude'][i].replace(\"1200-1600asl\",\"487\")\n",
      "C:\\Users\\APARNA~1\\AppData\\Local\\Temp/ipykernel_18192/2105005054.py:33: SettingWithCopyWarning: \n",
      "A value is trying to be set on a copy of a slice from a DataFrame\n",
      "\n",
      "See the caveats in the documentation: https://pandas.pydata.org/pandas-docs/stable/user_guide/indexing.html#returning-a-view-versus-a-copy\n",
      "  coffee_beans['Altitude'][i] = coffee_beans['Altitude'][i].replace(\"4600 ft.\",\"1402\")\n",
      "C:\\Users\\APARNA~1\\AppData\\Local\\Temp/ipykernel_18192/2105005054.py:35: SettingWithCopyWarning: \n",
      "A value is trying to be set on a copy of a slice from a DataFrame\n",
      "\n",
      "See the caveats in the documentation: https://pandas.pydata.org/pandas-docs/stable/user_guide/indexing.html#returning-a-view-versus-a-copy\n",
      "  coffee_beans['Altitude'][i] = coffee_beans['Altitude'][i].replace(\"4200 feet\",\"1280\")\n",
      "C:\\Users\\APARNA~1\\AppData\\Local\\Temp/ipykernel_18192/2105005054.py:37: SettingWithCopyWarning: \n",
      "A value is trying to be set on a copy of a slice from a DataFrame\n",
      "\n",
      "See the caveats in the documentation: https://pandas.pydata.org/pandas-docs/stable/user_guide/indexing.html#returning-a-view-versus-a-copy\n",
      "  coffee_beans['Altitude'][i] = coffee_beans['Altitude'][i].replace(\"1400 above sea level\",\"426\")\n",
      "C:\\Users\\APARNA~1\\AppData\\Local\\Temp/ipykernel_18192/2105005054.py:39: SettingWithCopyWarning: \n",
      "A value is trying to be set on a copy of a slice from a DataFrame\n",
      "\n",
      "See the caveats in the documentation: https://pandas.pydata.org/pandas-docs/stable/user_guide/indexing.html#returning-a-view-versus-a-copy\n",
      "  coffee_beans['Altitude'][i] = coffee_beans['Altitude'][i].replace(\"1200 a 1400\",\"1400\")\n",
      "C:\\Users\\APARNA~1\\AppData\\Local\\Temp/ipykernel_18192/2105005054.py:41: SettingWithCopyWarning: \n",
      "A value is trying to be set on a copy of a slice from a DataFrame\n",
      "\n",
      "See the caveats in the documentation: https://pandas.pydata.org/pandas-docs/stable/user_guide/indexing.html#returning-a-view-versus-a-copy\n",
      "  coffee_beans['Altitude'][i] = coffee_beans['Altitude'][i].replace(\"600-700\",\"700\")\n",
      "C:\\Users\\APARNA~1\\AppData\\Local\\Temp/ipykernel_18192/2105005054.py:43: SettingWithCopyWarning: \n",
      "A value is trying to be set on a copy of a slice from a DataFrame\n",
      "\n",
      "See the caveats in the documentation: https://pandas.pydata.org/pandas-docs/stable/user_guide/indexing.html#returning-a-view-versus-a-copy\n",
      "  coffee_beans['Altitude'][i] = coffee_beans['Altitude'][i].replace(\"12oo\",\"1200\")\n",
      "C:\\Users\\APARNA~1\\AppData\\Local\\Temp/ipykernel_18192/2105005054.py:45: SettingWithCopyWarning: \n",
      "A value is trying to be set on a copy of a slice from a DataFrame\n",
      "\n",
      "See the caveats in the documentation: https://pandas.pydata.org/pandas-docs/stable/user_guide/indexing.html#returning-a-view-versus-a-copy\n",
      "  coffee_beans['Altitude'][i] = coffee_beans['Altitude'][i].replace(\"750-800\",\"800\")\n"
     ]
    }
   ],
   "source": [
    "for i in range(len(coffee_beans['Altitude'])):\n",
    "    if coffee_beans['Altitude'][i] == \"990-1000\":\n",
    "        coffee_beans['Altitude'][i] = coffee_beans['Altitude'][i].replace(\"990-1000\",\"1000\")\n",
    "    elif coffee_beans['Altitude'][i] == \"1300 to 1500\":\n",
    "        coffee_beans['Altitude'][i] = coffee_beans['Altitude'][i].replace(\"1300 to 1500\",\"1500\")\n",
    "    elif coffee_beans['Altitude'][i] == \"900-1500asl\":\n",
    "        coffee_beans['Altitude'][i] = coffee_beans['Altitude'][i].replace(\"900-1500asl\",\"457\")\n",
    "    elif coffee_beans['Altitude'][i] == \"1400-1900\":\n",
    "        coffee_beans['Altitude'][i] = coffee_beans['Altitude'][i].replace(\"1400-1900\",\"1900\")\n",
    "    elif coffee_beans['Altitude'][i] == \"5600-5760\":\n",
    "        coffee_beans['Altitude'][i] = coffee_beans['Altitude'][i].replace(\"5600-5760\",\"5760\")\n",
    "    elif coffee_beans['Altitude'][i] == \"above 1100\":\n",
    "        coffee_beans['Altitude'][i] = coffee_beans['Altitude'][i].replace(\"above 1100\",\"335\")\n",
    "    elif coffee_beans['Altitude'][i] == \"2800 ft\":\n",
    "        coffee_beans['Altitude'][i] = coffee_beans['Altitude'][i].replace(\"2800 ft\",\"835\")        \n",
    "    elif coffee_beans['Altitude'][i] == \"1100-1300\":\n",
    "        coffee_beans['Altitude'][i] = coffee_beans['Altitude'][i].replace(\"1100-1300\",\"1300\")\n",
    "    elif coffee_beans['Altitude'][i] == \"1400- 1900\":\n",
    "        coffee_beans['Altitude'][i] = coffee_beans['Altitude'][i].replace(\"1400- 1900\",\"1900\")\n",
    "    elif coffee_beans['Altitude'][i] == \"1500-1700\":\n",
    "        coffee_beans['Altitude'][i] = coffee_beans['Altitude'][i].replace(\"1500-1700\",\"1700\")\n",
    "    elif coffee_beans['Altitude'][i] == \"400-1250\":\n",
    "        coffee_beans['Altitude'][i] = coffee_beans['Altitude'][i].replace(\"400-1250\",\"1250\")\n",
    "    elif coffee_beans['Altitude'][i] == \"5000 f\":\n",
    "        coffee_beans['Altitude'][i] = coffee_beans['Altitude'][i].replace(\"5000 f\",\"1254\")\n",
    "    elif coffee_beans['Altitude'][i] == \"500-700\":\n",
    "        coffee_beans['Altitude'][i] = coffee_beans['Altitude'][i].replace(\"500-700\",\"700\")\n",
    "    elif coffee_beans['Altitude'][i] == \"894 - 1183\":\n",
    "        coffee_beans['Altitude'][i] = coffee_beans['Altitude'][i].replace(\"894 - 1183\",\"1183\")\n",
    "    elif coffee_beans['Altitude'][i] == \"1200-1600asl\":\n",
    "        coffee_beans['Altitude'][i] = coffee_beans['Altitude'][i].replace(\"1200-1600asl\",\"487\")\n",
    "    elif coffee_beans['Altitude'][i] == \"4600 ft.\":\n",
    "        coffee_beans['Altitude'][i] = coffee_beans['Altitude'][i].replace(\"4600 ft.\",\"1402\")\n",
    "    elif coffee_beans['Altitude'][i] == \"4200 feet\":\n",
    "        coffee_beans['Altitude'][i] = coffee_beans['Altitude'][i].replace(\"4200 feet\",\"1280\")\n",
    "    elif coffee_beans['Altitude'][i] == \"1400 above sea level\":\n",
    "        coffee_beans['Altitude'][i] = coffee_beans['Altitude'][i].replace(\"1400 above sea level\",\"426\")\n",
    "    elif coffee_beans['Altitude'][i] == \"1200 a 1400\":\n",
    "        coffee_beans['Altitude'][i] = coffee_beans['Altitude'][i].replace(\"1200 a 1400\",\"1400\")\n",
    "    elif coffee_beans['Altitude'][i] == \"600-700\":\n",
    "        coffee_beans['Altitude'][i] = coffee_beans['Altitude'][i].replace(\"600-700\",\"700\")\n",
    "    elif coffee_beans['Altitude'][i] == \"12oo\":\n",
    "        coffee_beans['Altitude'][i] = coffee_beans['Altitude'][i].replace(\"12oo\",\"1200\")\n",
    "    elif coffee_beans['Altitude'][i] == \"750-800\":\n",
    "        coffee_beans['Altitude'][i] = coffee_beans['Altitude'][i].replace(\"750-800\",\"800\")"
   ]
  },
  {
   "cell_type": "code",
   "execution_count": 94,
   "id": "aa3ac90e",
   "metadata": {},
   "outputs": [
    {
     "data": {
      "text/plain": [
       "array(['1800', '890', '995', '1020', '1500', '1300', '1', '1227', '2285',\n",
       "       '1268', '1100', '2000', '1250', '1700', '1200', '11000', '1260',\n",
       "       '1000', '1240', '200', '600', '650', '150', '750', '688', '300',\n",
       "       '700', '250', '1.250', '1600', '1400', '1901', '1350', '1754',\n",
       "       '4000', '518', '1396', '190164', '1450', '50', '1650', '1900',\n",
       "       '350', '3664', '1565', '3280', '968', '934', '3702', '1850',\n",
       "       '2100', '16.8', '894', '872', '1050', '982', '944', '973', '800',\n",
       "       '4500', '695', '1901.64', '1320', '1150', '1680', '3607', '5760',\n",
       "       '1261', '905', '1473', '1645', '548.64', '365', '1059', '900',\n",
       "       '396', '1550', '1580', '5500', '548', '1.3', '680', '758', '1755',\n",
       "       '335', '441', '1.85', '3800', '914', '3845', '2200', '1770',\n",
       "       '1620', '1750', '1254', '508', '950', '570', '4451', '1653', '775',\n",
       "       '487', '1040', '1442', '1296', '1180', '2500', '1877', '1556',\n",
       "       '1599', '110', '1422', '426', '1456', '1525', '550', '4540', '850',\n",
       "       '457', '1950', '4300', '835', '1560', '6100', '1022', '5000',\n",
       "       '4650', '1183', '1170', '1402', '1280', '4563', '940', '1.25',\n",
       "       '1210'], dtype=object)"
      ]
     },
     "execution_count": 94,
     "metadata": {},
     "output_type": "execute_result"
    }
   ],
   "source": [
    "coffee_beans['Altitude'].unique()"
   ]
  },
  {
   "cell_type": "code",
   "execution_count": 95,
   "id": "53fe51bb",
   "metadata": {},
   "outputs": [],
   "source": [
    "coffee_beans['Altitude'] = coffee_beans['Altitude'].astype(float)"
   ]
  },
  {
   "cell_type": "code",
   "execution_count": 96,
   "id": "bc40a964",
   "metadata": {},
   "outputs": [],
   "source": [
    "coffee_beans['Altitude'] = coffee_beans['Altitude'].astype(int)"
   ]
  },
  {
   "cell_type": "code",
   "execution_count": 97,
   "id": "a28b827e",
   "metadata": {},
   "outputs": [
    {
     "data": {
      "text/plain": [
       "Text(0.5, 1.0, 'Box Plot on Altitude')"
      ]
     },
     "execution_count": 97,
     "metadata": {},
     "output_type": "execute_result"
    },
    {
     "data": {
      "image/png": "[encoded data removed]",
      "text/plain": [
       "<Figure size 504x360 with 1 Axes>"
      ]
     },
     "metadata": {
      "needs_background": "light"
     },
     "output_type": "display_data"
    }
   ],
   "source": [
    "plt.figure(figsize=(7,5))\n",
    "sns.boxplot(data=coffee_beans['Altitude'])\n",
    "plt.ylabel(\"Altitude in metres\")\n",
    "plt.title(\"Box Plot on Altitude\")"
   ]
  },
  {
   "cell_type": "markdown",
   "id": "12019410",
   "metadata": {},
   "source": [
    "There is a outlier that is way beyond, which will affect the other observations. So removing that outlier"
   ]
  },
  {
   "cell_type": "code",
   "execution_count": 98,
   "id": "8606115c",
   "metadata": {},
   "outputs": [],
   "source": [
    "coffee_beans.drop(coffee_beans[coffee_beans.Altitude > 8000].index, inplace=True)"
   ]
  },
  {
   "cell_type": "code",
   "execution_count": 99,
   "id": "f407dae8",
   "metadata": {},
   "outputs": [
    {
     "data": {
      "text/plain": [
       "Text(0.5, 1.0, 'Box Plot on Altitude')"
      ]
     },
     "execution_count": 99,
     "metadata": {},
     "output_type": "execute_result"
    },
    {
     "data": {
      "image/png": "[encoded data removed]",
      "text/plain": [
       "<Figure size 504x360 with 1 Axes>"
      ]
     },
     "metadata": {
      "needs_background": "light"
     },
     "output_type": "display_data"
    }
   ],
   "source": [
    "plt.figure(figsize=(7,5))\n",
    "sns.boxplot(data=coffee_beans['Altitude'])\n",
    "plt.ylabel(\"Altitude in metres\")\n",
    "plt.title(\"Box Plot on Altitude\")"
   ]
  },
  {
   "cell_type": "markdown",
   "id": "2d6e3e52",
   "metadata": {},
   "source": [
    "Possible outliers are removed. The median is between 1000 to 2000 metres altitude."
   ]
  },
  {
   "cell_type": "code",
   "execution_count": 100,
   "id": "dc13a418",
   "metadata": {},
   "outputs": [],
   "source": [
    "coffee_beans = coffee_beans.drop(columns = ['level_0'])\n",
    "coffee_beans = coffee_beans.drop(columns = ['index'])"
   ]
  },
  {
   "cell_type": "markdown",
   "id": "c44e9bf4",
   "metadata": {},
   "source": [
    "**Data Cleaning and Data Visualization on Categorical Values**"
   ]
  },
  {
   "cell_type": "code",
   "execution_count": 101,
   "id": "b6d10dd5",
   "metadata": {},
   "outputs": [],
   "source": [
    "#converting all objects to categorical values\n",
    "coffee_beans['Species'] = coffee_beans['Species'].astype('category')\n",
    "coffee_beans['Country_of_Origin'] = coffee_beans['Country_of_Origin'].astype('category')\n",
    "coffee_beans['Variety'] = coffee_beans['Variety'].astype('category')\n",
    "coffee_beans['Processing_Method'] = coffee_beans['Processing_Method'].astype('category')\n",
    "coffee_beans['Color'] = coffee_beans['Color'].astype('category')"
   ]
  },
  {
   "cell_type": "code",
   "execution_count": 102,
   "id": "4090a627",
   "metadata": {},
   "outputs": [
    {
     "data": {
      "text/plain": [
       "[Text(0.5, 0, 'Number of Varieties'),\n",
       " Text(0.5, 1.0, 'Bar plot on different Varieties')]"
      ]
     },
     "execution_count": 102,
     "metadata": {},
     "output_type": "execute_result"
    },
    {
     "data": {
      "image/png": "[encoded data removed]",
      "text/plain": [
       "<Figure size 504x360 with 1 Axes>"
      ]
     },
     "metadata": {
      "needs_background": "light"
     },
     "output_type": "display_data"
    }
   ],
   "source": [
    "plt.figure(figsize=(7,5))\n",
    "sns.barplot(y = coffee_beans['Variety'].unique(),x = coffee_beans['Variety'].value_counts()).set(xlabel = \"Number of Varieties\",title = \"Bar plot on different Varieties\")"
   ]
  },
  {
   "cell_type": "markdown",
   "id": "e037e88a",
   "metadata": {},
   "source": [
    "SL28 are the more numbers of coffee beans grown, where as Pacamara, Peaberry, SL34 and Sumatra are the least number of coffee beans grown"
   ]
  },
  {
   "cell_type": "code",
   "execution_count": 103,
   "id": "2b810e94",
   "metadata": {},
   "outputs": [
    {
     "data": {
      "image/png": "[encoded data removed]",
      "text/plain": [
       "<Figure size 360x360 with 1 Axes>"
      ]
     },
     "metadata": {},
     "output_type": "display_data"
    }
   ],
   "source": [
    "plt.figure(figsize=(5,5))\n",
    "values = coffee_beans['Processing_Method'].value_counts()\n",
    "labels = coffee_beans['Processing_Method'].unique().tolist()\n",
    "plt.pie(values,labels=labels,radius=1)\n",
    "plt.title(\"Pie Chart of different Processing Methods\")\n",
    "plt.show()"
   ]
  },
  {
   "cell_type": "markdown",
   "id": "6656dfef",
   "metadata": {},
   "source": [
    "Washed/Wet is the most frequent type of processing method and Pulped natural/honey is the least used processing method"
   ]
  },
  {
   "cell_type": "code",
   "execution_count": 104,
   "id": "34f0b02e",
   "metadata": {},
   "outputs": [
    {
     "data": {
      "text/plain": [
       "[Text(0, 0.5, 'Colors'),\n",
       " Text(0.5, 0, ''),\n",
       " Text(0.5, 1.0, 'Bar plot on different Colors of Coffee Beans')]"
      ]
     },
     "execution_count": 104,
     "metadata": {},
     "output_type": "execute_result"
    },
    {
     "data": {
      "image/png": "[encoded data removed]",
      "text/plain": [
       "<Figure size 504x360 with 1 Axes>"
      ]
     },
     "metadata": {
      "needs_background": "light"
     },
     "output_type": "display_data"
    }
   ],
   "source": [
    "plt.figure(figsize=(7,5))\n",
    "sns.barplot(y = coffee_beans['Color'].unique(),x = coffee_beans['Color'].value_counts()).set(ylabel = \"Colors\",xlabel=\"\",title = \"Bar plot on different Colors of Coffee Beans\")"
   ]
  },
  {
   "cell_type": "markdown",
   "id": "3679bb0f",
   "metadata": {},
   "source": [
    "Green coffee beans are the most grown and Blue-Green is the least grown."
   ]
  },
  {
   "cell_type": "code",
   "execution_count": 147,
   "id": "e27af557",
   "metadata": {},
   "outputs": [
    {
     "data": {
      "text/plain": [
       "['Kenya', 'Brazil', 'Honduras', 'Costa Rica', 'Tanzania, United Republic Of', ..., 'Malawi', 'Peru', 'United States (Puerto Rico)', 'Colombia', 'Haiti']\n",
       "Length: 26\n",
       "Categories (26, object): ['Brazil', 'China', 'Colombia', 'Costa Rica', ..., 'Thailand', 'Uganda', 'United States (Puerto Rico)', 'Vietnam']"
      ]
     },
     "execution_count": 147,
     "metadata": {},
     "output_type": "execute_result"
    }
   ],
   "source": [
    "coffee_beans['Country_of_Origin'].unique()"
   ]
  },
  {
   "cell_type": "code",
   "execution_count": 105,
   "id": "14813d2c",
   "metadata": {},
   "outputs": [
    {
     "data": {
      "text/plain": [
       "Species                       category\n",
       "Owner                           object\n",
       "Country_of_Origin             category\n",
       "Farm_Name                       object\n",
       "Company                         object\n",
       "Altitude                         int32\n",
       "Region                          object\n",
       "Producer                        object\n",
       "Number_of_Bags                   int32\n",
       "Bag_Weight                     float64\n",
       "Harvest_Year            datetime64[ns]\n",
       "Variety                       category\n",
       "Processing_Method             category\n",
       "Aroma                          float64\n",
       "Flavor                         float64\n",
       "Aftertaste                     float64\n",
       "Acidity                        float64\n",
       "Body                           float64\n",
       "Balance                        float64\n",
       "Uniformity                     float64\n",
       "Clean_Cup                      float64\n",
       "Sweetness                      float64\n",
       "Total_Cup_Points               float64\n",
       "Moisture                       float64\n",
       "Quakers                          int32\n",
       "Color                         category\n",
       "Expiration              datetime64[ns]\n",
       "Category_Two_Defects             int32\n",
       "Category_One_Defects             int32\n",
       "dtype: object"
      ]
     },
     "execution_count": 105,
     "metadata": {},
     "output_type": "execute_result"
    }
   ],
   "source": [
    "coffee_beans.dtypes"
   ]
  },
  {
   "cell_type": "code",
   "execution_count": 106,
   "id": "264edc11",
   "metadata": {},
   "outputs": [
    {
     "data": {
      "text/plain": [
       "(570, 29)"
      ]
     },
     "execution_count": 106,
     "metadata": {},
     "output_type": "execute_result"
    }
   ],
   "source": [
    "coffee_beans.shape"
   ]
  },
  {
   "cell_type": "code",
   "execution_count": 107,
   "id": "425cc246",
   "metadata": {},
   "outputs": [
    {
     "data": {
      "text/plain": [
       "array([159, 108,  74,  56,  47,  29,  20,  18,  14,  12,   4,   3,   2,\n",
       "         1], dtype=int64)"
      ]
     },
     "execution_count": 107,
     "metadata": {},
     "output_type": "execute_result"
    }
   ],
   "source": [
    "coffee_beans['Variety'].value_counts().unique()"
   ]
  },
  {
   "cell_type": "code",
   "execution_count": 108,
   "id": "0a562f6f",
   "metadata": {},
   "outputs": [
    {
     "data": {
      "text/html": [
       "<div>\n",
       "<style scoped>\n",
       "    .dataframe tbody tr th:only-of-type {\n",
       "        vertical-align: middle;\n",
       "    }\n",
       "\n",
       "    .dataframe tbody tr th {\n",
       "        vertical-align: top;\n",
       "    }\n",
       "\n",
       "    .dataframe thead th {\n",
       "        text-align: right;\n",
       "    }\n",
       "</style>\n",
       "<table border=\"1\" class=\"dataframe\">\n",
       "  <thead>\n",
       "    <tr style=\"text-align: right;\">\n",
       "      <th></th>\n",
       "      <th>Species</th>\n",
       "      <th>Owner</th>\n",
       "      <th>Country_of_Origin</th>\n",
       "      <th>Farm_Name</th>\n",
       "      <th>Company</th>\n",
       "      <th>Altitude</th>\n",
       "      <th>Region</th>\n",
       "      <th>Producer</th>\n",
       "      <th>Number_of_Bags</th>\n",
       "      <th>Bag_Weight</th>\n",
       "      <th>...</th>\n",
       "      <th>Uniformity</th>\n",
       "      <th>Clean_Cup</th>\n",
       "      <th>Sweetness</th>\n",
       "      <th>Total_Cup_Points</th>\n",
       "      <th>Moisture</th>\n",
       "      <th>Quakers</th>\n",
       "      <th>Color</th>\n",
       "      <th>Expiration</th>\n",
       "      <th>Category_Two_Defects</th>\n",
       "      <th>Category_One_Defects</th>\n",
       "    </tr>\n",
       "  </thead>\n",
       "  <tbody>\n",
       "    <tr>\n",
       "      <th>0</th>\n",
       "      <td>Arabica</td>\n",
       "      <td>lydiah mwangi</td>\n",
       "      <td>Kenya</td>\n",
       "      <td>kigwandi</td>\n",
       "      <td>c dorman ltd</td>\n",
       "      <td>1800</td>\n",
       "      <td>nyeri</td>\n",
       "      <td>mutheka</td>\n",
       "      <td>150</td>\n",
       "      <td>60.0</td>\n",
       "      <td>...</td>\n",
       "      <td>10.0</td>\n",
       "      <td>10.0</td>\n",
       "      <td>10.0</td>\n",
       "      <td>84.33</td>\n",
       "      <td>0.11</td>\n",
       "      <td>0</td>\n",
       "      <td>Green</td>\n",
       "      <td>2018-08-03</td>\n",
       "      <td>4</td>\n",
       "      <td>0</td>\n",
       "    </tr>\n",
       "    <tr>\n",
       "      <th>1</th>\n",
       "      <td>Arabica</td>\n",
       "      <td>ipanema coffees</td>\n",
       "      <td>Brazil</td>\n",
       "      <td>fazenda capoeirnha</td>\n",
       "      <td>ipanema coffees</td>\n",
       "      <td>890</td>\n",
       "      <td>south of minas</td>\n",
       "      <td>Ipanema Agricola S.A</td>\n",
       "      <td>320</td>\n",
       "      <td>60.0</td>\n",
       "      <td>...</td>\n",
       "      <td>10.0</td>\n",
       "      <td>10.0</td>\n",
       "      <td>10.0</td>\n",
       "      <td>83.92</td>\n",
       "      <td>0.00</td>\n",
       "      <td>0</td>\n",
       "      <td>Green</td>\n",
       "      <td>2018-10-20</td>\n",
       "      <td>3</td>\n",
       "      <td>0</td>\n",
       "    </tr>\n",
       "    <tr>\n",
       "      <th>2</th>\n",
       "      <td>Arabica</td>\n",
       "      <td>ipanema coffees</td>\n",
       "      <td>Brazil</td>\n",
       "      <td>fazenda capoeirnha</td>\n",
       "      <td>ipanema coffees</td>\n",
       "      <td>890</td>\n",
       "      <td>south of minas</td>\n",
       "      <td>Ipanema Agricola S.A</td>\n",
       "      <td>320</td>\n",
       "      <td>60.0</td>\n",
       "      <td>...</td>\n",
       "      <td>10.0</td>\n",
       "      <td>10.0</td>\n",
       "      <td>10.0</td>\n",
       "      <td>83.75</td>\n",
       "      <td>0.11</td>\n",
       "      <td>0</td>\n",
       "      <td>Green</td>\n",
       "      <td>2018-10-20</td>\n",
       "      <td>5</td>\n",
       "      <td>0</td>\n",
       "    </tr>\n",
       "    <tr>\n",
       "      <th>3</th>\n",
       "      <td>Arabica</td>\n",
       "      <td>ipanema coffees</td>\n",
       "      <td>Brazil</td>\n",
       "      <td>fazenda capoeirnha</td>\n",
       "      <td>ipanema coffees</td>\n",
       "      <td>890</td>\n",
       "      <td>south of minas</td>\n",
       "      <td>Ipanema Agricola S.A</td>\n",
       "      <td>320</td>\n",
       "      <td>60.0</td>\n",
       "      <td>...</td>\n",
       "      <td>10.0</td>\n",
       "      <td>10.0</td>\n",
       "      <td>10.0</td>\n",
       "      <td>83.67</td>\n",
       "      <td>0.11</td>\n",
       "      <td>0</td>\n",
       "      <td>Green</td>\n",
       "      <td>2018-10-20</td>\n",
       "      <td>2</td>\n",
       "      <td>0</td>\n",
       "    </tr>\n",
       "    <tr>\n",
       "      <th>4</th>\n",
       "      <td>Arabica</td>\n",
       "      <td>ipanema coffees</td>\n",
       "      <td>Brazil</td>\n",
       "      <td>fazenda capoeirnha</td>\n",
       "      <td>ipanema coffees</td>\n",
       "      <td>890</td>\n",
       "      <td>south of minas</td>\n",
       "      <td>Ipanema Agricola S.A</td>\n",
       "      <td>320</td>\n",
       "      <td>60.0</td>\n",
       "      <td>...</td>\n",
       "      <td>10.0</td>\n",
       "      <td>10.0</td>\n",
       "      <td>10.0</td>\n",
       "      <td>83.58</td>\n",
       "      <td>0.11</td>\n",
       "      <td>0</td>\n",
       "      <td>Green</td>\n",
       "      <td>2018-10-20</td>\n",
       "      <td>5</td>\n",
       "      <td>0</td>\n",
       "    </tr>\n",
       "  </tbody>\n",
       "</table>\n",
       "<p>5 rows × 29 columns</p>\n",
       "</div>"
      ],
      "text/plain": [
       "   Species            Owner Country_of_Origin           Farm_Name  \\\n",
       "0  Arabica    lydiah mwangi             Kenya            kigwandi   \n",
       "1  Arabica  ipanema coffees            Brazil  fazenda capoeirnha   \n",
       "2  Arabica  ipanema coffees            Brazil  fazenda capoeirnha   \n",
       "3  Arabica  ipanema coffees            Brazil  fazenda capoeirnha   \n",
       "4  Arabica  ipanema coffees            Brazil  fazenda capoeirnha   \n",
       "\n",
       "           Company  Altitude          Region              Producer  \\\n",
       "0     c dorman ltd      1800           nyeri               mutheka   \n",
       "1  ipanema coffees       890  south of minas  Ipanema Agricola S.A   \n",
       "2  ipanema coffees       890  south of minas  Ipanema Agricola S.A   \n",
       "3  ipanema coffees       890  south of minas  Ipanema Agricola S.A   \n",
       "4  ipanema coffees       890  south of minas  Ipanema Agricola S.A   \n",
       "\n",
       "   Number_of_Bags  Bag_Weight  ... Uniformity Clean_Cup Sweetness  \\\n",
       "0             150        60.0  ...       10.0      10.0      10.0   \n",
       "1             320        60.0  ...       10.0      10.0      10.0   \n",
       "2             320        60.0  ...       10.0      10.0      10.0   \n",
       "3             320        60.0  ...       10.0      10.0      10.0   \n",
       "4             320        60.0  ...       10.0      10.0      10.0   \n",
       "\n",
       "   Total_Cup_Points  Moisture  Quakers  Color  Expiration  \\\n",
       "0             84.33      0.11        0  Green  2018-08-03   \n",
       "1             83.92      0.00        0  Green  2018-10-20   \n",
       "2             83.75      0.11        0  Green  2018-10-20   \n",
       "3             83.67      0.11        0  Green  2018-10-20   \n",
       "4             83.58      0.11        0  Green  2018-10-20   \n",
       "\n",
       "   Category_Two_Defects  Category_One_Defects  \n",
       "0                     4                     0  \n",
       "1                     3                     0  \n",
       "2                     5                     0  \n",
       "3                     2                     0  \n",
       "4                     5                     0  \n",
       "\n",
       "[5 rows x 29 columns]"
      ]
     },
     "execution_count": 108,
     "metadata": {},
     "output_type": "execute_result"
    }
   ],
   "source": [
    "coffee_beans.head()"
   ]
  },
  {
   "cell_type": "code",
   "execution_count": 109,
   "id": "13d0ab7d",
   "metadata": {},
   "outputs": [],
   "source": [
    "coffee_beans.to_csv(\"dt_mixed.csv\", index = False)"
   ]
  },
  {
   "cell_type": "markdown",
   "id": "7084787c",
   "metadata": {},
   "source": [
    "## Visualizing to get more Insight"
   ]
  },
  {
   "cell_type": "code",
   "execution_count": null,
   "id": "ac0ee7ed",
   "metadata": {},
   "outputs": [],
   "source": [
    "sns.pairplot(data = coffee_beans)"
   ]
  },
  {
   "cell_type": "code",
   "execution_count": null,
   "id": "26769f1b",
   "metadata": {},
   "outputs": [],
   "source": [
    "corr = coffee_beans.corr()\n",
    "ax = sns.heatmap(\n",
    "    corr, \n",
    "    vmin=-1, vmax=1, center=0,\n",
    "    cmap=sns.diverging_palette(20, 220, n=200),\n",
    "    square=True\n",
    ")\n",
    "ax.set_xticklabels(\n",
    "    ax.get_xticklabels(),\n",
    "    rotation=45,\n",
    "    horizontalalignment='right'\n",
    ");\n",
    "plt.title(\"Heat Map of all the Quantitative Values\")"
   ]
  },
  {
   "cell_type": "markdown",
   "id": "84d6d4a9",
   "metadata": {},
   "source": [
    "There is a very good co-relation between Aroma,Flavor,Aftertaste,Acidity,Body and Balance. Total cup points is highly corelated with Flavor,Aftertaste and Acidity"
   ]
  },
  {
   "cell_type": "code",
   "execution_count": null,
   "id": "1e35cb89",
   "metadata": {},
   "outputs": [],
   "source": [
    "sns.lmplot(x=\"Aroma\", y=\"Flavor\", data=coffee_beans);\n",
    "plt.title(\"Linear Model Plot related to Aroma and Flavor\")"
   ]
  },
  {
   "cell_type": "markdown",
   "id": "9b7a9e35",
   "metadata": {},
   "source": [
    "Aroma and Flavor are co-related to each other, so if the Aroma of the coffee beans is good then for sure the Flavor of the coffee made out of those beans will be good and viceversa. "
   ]
  },
  {
   "cell_type": "code",
   "execution_count": null,
   "id": "3d4ffde9",
   "metadata": {},
   "outputs": [],
   "source": [
    "sns.regplot(data = coffee_beans, x =\"Body\", y=\"Balance\")\n",
    "plt.title(\"A plot to determine the relation between Body and Balance\")"
   ]
  },
  {
   "cell_type": "markdown",
   "id": "1974420a",
   "metadata": {},
   "source": [
    "Body and Balance are co-related to each other, so if the Body is higher so is the Balance will be."
   ]
  },
  {
   "cell_type": "code",
   "execution_count": null,
   "id": "4045c1ff",
   "metadata": {},
   "outputs": [],
   "source": [
    "sns.histplot(data = coffee_beans, x =\"Altitude\", kde=\"Number_of_bags\", color=\"red\")\n",
    "plt.ylabel(\"Number of Bags\")\n",
    "plt.title(\"Relation between Number of Bags and Altitude\")"
   ]
  },
  {
   "cell_type": "markdown",
   "id": "7dddee0e",
   "metadata": {},
   "source": [
    "The more number of bags are harvested at the altitude between 1000 metres to 2000 metres, as we go above 5000 metres the number of bags being harvested are decreased."
   ]
  },
  {
   "cell_type": "code",
   "execution_count": null,
   "id": "fd1ee35e",
   "metadata": {},
   "outputs": [],
   "source": [
    "sns.scatterplot(data = coffee_beans, x =\"Total_Cup_Points\", y=\"Acidity\")\n",
    "plt.title(\"Relation between Acidity and Total_Cup_Points\")"
   ]
  },
  {
   "cell_type": "markdown",
   "id": "27d300ab",
   "metadata": {},
   "source": [
    "If the total cup points are above 75 then the acidity of the coffee is above 7"
   ]
  },
  {
   "cell_type": "markdown",
   "id": "be47a56d",
   "metadata": {},
   "source": [
    "**API EXTRACTION AND CONVERTING TO VECTORIZED DATA**"
   ]
  },
  {
   "cell_type": "markdown",
   "id": "0837dde8",
   "metadata": {},
   "source": [
    "***Coffee API***"
   ]
  },
  {
   "cell_type": "code",
   "execution_count": null,
   "id": "d488e7ef",
   "metadata": {},
   "outputs": [],
   "source": [
    "import requests\n",
    "\n",
    "url = ('https://newsapi.org/v2/everything?'\n",
    "       'q=coffee beans&'\n",
    "       'apiKey=d94094a99c5c4686a17af9b59864e383')\n",
    "\n",
    "response = requests.get(url)\n",
    "\n",
    "print(response.json)"
   ]
  },
  {
   "cell_type": "code",
   "execution_count": null,
   "id": "f9aa0f32",
   "metadata": {},
   "outputs": [],
   "source": [
    "jsontxt = response.json()"
   ]
  },
  {
   "cell_type": "code",
   "execution_count": null,
   "id": "ae1caa83",
   "metadata": {},
   "outputs": [],
   "source": [
    "response.content"
   ]
  },
  {
   "cell_type": "code",
   "execution_count": null,
   "id": "68fdcd6a",
   "metadata": {},
   "outputs": [],
   "source": [
    "filename=\"Coffee_Beans_Headlines.csv\"\n",
    "MyFILE=open(filename,\"w\")\n",
    "WriteThis=\"Date,Source,Title,Headline\\n\"\n",
    "MyFILE.write(WriteThis)\n",
    "MyFILE.close()"
   ]
  },
  {
   "cell_type": "code",
   "execution_count": null,
   "id": "086fb0e8",
   "metadata": {},
   "outputs": [],
   "source": [
    "MyFILE=open(filename, \"a\")"
   ]
  },
  {
   "cell_type": "code",
   "execution_count": null,
   "id": "dfb1cf0e",
   "metadata": {},
   "outputs": [],
   "source": [
    "import re\n",
    "for items in jsontxt[\"articles\"]:\n",
    "    Source=items[\"source\"][\"id\"]    \n",
    "    Date=items[\"publishedAt\"]\n",
    "    NewDate=Date.split(\"T\")\n",
    "    Date=NewDate[0]\n",
    "    ## CLEAN the Title\n",
    "    ##Replace punctuation with space\n",
    "    # Accept one or more copies of punctuation         \n",
    "    # plus zero or more copies of a space\n",
    "    # and replace it with a single space\n",
    "    Title=items[\"title\"]\n",
    "    Title=re.sub(r'[,.;@#?!&$\\-\\']+', ' ', Title, flags=re.IGNORECASE)\n",
    "    Title=re.sub(' +', ' ', Title, flags=re.IGNORECASE)\n",
    "    Title=re.sub(r'\\\"', ' ', Title, flags=re.IGNORECASE)\n",
    "    \n",
    "    # and replace it with a single space\n",
    "    ## NOTE: Using the \"^\" on the inside of the [] means\n",
    "    ## we want to look for any chars NOT a-z or A-Z and replace\n",
    "    ## them with blank. This removes chars that should not be there.\n",
    "    Title=re.sub(r'[^a-zA-Z]', \" \", Title, flags=re.VERBOSE)\n",
    "    Title=Title.replace(',', '')\n",
    "    Title=' '.join(Title.split())\n",
    "    Title=re.sub(\"\\n|\\r\", \"\", Title)\n",
    "    ##----------------------------------------------------------\n",
    "    \n",
    "    Headline=items[\"description\"]\n",
    "    Headline=re.sub(r'[,.;@#?!&$\\-\\']+', ' ', Headline, flags=re.IGNORECASE)\n",
    "    Headline=re.sub(' +', ' ', Headline, flags=re.IGNORECASE)\n",
    "    Headline=re.sub(r'\\\"', ' ', Headline, flags=re.IGNORECASE)\n",
    "    Headline=re.sub(r'[^a-zA-Z]', \" \", Headline, flags=re.VERBOSE)\n",
    "    ## Be sure there are no commas in the headlines or it will\n",
    "    ## write poorly to a csv file....\n",
    "    Headline=Headline.replace(',', '')\n",
    "    Headline=' '.join(Headline.split())\n",
    "    Headline=re.sub(\"\\n|\\r\", \"\", Headline)\n",
    "    \n",
    "    ### AS AN OPTION - remove words of a given length............\n",
    "    Headline = ' '.join([wd for wd in Headline.split() if len(wd)>3])\n",
    "    WriteThis=str(Date)+\",\"+str(Source)+\",\"+ str(Title) + \",\" + str(Headline) + \"\\n\"\n",
    "    \n",
    "    MyFILE.write(WriteThis)\n",
    "    \n",
    "## CLOSE THE FILE\n",
    "MyFILE.close()"
   ]
  },
  {
   "cell_type": "code",
   "execution_count": null,
   "id": "04cfd1b4",
   "metadata": {},
   "outputs": [],
   "source": [
    "coffee_beans_api = pd.read_csv(filename, error_bad_lines=False)\n",
    "print(coffee_beans_api.head())\n",
    "# iterating the columns \n",
    "for col in coffee_beans_api.columns: \n",
    "    print(col) \n",
    "    \n",
    "print(coffee_beans_api[\"Headline\"])\n",
    "\n",
    "## REMOVE any rows with NaN in them\n",
    "coffee_beans_api = coffee_beans_api.dropna()\n",
    "print(coffee_beans_api[\"Headline\"])\n",
    "\n",
    "### Tokenize and Vectorize the Headlines\n",
    "## Create the list of headlines\n",
    "HeadlineLIST = []\n",
    "for next1 in coffee_beans_api[\"Headline\"]:\n",
    "    HeadlineLIST.append(next1)\n",
    "\n",
    "print(\"The headline list is\")\n",
    "print(HeadlineLIST)"
   ]
  },
  {
   "cell_type": "code",
   "execution_count": null,
   "id": "c924ad21",
   "metadata": {},
   "outputs": [],
   "source": [
    "import nltk\n",
    "nltk.download('stopwords')"
   ]
  },
  {
   "cell_type": "code",
   "execution_count": null,
   "id": "544a843e",
   "metadata": {},
   "outputs": [],
   "source": [
    "wpt = nltk.WordPunctTokenizer()\n",
    "stop_words = nltk.corpus.stopwords.words('english')"
   ]
  },
  {
   "cell_type": "code",
   "execution_count": null,
   "id": "4a74664e",
   "metadata": {},
   "outputs": [],
   "source": [
    "import numpy as np\n",
    "def normalize_document(doc):\n",
    "    # lower case and remove special characters\\whitespaces\n",
    "    doc = re.sub(r'[^a-zA-Z\\s]', '', doc, re.I | re.A)\n",
    "    doc = doc.lower()\n",
    "    doc = doc.strip()\n",
    "    # tokenize document\n",
    "    tokens = wpt.tokenize(doc)\n",
    "    # filter stopwords out of document\n",
    "    filtered_tokens = [token for token in tokens if token not in stop_words]\n",
    "    # re-create document from filtered tokens\n",
    "    doc = ' '.join(filtered_tokens)\n",
    "    return doc\n",
    "\n",
    "\n",
    "normalize_corpus = np.vectorize(normalize_document)"
   ]
  },
  {
   "cell_type": "code",
   "execution_count": null,
   "id": "e8c3beb4",
   "metadata": {},
   "outputs": [],
   "source": [
    "norm_corpus = normalize_corpus(HeadlineLIST)"
   ]
  },
  {
   "cell_type": "code",
   "execution_count": null,
   "id": "d9443181",
   "metadata": {},
   "outputs": [],
   "source": [
    "temp = pd.DataFrame()"
   ]
  },
  {
   "cell_type": "code",
   "execution_count": null,
   "id": "759351cf",
   "metadata": {},
   "outputs": [],
   "source": [
    "temp_1 = temp.append(norm_corpus[0].split()).T\n",
    "for i in range(1,len(norm_corpus)):\n",
    "    temp_2 = temp.append(norm_corpus[i].split()).T\n",
    "    temp_1 = pd.concat([temp_1,temp_2])"
   ]
  },
  {
   "cell_type": "code",
   "execution_count": null,
   "id": "7c38b3c4",
   "metadata": {},
   "outputs": [],
   "source": [
    "temp_1['label'] = 'Coffee_Beans'\n",
    "temp_1"
   ]
  },
  {
   "cell_type": "markdown",
   "id": "c357f755",
   "metadata": {},
   "source": [
    "***Coffee and Addiction***"
   ]
  },
  {
   "cell_type": "code",
   "execution_count": null,
   "id": "7cce3815",
   "metadata": {},
   "outputs": [],
   "source": [
    "import requests\n",
    "\n",
    "url = ('https://newsapi.org/v2/everything?'\n",
    "       'q=addiction&'\n",
    "       'apiKey=d94094a99c5c4686a17af9b59864e383')\n",
    "\n",
    "response = requests.get(url)\n",
    "\n",
    "print(response.json)"
   ]
  },
  {
   "cell_type": "code",
   "execution_count": null,
   "id": "fdceb0e6",
   "metadata": {},
   "outputs": [],
   "source": [
    "jsontxt = response.json()"
   ]
  },
  {
   "cell_type": "code",
   "execution_count": null,
   "id": "e6390d64",
   "metadata": {},
   "outputs": [],
   "source": [
    "filename=\"addiction_headlines.csv\"\n",
    "MyFILE=open(filename,\"w\")\n",
    "WriteThis=\"Date,Source,Title,Headline\\n\"\n",
    "MyFILE.write(WriteThis)\n",
    "MyFILE.close()"
   ]
  },
  {
   "cell_type": "code",
   "execution_count": null,
   "id": "557d9b37",
   "metadata": {},
   "outputs": [],
   "source": [
    "MyFILE=open(filename, \"a\")"
   ]
  },
  {
   "cell_type": "code",
   "execution_count": null,
   "id": "5a711128",
   "metadata": {},
   "outputs": [],
   "source": [
    "import re\n",
    "\n",
    "for items in jsontxt[\"articles\"]:\n",
    "    Source=items[\"source\"][\"id\"]    \n",
    "    Date=items[\"publishedAt\"]\n",
    "    NewDate=Date.split(\"T\")\n",
    "    Date=NewDate[0]\n",
    "    ## CLEAN the Title\n",
    "    ##Replace punctuation with space\n",
    "    # Accept one or more copies of punctuation         \n",
    "    # plus zero or more copies of a space\n",
    "    # and replace it with a single space\n",
    "    Title=items[\"title\"]\n",
    "    Title=re.sub(r'[,.;@#?!&$\\-\\']+', ' ', Title, flags=re.IGNORECASE)\n",
    "    Title=re.sub(' +', ' ', Title, flags=re.IGNORECASE)\n",
    "    Title=re.sub(r'\\\"', ' ', Title, flags=re.IGNORECASE)\n",
    "    \n",
    "    # and replace it with a single space\n",
    "    ## NOTE: Using the \"^\" on the inside of the [] means\n",
    "    ## we want to look for any chars NOT a-z or A-Z and replace\n",
    "    ## them with blank. This removes chars that should not be there.\n",
    "    Title=re.sub(r'[^a-zA-Z]', \" \", Title, flags=re.VERBOSE)\n",
    "    Title=Title.replace(',', '')\n",
    "    Title=' '.join(Title.split())\n",
    "    Title=re.sub(\"\\n|\\r\", \"\", Title)\n",
    "    ##----------------------------------------------------------\n",
    "    \n",
    "    Headline=items[\"description\"]\n",
    "    Headline=re.sub(r'[,.;@#?!&$\\-\\']+', ' ', Headline, flags=re.IGNORECASE)\n",
    "    Headline=re.sub(' +', ' ', Headline, flags=re.IGNORECASE)\n",
    "    Headline=re.sub(r'\\\"', ' ', Headline, flags=re.IGNORECASE)\n",
    "    Headline=re.sub(r'[^a-zA-Z]', \" \", Headline, flags=re.VERBOSE)\n",
    "    ## Be sure there are no commas in the headlines or it will\n",
    "    ## write poorly to a csv file....\n",
    "    Headline=Headline.replace(',', '')\n",
    "    Headline=' '.join(Headline.split())\n",
    "    Headline=re.sub(\"\\n|\\r\", \"\", Headline)\n",
    "    \n",
    "    ### AS AN OPTION - remove words of a given length............\n",
    "    Headline = ' '.join([wd for wd in Headline.split() if len(wd)>3])\n",
    "    WriteThis=str(Date)+\",\"+str(Source)+\",\"+ str(Title) + \",\" + str(Headline) + \"\\n\"\n",
    "    \n",
    "    MyFILE.write(WriteThis)\n",
    "    \n",
    "## CLOSE THE FILE\n",
    "MyFILE.close()"
   ]
  },
  {
   "cell_type": "code",
   "execution_count": null,
   "id": "3d830ee2",
   "metadata": {},
   "outputs": [],
   "source": [
    "addiction_api = pd.read_csv(filename, error_bad_lines=False)\n",
    "print(addiction_api.head())\n",
    "# iterating the columns \n",
    "for col in addiction_api.columns: \n",
    "    print(col) \n",
    "    \n",
    "print(addiction_api[\"Headline\"])\n",
    "\n",
    "## REMOVE any rows with NaN in them\n",
    "addiction_api = addiction_api.dropna()\n",
    "print(addiction_api[\"Headline\"])\n",
    "\n",
    "### Tokenize and Vectorize the Headlines\n",
    "## Create the list of headlines\n",
    "HeadlineLIST=[]\n",
    "for next1 in addiction_api[\"Headline\"]:\n",
    "    HeadlineLIST.append(next1)\n",
    "\n",
    "print(\"The headline list is\")\n",
    "print(HeadlineLIST)"
   ]
  },
  {
   "cell_type": "code",
   "execution_count": null,
   "id": "b496e30a",
   "metadata": {},
   "outputs": [],
   "source": [
    "norm_corpus = normalize_corpus(HeadlineLIST)"
   ]
  },
  {
   "cell_type": "code",
   "execution_count": null,
   "id": "cc64ee78",
   "metadata": {},
   "outputs": [],
   "source": [
    "norm_corpus"
   ]
  },
  {
   "cell_type": "code",
   "execution_count": null,
   "id": "e3029118",
   "metadata": {},
   "outputs": [],
   "source": [
    "temp = pd.DataFrame()"
   ]
  },
  {
   "cell_type": "code",
   "execution_count": null,
   "id": "15cf1438",
   "metadata": {},
   "outputs": [],
   "source": [
    "temp_3 = temp.append(norm_corpus[0].split()).T\n",
    "for i in range(1,len(norm_corpus)):\n",
    "    temp_4 = temp.append(norm_corpus[i].split()).T\n",
    "    temp_3 = pd.concat([temp_3,temp_4])"
   ]
  },
  {
   "cell_type": "code",
   "execution_count": null,
   "id": "7b6e9ce4",
   "metadata": {},
   "outputs": [],
   "source": [
    "temp_3['label'] = 'addiction'\n",
    "temp_3"
   ]
  },
  {
   "cell_type": "code",
   "execution_count": null,
   "id": "84d86167",
   "metadata": {},
   "outputs": [],
   "source": [
    "transactions = pd.concat([temp_1,temp_3])"
   ]
  },
  {
   "cell_type": "code",
   "execution_count": null,
   "id": "cff25b08",
   "metadata": {
    "scrolled": true
   },
   "outputs": [],
   "source": [
    "transactions"
   ]
  },
  {
   "cell_type": "code",
   "execution_count": null,
   "id": "13211286",
   "metadata": {},
   "outputs": [],
   "source": [
    "transactions = transactions.iloc[: , :-1]"
   ]
  },
  {
   "cell_type": "code",
   "execution_count": null,
   "id": "d121d464",
   "metadata": {},
   "outputs": [],
   "source": [
    "transactions.to_csv(\"transactions_data.csv\", index = False, header = False)"
   ]
  },
  {
   "cell_type": "markdown",
   "id": "e2566c7a",
   "metadata": {},
   "source": [
    "## K-Means Clustering"
   ]
  },
  {
   "cell_type": "code",
   "execution_count": null,
   "id": "682e9fce",
   "metadata": {},
   "outputs": [],
   "source": [
    "#downloading data as csv to import csv in R for hierachical clustering\n",
    "coffee_beans.to_csv(\"coffee_beans.csv\", index = False)"
   ]
  },
  {
   "cell_type": "code",
   "execution_count": null,
   "id": "2a2ba6f0",
   "metadata": {},
   "outputs": [],
   "source": [
    "#Extracting only numerical data to perform K-means\n",
    "numeric_coffee_beans = coffee_beans[['Altitude','Number_of_Bags','Bag_Weight','Aroma','Flavor','Aftertaste',\n",
    "                                    'Acidity','Body','Balance','Uniformity','Clean_Cup','Sweetness',\n",
    "                                    'Total_Cup_Points','Moisture','Quakers','Category_Two_Defects','Category_One_Defects']]"
   ]
  },
  {
   "cell_type": "code",
   "execution_count": null,
   "id": "28fd6342",
   "metadata": {},
   "outputs": [],
   "source": [
    "numeric_coffee_beans.to_csv(\"numeric_coffee_beans.csv\", index = False)"
   ]
  },
  {
   "cell_type": "code",
   "execution_count": null,
   "id": "29e441cd",
   "metadata": {},
   "outputs": [],
   "source": [
    "#Scaling the data\n",
    "from sklearn.preprocessing import StandardScaler \n",
    "numeric_coffee_beans = StandardScaler().fit_transform(numeric_coffee_beans)"
   ]
  },
  {
   "cell_type": "code",
   "execution_count": null,
   "id": "0ae05345",
   "metadata": {},
   "outputs": [],
   "source": [
    "#Elbow method to know the value the ideal value of K\n",
    "from sklearn.preprocessing import StandardScaler \n",
    "from sklearn.cluster import KMeans\n",
    "from sklearn import metrics\n",
    "from scipy.spatial.distance import cdist\n",
    "import numpy as np\n",
    "\n",
    "distortions = []\n",
    "inertias = []\n",
    "mapping1 = {}\n",
    "mapping2 = {}\n",
    "K = range(1, 10)\n",
    "  \n",
    "for k in K:\n",
    "    # Building and fitting the model\n",
    "    kmeanModel = KMeans(n_clusters=k).fit(numeric_coffee_beans)\n",
    "    kmeanModel.fit(numeric_coffee_beans)\n",
    "  \n",
    "    distortions.append(sum(np.min(cdist(numeric_coffee_beans, kmeanModel.cluster_centers_,\n",
    "                                        'euclidean'), axis=1)) / numeric_coffee_beans.shape[0])\n",
    "    inertias.append(kmeanModel.inertia_)\n",
    "  \n",
    "    mapping1[k] = sum(np.min(cdist(numeric_coffee_beans, kmeanModel.cluster_centers_,\n",
    "                                   'euclidean'), axis=1)) / numeric_coffee_beans.shape[0]\n",
    "    mapping2[k] = kmeanModel.inertia_"
   ]
  },
  {
   "cell_type": "code",
   "execution_count": null,
   "id": "7740c192",
   "metadata": {},
   "outputs": [],
   "source": [
    "for key, val in mapping1.items():\n",
    "    print(f'{key} : {val}')"
   ]
  },
  {
   "cell_type": "code",
   "execution_count": null,
   "id": "fe7c5b4f",
   "metadata": {},
   "outputs": [],
   "source": [
    "plt.figure(figsize=(7,5))\n",
    "plt.plot(K, distortions, 'bx-')\n",
    "plt.xlabel('Values of K')\n",
    "plt.ylabel('Distortion')\n",
    "plt.title('The Elbow Method using Distortion')\n",
    "plt.show()"
   ]
  },
  {
   "cell_type": "code",
   "execution_count": null,
   "id": "f5a78420",
   "metadata": {},
   "outputs": [],
   "source": [
    "from sklearn.decomposition import PCA\n",
    "\n",
    "pca = PCA().fit(numeric_coffee_beans)\n",
    "\n",
    "import matplotlib.pyplot as plt\n",
    "plt.rcParams[\"figure.figsize\"] = (7,5)\n",
    "\n",
    "fig, ax = plt.subplots()\n",
    "xi = np.arange(1, 18, step=1)\n",
    "y = np.cumsum(pca.explained_variance_ratio_)\n",
    "\n",
    "plt.ylim(0.0,1.1)\n",
    "plt.plot(xi, y, marker='o', linestyle='--', color='b')\n",
    "\n",
    "plt.xlabel('Number of Components')\n",
    "plt.xticks(np.arange(0, 15, step=2)) #change from 0-based array index to 1-based human-readable label\n",
    "plt.ylabel('Cumulative variance (%)')\n",
    "plt.title('The number of components needed to explain variance')\n",
    "\n",
    "plt.axhline(y=0.95, color='r', linestyle='-')\n",
    "plt.text(0.5, 0.85, '95% cut-off threshold', color = 'red', fontsize=16)\n",
    "\n",
    "ax.grid(axis='x')\n",
    "plt.show()"
   ]
  },
  {
   "cell_type": "code",
   "execution_count": null,
   "id": "d6ca8be1",
   "metadata": {},
   "outputs": [],
   "source": [
    "#PCA \n",
    "from sklearn.decomposition import PCA\n",
    "pca = PCA(n_components=12)\n",
    "principalComponents = pca.fit_transform(numeric_coffee_beans)\n",
    "principalDf = pd.DataFrame(data = principalComponents\n",
    "             , columns = ['principal component 1', 'principal component 2','principal component 3','principal component 4'\n",
    "                         ,'principal component 5','principal component 6','principal component 7','principal component 8'\n",
    "                         ,'principal component 9','principal component 10','principal component 11','principal component 12'])"
   ]
  },
  {
   "cell_type": "code",
   "execution_count": null,
   "id": "b28666d6",
   "metadata": {},
   "outputs": [],
   "source": [
    "#K-Means Clustering based on K=5\n",
    "plt.figure(figsize=(7,5))\n",
    "kmeans = KMeans(n_clusters = 5)\n",
    "label = kmeans.fit_predict(principalDf)\n",
    "plt.scatter(coffee_beans['Total_Cup_Points'], coffee_beans['Aroma'], c = label, s= 50, cmap = 'viridis' )\n",
    "plt.xlabel(\"Total_Cup_Points\") \n",
    "plt.ylabel(\"Aroma\") \n",
    "plt.title(\"K-Means Clustering based on K=5\")"
   ]
  },
  {
   "cell_type": "code",
   "execution_count": null,
   "id": "80c3576f",
   "metadata": {},
   "outputs": [],
   "source": [
    "#K-Means Clustering based on K=4\n",
    "plt.figure(figsize=(7,5))\n",
    "kmeans = KMeans(n_clusters = 4)\n",
    "label = kmeans.fit_predict(principalDf)\n",
    "plt.scatter(coffee_beans['Total_Cup_Points'], coffee_beans['Aroma'], c = label, s= 50, cmap = 'viridis' )\n",
    "plt.xlabel(\"Total_Cup_Points\") \n",
    "plt.ylabel(\"Aroma\") \n",
    "plt.title(\"K-Means Clustering based on K=4\")"
   ]
  },
  {
   "cell_type": "code",
   "execution_count": null,
   "id": "27457683",
   "metadata": {},
   "outputs": [],
   "source": [
    "#K-Means Clustering based on K=3\n",
    "plt.figure(figsize=(7,5))\n",
    "kmeans = KMeans(n_clusters = 3)\n",
    "label = kmeans.fit_predict(principalDf)\n",
    "plt.scatter(coffee_beans['Total_Cup_Points'], coffee_beans['Aroma'], c = label, s= 50, cmap = 'viridis' )\n",
    "plt.xlabel(\"Total_Cup_Points\") \n",
    "plt.ylabel(\"Aroma\") \n",
    "plt.title(\"K-Means Clustering based on K=3\")"
   ]
  },
  {
   "cell_type": "markdown",
   "id": "a9bf5574",
   "metadata": {},
   "source": [
    "**DBSCAN ALGORITHM**"
   ]
  },
  {
   "cell_type": "code",
   "execution_count": null,
   "id": "cc105102",
   "metadata": {},
   "outputs": [],
   "source": [
    "#Calculating Nearest Neighbours to find out the Epsilon value\n",
    "from sklearn.neighbors import NearestNeighbors \n",
    "neighb = NearestNeighbors(n_neighbors=2) \n",
    "nbrs = neighb.fit(numeric_coffee_beans) \n",
    "distances,indices = nbrs.kneighbors(numeric_coffee_beans) "
   ]
  },
  {
   "cell_type": "code",
   "execution_count": null,
   "id": "fc08a05c",
   "metadata": {},
   "outputs": [],
   "source": [
    "# Sort and plot the distances results\n",
    "plt.figure(figsize=(7,5))\n",
    "distances = np.sort(distances, axis = 0) \n",
    "distances = distances[:, 1] \n",
    "plt.rcParams['figure.figsize'] = (5,3) \n",
    "plt.plot(distances) \n",
    "plt.title(\"Plotting distances\")\n",
    "plt.show() "
   ]
  },
  {
   "cell_type": "code",
   "execution_count": null,
   "id": "6fe0916c",
   "metadata": {},
   "outputs": [],
   "source": [
    "numeric_coffee_beans.shape"
   ]
  },
  {
   "cell_type": "code",
   "execution_count": null,
   "id": "fa83884f",
   "metadata": {},
   "outputs": [],
   "source": [
    "#Implementing DBSCAN Algorithm\n",
    "from sklearn.cluster import DBSCAN\n",
    "dbscan = DBSCAN(eps = 4, min_samples = 34).fit(numeric_coffee_beans) \n",
    "db_labels = dbscan.labels_ "
   ]
  },
  {
   "cell_type": "code",
   "execution_count": null,
   "id": "b1e25cc5",
   "metadata": {},
   "outputs": [],
   "source": [
    "db_labels.sum()"
   ]
  },
  {
   "cell_type": "code",
   "execution_count": null,
   "id": "1de3158c",
   "metadata": {},
   "outputs": [],
   "source": [
    "#Plotting clusters using DBSCAN labels\n",
    "plt.figure(figsize=(7,5))\n",
    "plt.scatter(coffee_beans['Flavor'], coffee_beans['Aroma'], c = db_labels, s= 50, cmap = 'viridis' )\n",
    "plt.xlabel(\"Flavor\") \n",
    "plt.ylabel(\"Aroma\") \n",
    "plt.title(\"Clustering based on DBSCAN methods\")"
   ]
  },
  {
   "cell_type": "markdown",
   "id": "aff87acb",
   "metadata": {},
   "source": [
    "REFERENCES:\n",
    "https://towardsdatascience.com/pca-using-python-scikit-learn-e653f8989e60\n",
    "https://www.section.io/engineering-education/dbscan-clustering-in-python/\n",
    "https://www.kaggle.com/code/kushal1506/deciding-n-components-in-pca/notebook\n",
    "https://towardsdatascience.com/k-nearest-neighbors-94395f445221\n",
    "https://www.mikulskibartosz.name/pca-how-to-choose-the-number-of-components/"
   ]
  },
  {
   "cell_type": "markdown",
   "id": "cb2994b4",
   "metadata": {},
   "source": [
    "## DECISION TREES"
   ]
  },
  {
   "cell_type": "markdown",
   "id": "ff42d899",
   "metadata": {},
   "source": [
    "**1) Decision Tree wrt Gini**"
   ]
  },
  {
   "cell_type": "code",
   "execution_count": 132,
   "id": "46e97e07",
   "metadata": {},
   "outputs": [],
   "source": [
    "# Extracting numeric data for decision tree modelling\n",
    "dt_numeric = coffee_beans[['Altitude','Number_of_Bags','Bag_Weight','Aroma','Flavor','Aftertaste',\n",
    "                                    'Acidity','Body','Balance','Uniformity','Clean_Cup','Sweetness',\n",
    "                                    'Total_Cup_Points','Moisture','Quakers','Category_Two_Defects',\n",
    "                                    'Category_One_Defects','Processing_Method']]"
   ]
  },
  {
   "cell_type": "code",
   "execution_count": 133,
   "id": "1f49d79b",
   "metadata": {},
   "outputs": [],
   "source": [
    "dt_numeric.to_csv(\"dt_numeric.csv\", index = False)"
   ]
  },
  {
   "cell_type": "code",
   "execution_count": 134,
   "id": "1b6ba49a",
   "metadata": {},
   "outputs": [],
   "source": [
    "# Importing libraries\n",
    "import sklearn\n",
    "from sklearn import tree\n",
    "import matplotlib.pyplot as plt\n",
    "from sklearn.metrics import confusion_matrix\n",
    "from sklearn.model_selection import train_test_split\n",
    "from sklearn.tree import DecisionTreeClassifier\n",
    "from sklearn.metrics import accuracy_score\n",
    "from sklearn.metrics import classification_report"
   ]
  },
  {
   "cell_type": "code",
   "execution_count": 135,
   "id": "b8f54911",
   "metadata": {},
   "outputs": [],
   "source": [
    "# Splitting data into train and test\n",
    "X_train, X_test, y_train, y_test = train_test_split(dt_numeric.iloc[:,:-1], dt_numeric.iloc[:, -1], test_size=0.3)"
   ]
  },
  {
   "cell_type": "code",
   "execution_count": 136,
   "id": "84bf2125",
   "metadata": {},
   "outputs": [
    {
     "data": {
      "text/plain": [
       "array(['Washed / Wet', 'Washed / Wet', 'Washed / Wet', 'Washed / Wet',\n",
       "       'Washed / Wet', 'Washed / Wet', 'Washed / Wet', 'Washed / Wet',\n",
       "       'Washed / Wet'], dtype=object)"
      ]
     },
     "execution_count": 136,
     "metadata": {},
     "output_type": "execute_result"
    }
   ],
   "source": [
    "# Decision Tree modelling based on GINI\n",
    "model_gini = DecisionTreeClassifier(criterion = \"gini\",random_state = 100,max_depth=3, min_samples_leaf=3)\n",
    "model_gini.fit(X_train, y_train)\n",
    "predictions = model_gini.predict(X_test)\n",
    "predictions[1:10]"
   ]
  },
  {
   "cell_type": "code",
   "execution_count": 237,
   "id": "12735bc1",
   "metadata": {},
   "outputs": [
    {
     "data": {
      "image/png": "[encoded data removed]",
      "text/plain": [
       "<Figure size 1800x1440 with 1 Axes>"
      ]
     },
     "metadata": {
      "needs_background": "light"
     },
     "output_type": "display_data"
    }
   ],
   "source": [
    "# Visualizing the decision tree\n",
    "fig = plt.figure(figsize=(25,20))\n",
    "_ = tree.plot_tree(model_gini, feature_names=dt_numeric.iloc[:,:-1].columns, class_names=dt_numeric['Processing_Method'], filled = True)"
   ]
  },
  {
   "cell_type": "code",
   "execution_count": 238,
   "id": "25acd373",
   "metadata": {},
   "outputs": [],
   "source": [
    "fig.savefig(\"decistion_tree_Gini.png\")"
   ]
  },
  {
   "cell_type": "code",
   "execution_count": 117,
   "id": "28280325",
   "metadata": {},
   "outputs": [
    {
     "name": "stdout",
     "output_type": "stream",
     "text": [
      "Confusion Matrix: \n",
      " [[  7   0   0   0  21]\n",
      " [  0   0   0   0   6]\n",
      " [  0   0   0   0   1]\n",
      " [  0   0   0   0  10]\n",
      " [  2   0   0   0 124]]\n",
      "Accuracy :  76.60818713450293\n",
      "Report :                             precision    recall  f1-score   support\n",
      "\n",
      "            Natural / Dry       0.78      0.25      0.38        28\n",
      "                    Other       0.00      0.00      0.00         6\n",
      "   Pulped natural / honey       0.00      0.00      0.00         1\n",
      "Semi-washed / Semi-pulped       0.00      0.00      0.00        10\n",
      "             Washed / Wet       0.77      0.98      0.86       126\n",
      "\n",
      "                 accuracy                           0.77       171\n",
      "                macro avg       0.31      0.25      0.25       171\n",
      "             weighted avg       0.69      0.77      0.70       171\n",
      "\n"
     ]
    },
    {
     "name": "stderr",
     "output_type": "stream",
     "text": [
      "C:\\Users\\Aparna Akula\\anaconda3\\lib\\site-packages\\sklearn\\metrics\\_classification.py:1248: UndefinedMetricWarning: Precision and F-score are ill-defined and being set to 0.0 in labels with no predicted samples. Use `zero_division` parameter to control this behavior.\n",
      "  _warn_prf(average, modifier, msg_start, len(result))\n",
      "C:\\Users\\Aparna Akula\\anaconda3\\lib\\site-packages\\sklearn\\metrics\\_classification.py:1248: UndefinedMetricWarning: Precision and F-score are ill-defined and being set to 0.0 in labels with no predicted samples. Use `zero_division` parameter to control this behavior.\n",
      "  _warn_prf(average, modifier, msg_start, len(result))\n",
      "C:\\Users\\Aparna Akula\\anaconda3\\lib\\site-packages\\sklearn\\metrics\\_classification.py:1248: UndefinedMetricWarning: Precision and F-score are ill-defined and being set to 0.0 in labels with no predicted samples. Use `zero_division` parameter to control this behavior.\n",
      "  _warn_prf(average, modifier, msg_start, len(result))\n"
     ]
    }
   ],
   "source": [
    "# Deriving confusion matrix\n",
    "print(\"Confusion Matrix: \\n\",confusion_matrix(y_test, predictions))\n",
    "print (\"Accuracy : \", accuracy_score(y_test,predictions)*100)      \n",
    "print(\"Report : \", classification_report(y_test, predictions))"
   ]
  },
  {
   "cell_type": "markdown",
   "id": "0af6013b",
   "metadata": {},
   "source": [
    "**2) Decision Tree wrt Entropy**"
   ]
  },
  {
   "cell_type": "code",
   "execution_count": 139,
   "id": "2f32f0d8",
   "metadata": {},
   "outputs": [
    {
     "data": {
      "text/plain": [
       "array(['Washed / Wet', 'Washed / Wet', 'Washed / Wet', 'Washed / Wet',\n",
       "       'Washed / Wet', 'Washed / Wet', 'Washed / Wet', 'Washed / Wet',\n",
       "       'Washed / Wet'], dtype=object)"
      ]
     },
     "execution_count": 139,
     "metadata": {},
     "output_type": "execute_result"
    }
   ],
   "source": [
    "# Decision Tree modelling based on ENTROPY\n",
    "model_entropy = DecisionTreeClassifier(criterion = \"entropy\",random_state = 100,max_depth=3, min_samples_leaf=3)\n",
    "model_entropy.fit(X_train, y_train)\n",
    "predictions = model_entropy.predict(X_test)\n",
    "predictions[1:10]"
   ]
  },
  {
   "cell_type": "code",
   "execution_count": 140,
   "id": "1b73be49",
   "metadata": {},
   "outputs": [
    {
     "data": {
      "image/png": "[encoded data removed]",
      "text/plain": [
       "<Figure size 1800x1440 with 1 Axes>"
      ]
     },
     "metadata": {
      "needs_background": "light"
     },
     "output_type": "display_data"
    }
   ],
   "source": [
    "# Visualizing the decision tree\n",
    "fig = plt.figure(figsize=(25,20))\n",
    "_ = tree.plot_tree(model_entropy, feature_names=dt_numeric.iloc[:,:-1].columns, class_names=dt_numeric['Processing_Method'], filled = True)"
   ]
  },
  {
   "cell_type": "code",
   "execution_count": 234,
   "id": "7d7f4f58",
   "metadata": {},
   "outputs": [],
   "source": [
    "fig.savefig(\"decistion_tree_Entropy.png\")"
   ]
  },
  {
   "cell_type": "code",
   "execution_count": 142,
   "id": "04d768ee",
   "metadata": {},
   "outputs": [
    {
     "name": "stdout",
     "output_type": "stream",
     "text": [
      "Confusion Matrix: \n",
      " [[  8   0   0   0  20]\n",
      " [  0   0   0   0   4]\n",
      " [  1   0   0   0   1]\n",
      " [  0   0   0   0   9]\n",
      " [  3   0   0   0 125]]\n",
      "Accuracy :  77.77777777777779\n",
      "Report :                             precision    recall  f1-score   support\n",
      "\n",
      "            Natural / Dry       0.67      0.29      0.40        28\n",
      "                    Other       0.00      0.00      0.00         4\n",
      "   Pulped natural / honey       0.00      0.00      0.00         2\n",
      "Semi-washed / Semi-pulped       0.00      0.00      0.00         9\n",
      "             Washed / Wet       0.79      0.98      0.87       128\n",
      "\n",
      "                 accuracy                           0.78       171\n",
      "                macro avg       0.29      0.25      0.25       171\n",
      "             weighted avg       0.70      0.78      0.72       171\n",
      "\n"
     ]
    },
    {
     "name": "stderr",
     "output_type": "stream",
     "text": [
      "C:\\Users\\Aparna Akula\\anaconda3\\lib\\site-packages\\sklearn\\metrics\\_classification.py:1248: UndefinedMetricWarning: Precision and F-score are ill-defined and being set to 0.0 in labels with no predicted samples. Use `zero_division` parameter to control this behavior.\n",
      "  _warn_prf(average, modifier, msg_start, len(result))\n",
      "C:\\Users\\Aparna Akula\\anaconda3\\lib\\site-packages\\sklearn\\metrics\\_classification.py:1248: UndefinedMetricWarning: Precision and F-score are ill-defined and being set to 0.0 in labels with no predicted samples. Use `zero_division` parameter to control this behavior.\n",
      "  _warn_prf(average, modifier, msg_start, len(result))\n",
      "C:\\Users\\Aparna Akula\\anaconda3\\lib\\site-packages\\sklearn\\metrics\\_classification.py:1248: UndefinedMetricWarning: Precision and F-score are ill-defined and being set to 0.0 in labels with no predicted samples. Use `zero_division` parameter to control this behavior.\n",
      "  _warn_prf(average, modifier, msg_start, len(result))\n"
     ]
    }
   ],
   "source": [
    "# Deriving confusion matrix\n",
    "print(\"Confusion Matrix: \\n\",confusion_matrix(y_test, predictions))\n",
    "print (\"Accuracy : \", accuracy_score(y_test,predictions)*100)      \n",
    "print(\"Report : \", classification_report(y_test, predictions))"
   ]
  },
  {
   "cell_type": "markdown",
   "id": "ac635d0b",
   "metadata": {},
   "source": [
    "References :-\n",
    "https://scikit-learn.org/stable/modules/tree.html\n",
    "https://www.geeksforgeeks.org/decision-tree-implementation-python/"
   ]
  },
  {
   "cell_type": "markdown",
   "id": "3e694cfa",
   "metadata": {},
   "source": [
    "## NAIVE BAYES"
   ]
  },
  {
   "cell_type": "code",
   "execution_count": 148,
   "id": "a519022e",
   "metadata": {},
   "outputs": [],
   "source": [
    "nB_numeric = dt_numeric"
   ]
  },
  {
   "cell_type": "code",
   "execution_count": 149,
   "id": "13b3b4ff",
   "metadata": {},
   "outputs": [],
   "source": [
    "# Importing libraries\n",
    "import sklearn\n",
    "from sklearn.model_selection import train_test_split\n",
    "\n",
    "# Splitting data into train and test\n",
    "X_train, X_test, y_train, y_test = train_test_split(nB_numeric.iloc[:,:-1], nB_numeric.iloc[:, -1], test_size=0.3)"
   ]
  },
  {
   "cell_type": "code",
   "execution_count": 150,
   "id": "d82dc4a4",
   "metadata": {},
   "outputs": [
    {
     "name": "stdout",
     "output_type": "stream",
     "text": [
      "Confusion Matrix: \n",
      " [[19  0  8  5  3]\n",
      " [ 0  0  1  1  1]\n",
      " [ 1  0  1  0  0]\n",
      " [ 3  0  6  2  3]\n",
      " [32  3 28 11 43]]\n",
      "Accuracy: 0.38011695906432746\n"
     ]
    }
   ],
   "source": [
    "# Training the Naive Bayes model on the Training set\n",
    "from sklearn.naive_bayes import MultinomialNB\n",
    "\n",
    "classifier = MultinomialNB()\n",
    "classifier.fit(X_train, y_train)\n",
    "\n",
    "# Predicting the Test set results\n",
    "y_pred = classifier.predict(X_test)\n",
    "\n",
    "#Import scikit-learn metrics module for accuracy and confusion matrix  calculation\n",
    "from sklearn.metrics import confusion_matrix, accuracy_score\n",
    "\n",
    "# Confusion Matrix\n",
    "print(\"Confusion Matrix: \\n\",confusion_matrix(y_test, y_pred))\n",
    "\n",
    "# Model Accuracy: how often is the classifier correct?\n",
    "print(\"Accuracy:\",accuracy_score(y_test, y_pred))"
   ]
  },
  {
   "cell_type": "markdown",
   "id": "865b9b23",
   "metadata": {},
   "source": [
    "References :-\n",
    "https://www.analyticsvidhya.com/blog/2021/01/a-guide-to-the-naive-bayes-algorithm/"
   ]
  },
  {
   "cell_type": "markdown",
   "id": "30f82731",
   "metadata": {},
   "source": [
    "## SVM"
   ]
  },
  {
   "cell_type": "code",
   "execution_count": 224,
   "id": "f3347a5e",
   "metadata": {},
   "outputs": [
    {
     "data": {
      "text/html": [
       "<div>\n",
       "<style scoped>\n",
       "    .dataframe tbody tr th:only-of-type {\n",
       "        vertical-align: middle;\n",
       "    }\n",
       "\n",
       "    .dataframe tbody tr th {\n",
       "        vertical-align: top;\n",
       "    }\n",
       "\n",
       "    .dataframe thead th {\n",
       "        text-align: right;\n",
       "    }\n",
       "</style>\n",
       "<table border=\"1\" class=\"dataframe\">\n",
       "  <thead>\n",
       "    <tr style=\"text-align: right;\">\n",
       "      <th></th>\n",
       "      <th>Altitude</th>\n",
       "      <th>Number_of_Bags</th>\n",
       "      <th>Bag_Weight</th>\n",
       "      <th>Aroma</th>\n",
       "      <th>Flavor</th>\n",
       "      <th>Aftertaste</th>\n",
       "      <th>Acidity</th>\n",
       "      <th>Body</th>\n",
       "      <th>Balance</th>\n",
       "      <th>Uniformity</th>\n",
       "      <th>Clean_Cup</th>\n",
       "      <th>Sweetness</th>\n",
       "      <th>Total_Cup_Points</th>\n",
       "      <th>Moisture</th>\n",
       "      <th>Quakers</th>\n",
       "      <th>Category_Two_Defects</th>\n",
       "      <th>Category_One_Defects</th>\n",
       "      <th>Processing_Method</th>\n",
       "    </tr>\n",
       "  </thead>\n",
       "  <tbody>\n",
       "    <tr>\n",
       "      <th>0</th>\n",
       "      <td>1800</td>\n",
       "      <td>150</td>\n",
       "      <td>60.0</td>\n",
       "      <td>7.33</td>\n",
       "      <td>7.58</td>\n",
       "      <td>7.83</td>\n",
       "      <td>7.75</td>\n",
       "      <td>7.75</td>\n",
       "      <td>7.92</td>\n",
       "      <td>10.0</td>\n",
       "      <td>10.0</td>\n",
       "      <td>10.0</td>\n",
       "      <td>84.33</td>\n",
       "      <td>0.11</td>\n",
       "      <td>0</td>\n",
       "      <td>4</td>\n",
       "      <td>0</td>\n",
       "      <td>Washed / Wet</td>\n",
       "    </tr>\n",
       "    <tr>\n",
       "      <th>1</th>\n",
       "      <td>890</td>\n",
       "      <td>320</td>\n",
       "      <td>60.0</td>\n",
       "      <td>7.50</td>\n",
       "      <td>7.75</td>\n",
       "      <td>7.58</td>\n",
       "      <td>7.50</td>\n",
       "      <td>7.58</td>\n",
       "      <td>7.50</td>\n",
       "      <td>10.0</td>\n",
       "      <td>10.0</td>\n",
       "      <td>10.0</td>\n",
       "      <td>83.92</td>\n",
       "      <td>0.00</td>\n",
       "      <td>0</td>\n",
       "      <td>3</td>\n",
       "      <td>0</td>\n",
       "      <td>Natural / Dry</td>\n",
       "    </tr>\n",
       "    <tr>\n",
       "      <th>2</th>\n",
       "      <td>890</td>\n",
       "      <td>320</td>\n",
       "      <td>60.0</td>\n",
       "      <td>7.67</td>\n",
       "      <td>7.67</td>\n",
       "      <td>7.58</td>\n",
       "      <td>7.75</td>\n",
       "      <td>7.67</td>\n",
       "      <td>7.67</td>\n",
       "      <td>10.0</td>\n",
       "      <td>10.0</td>\n",
       "      <td>10.0</td>\n",
       "      <td>83.75</td>\n",
       "      <td>0.11</td>\n",
       "      <td>0</td>\n",
       "      <td>5</td>\n",
       "      <td>0</td>\n",
       "      <td>Natural / Dry</td>\n",
       "    </tr>\n",
       "    <tr>\n",
       "      <th>3</th>\n",
       "      <td>890</td>\n",
       "      <td>320</td>\n",
       "      <td>60.0</td>\n",
       "      <td>7.67</td>\n",
       "      <td>7.83</td>\n",
       "      <td>7.50</td>\n",
       "      <td>7.67</td>\n",
       "      <td>7.67</td>\n",
       "      <td>7.50</td>\n",
       "      <td>10.0</td>\n",
       "      <td>10.0</td>\n",
       "      <td>10.0</td>\n",
       "      <td>83.67</td>\n",
       "      <td>0.11</td>\n",
       "      <td>0</td>\n",
       "      <td>2</td>\n",
       "      <td>0</td>\n",
       "      <td>Natural / Dry</td>\n",
       "    </tr>\n",
       "    <tr>\n",
       "      <th>4</th>\n",
       "      <td>890</td>\n",
       "      <td>320</td>\n",
       "      <td>60.0</td>\n",
       "      <td>7.58</td>\n",
       "      <td>7.67</td>\n",
       "      <td>7.58</td>\n",
       "      <td>7.58</td>\n",
       "      <td>7.67</td>\n",
       "      <td>7.58</td>\n",
       "      <td>10.0</td>\n",
       "      <td>10.0</td>\n",
       "      <td>10.0</td>\n",
       "      <td>83.58</td>\n",
       "      <td>0.11</td>\n",
       "      <td>0</td>\n",
       "      <td>5</td>\n",
       "      <td>0</td>\n",
       "      <td>Natural / Dry</td>\n",
       "    </tr>\n",
       "  </tbody>\n",
       "</table>\n",
       "</div>"
      ],
      "text/plain": [
       "   Altitude  Number_of_Bags  Bag_Weight  Aroma  Flavor  Aftertaste  Acidity  \\\n",
       "0      1800             150        60.0   7.33    7.58        7.83     7.75   \n",
       "1       890             320        60.0   7.50    7.75        7.58     7.50   \n",
       "2       890             320        60.0   7.67    7.67        7.58     7.75   \n",
       "3       890             320        60.0   7.67    7.83        7.50     7.67   \n",
       "4       890             320        60.0   7.58    7.67        7.58     7.58   \n",
       "\n",
       "   Body  Balance  Uniformity  Clean_Cup  Sweetness  Total_Cup_Points  \\\n",
       "0  7.75     7.92        10.0       10.0       10.0             84.33   \n",
       "1  7.58     7.50        10.0       10.0       10.0             83.92   \n",
       "2  7.67     7.67        10.0       10.0       10.0             83.75   \n",
       "3  7.67     7.50        10.0       10.0       10.0             83.67   \n",
       "4  7.67     7.58        10.0       10.0       10.0             83.58   \n",
       "\n",
       "   Moisture  Quakers  Category_Two_Defects  Category_One_Defects  \\\n",
       "0      0.11        0                     4                     0   \n",
       "1      0.00        0                     3                     0   \n",
       "2      0.11        0                     5                     0   \n",
       "3      0.11        0                     2                     0   \n",
       "4      0.11        0                     5                     0   \n",
       "\n",
       "  Processing_Method  \n",
       "0      Washed / Wet  \n",
       "1     Natural / Dry  \n",
       "2     Natural / Dry  \n",
       "3     Natural / Dry  \n",
       "4     Natural / Dry  "
      ]
     },
     "execution_count": 224,
     "metadata": {},
     "output_type": "execute_result"
    }
   ],
   "source": [
    "svm_numeric = dt_numeric\n",
    "svm_numeric.head()"
   ]
  },
  {
   "cell_type": "code",
   "execution_count": 225,
   "id": "1f490422",
   "metadata": {},
   "outputs": [],
   "source": [
    "# Import train_test_split function\n",
    "from sklearn.model_selection import train_test_split\n",
    "from sklearn.preprocessing import StandardScaler\n",
    "\n",
    "#perform standardization by centering and scaling\n",
    "scaler = StandardScaler()\n",
    "\n",
    "# Split dataset into training set and test set\n",
    "X_train, X_test, y_train, y_test = train_test_split(svm_numeric.iloc[:,:-1], svm_numeric.iloc[:, -1], test_size=0.3)\n",
    "\n",
    "X_train = scaler.fit_transform(X_train)\n",
    "X_test = scaler.fit_transform(X_test)"
   ]
  },
  {
   "cell_type": "markdown",
   "id": "101796fb",
   "metadata": {},
   "source": [
    "**Kernel function - Linear**"
   ]
  },
  {
   "cell_type": "code",
   "execution_count": 214,
   "id": "b0d159e0",
   "metadata": {},
   "outputs": [
    {
     "name": "stdout",
     "output_type": "stream",
     "text": [
      "Confusion Matrix: \n",
      " [[  7   0   0   0  22]\n",
      " [  0   0   0   0   8]\n",
      " [  1   0   0   0   0]\n",
      " [  0   0   0   0   9]\n",
      " [  2   0   1   0 121]]\n",
      "Accuracy: 0.7485380116959064\n"
     ]
    }
   ],
   "source": [
    "#Import svm model\n",
    "from sklearn import svm\n",
    "\n",
    "#Create a svm Classifier\n",
    "clf = svm.SVC(kernel='linear') # Linear Kernel\n",
    "\n",
    "#Train the model using the training sets\n",
    "clf.fit(X_train, y_train)\n",
    "\n",
    "#Predict the response for test dataset\n",
    "y_pred = clf.predict(X_test)\n",
    "\n",
    "#Import scikit-learn metrics module for accuracy and confusion matrix  calculation\n",
    "from sklearn.metrics import confusion_matrix, accuracy_score\n",
    "\n",
    "# Confusion Matrix\n",
    "print(\"Confusion Matrix: \\n\",confusion_matrix(y_test, y_pred))\n",
    "\n",
    "# Model Accuracy: how often is the classifier correct?\n",
    "print(\"Accuracy:\",accuracy_score(y_test, y_pred))"
   ]
  },
  {
   "cell_type": "code",
   "execution_count": 213,
   "id": "0e411424",
   "metadata": {},
   "outputs": [
    {
     "name": "stdout",
     "output_type": "stream",
     "text": [
      "Confusion Matrix: \n",
      " [[  8   0   0   0  21]\n",
      " [  0   0   0   0   8]\n",
      " [  1   0   0   0   0]\n",
      " [  1   0   0   0   8]\n",
      " [  5   0   1   0 118]]\n",
      "Accuracy: 0.7368421052631579\n"
     ]
    }
   ],
   "source": [
    "#Import svm model\n",
    "from sklearn import svm\n",
    "\n",
    "#Create a svm Classifier\n",
    "clf = svm.SVC(kernel='linear', C = 0.7) # Linear Kernel\n",
    "\n",
    "#Train the model using the training sets\n",
    "clf.fit(X_train, y_train)\n",
    "\n",
    "#Predict the response for test dataset\n",
    "y_pred = clf.predict(X_test)\n",
    "\n",
    "#Import scikit-learn metrics module for accuracy and confusion matrix  calculation\n",
    "from sklearn.metrics import confusion_matrix, accuracy_score\n",
    "\n",
    "# Confusion Matrix\n",
    "print(\"Confusion Matrix: \\n\",confusion_matrix(y_test, y_pred))\n",
    "\n",
    "# Model Accuracy: how often is the classifier correct?\n",
    "print(\"Accuracy:\",accuracy_score(y_test, y_pred))"
   ]
  },
  {
   "cell_type": "code",
   "execution_count": 181,
   "id": "b9cf437b",
   "metadata": {},
   "outputs": [
    {
     "name": "stdout",
     "output_type": "stream",
     "text": [
      "Confusion Matrix: \n",
      " [[ 10   0   0   0  24]\n",
      " [  0   0   0   0   5]\n",
      " [  1   0   1   0   1]\n",
      " [  1   0   0   0   5]\n",
      " [  4   0   0   0 119]]\n",
      "Accuracy: 0.7602339181286549\n"
     ]
    }
   ],
   "source": [
    "#Import svm model\n",
    "from sklearn import svm\n",
    "\n",
    "#Create a svm Classifier\n",
    "clf = svm.SVC(kernel='linear', C = 1.5) # Linear Kernel\n",
    "\n",
    "#Train the model using the training sets\n",
    "clf.fit(X_train, y_train)\n",
    "\n",
    "#Predict the response for test dataset\n",
    "y_pred = clf.predict(X_test)\n",
    "\n",
    "#Import scikit-learn metrics module for accuracy and confusion matrix  calculation\n",
    "from sklearn.metrics import confusion_matrix, accuracy_score\n",
    "\n",
    "# Confusion Matrix\n",
    "print(\"Confusion Matrix: \\n\",confusion_matrix(y_test, y_pred))\n",
    "\n",
    "# Model Accuracy: how often is the classifier correct?\n",
    "print(\"Accuracy:\",accuracy_score(y_test, y_pred))"
   ]
  },
  {
   "cell_type": "markdown",
   "id": "2b571ea3",
   "metadata": {},
   "source": [
    "**Kernel function - Radial**"
   ]
  },
  {
   "cell_type": "code",
   "execution_count": 216,
   "id": "307f20b8",
   "metadata": {},
   "outputs": [
    {
     "name": "stdout",
     "output_type": "stream",
     "text": [
      "Confusion Matrix: \n",
      " [[  7   0   0   0  22]\n",
      " [  0   0   0   0   8]\n",
      " [  0   0   0   0   1]\n",
      " [  0   0   0   0   9]\n",
      " [  0   0   0   0 124]]\n",
      "Accuracy: 0.7660818713450293\n"
     ]
    }
   ],
   "source": [
    "#Create a svm Classifier\n",
    "clf = svm.SVC(kernel='rbf') # Radial Kernel\n",
    "\n",
    "#Train the model using the training sets\n",
    "clf.fit(X_train, y_train)\n",
    "\n",
    "#Predict the response for test dataset\n",
    "y_pred = clf.predict(X_test)\n",
    "\n",
    "#Import scikit-learn metrics module for accuracy and confusion matrix calculation\n",
    "from sklearn.metrics import confusion_matrix, accuracy_score\n",
    "\n",
    "# Confusion Matrix\n",
    "print(\"Confusion Matrix: \\n\",confusion_matrix(y_test, y_pred))\n",
    "\n",
    "# Model Accuracy: how often is the classifier correct?\n",
    "print(\"Accuracy:\",accuracy_score(y_test, y_pred))"
   ]
  },
  {
   "cell_type": "code",
   "execution_count": 217,
   "id": "9edcd362",
   "metadata": {},
   "outputs": [
    {
     "name": "stdout",
     "output_type": "stream",
     "text": [
      "Confusion Matrix: \n",
      " [[  8   0   0   0  21]\n",
      " [  1   0   0   0   7]\n",
      " [  0   0   0   0   1]\n",
      " [  0   0   0   0   9]\n",
      " [  0   0   0   0 124]]\n",
      "Accuracy: 0.7719298245614035\n"
     ]
    }
   ],
   "source": [
    "#Create a svm Classifier\n",
    "clf = svm.SVC(kernel='rbf', C = 0.5) # Radial Kernel\n",
    "\n",
    "#Train the model using the training sets\n",
    "clf.fit(X_train, y_train)\n",
    "\n",
    "#Predict the response for test dataset\n",
    "y_pred = clf.predict(X_test)\n",
    "\n",
    "#Import scikit-learn metrics module for accuracy and confusion matrix calculation\n",
    "from sklearn.metrics import confusion_matrix, accuracy_score\n",
    "\n",
    "# Confusion Matrix\n",
    "print(\"Confusion Matrix: \\n\",confusion_matrix(y_test, y_pred))\n",
    "\n",
    "# Model Accuracy: how often is the classifier correct?\n",
    "print(\"Accuracy:\",accuracy_score(y_test, y_pred))"
   ]
  },
  {
   "cell_type": "code",
   "execution_count": 218,
   "id": "d0ec7143",
   "metadata": {},
   "outputs": [
    {
     "name": "stdout",
     "output_type": "stream",
     "text": [
      "Confusion Matrix: \n",
      " [[  2   0   0   0  27]\n",
      " [  0   0   0   0   8]\n",
      " [  0   0   0   0   1]\n",
      " [  0   0   0   0   9]\n",
      " [  0   0   0   0 124]]\n",
      "Accuracy: 0.7368421052631579\n"
     ]
    }
   ],
   "source": [
    "#Create a svm Classifier\n",
    "clf = svm.SVC(kernel='rbf', C = 1.5) # Radial Kernel\n",
    "\n",
    "#Train the model using the training sets\n",
    "clf.fit(X_train, y_train)\n",
    "\n",
    "#Predict the response for test dataset\n",
    "y_pred = clf.predict(X_test)\n",
    "\n",
    "#Import scikit-learn metrics module for accuracy and confusion matrix calculation\n",
    "from sklearn.metrics import confusion_matrix, accuracy_score\n",
    "\n",
    "# Confusion Matrix\n",
    "print(\"Confusion Matrix: \\n\",confusion_matrix(y_test, y_pred))\n",
    "\n",
    "# Model Accuracy: how often is the classifier correct?\n",
    "print(\"Accuracy:\",accuracy_score(y_test, y_pred))"
   ]
  },
  {
   "cell_type": "markdown",
   "id": "f7884ca8",
   "metadata": {},
   "source": [
    "**Kernel function - Polynomial**"
   ]
  },
  {
   "cell_type": "code",
   "execution_count": 219,
   "id": "187006e2",
   "metadata": {},
   "outputs": [
    {
     "name": "stdout",
     "output_type": "stream",
     "text": [
      "Confusion Matrix: \n",
      " [[  5   0   0   0  24]\n",
      " [  1   0   0   0   7]\n",
      " [  0   0   0   0   1]\n",
      " [  0   0   0   0   9]\n",
      " [  2   0   1   1 120]]\n",
      "Accuracy: 0.7309941520467836\n"
     ]
    }
   ],
   "source": [
    "#Create a svm Classifier\n",
    "clf = svm.SVC(kernel='poly') # Poly Kernel\n",
    "\n",
    "#Train the model using the training sets\n",
    "clf.fit(X_train, y_train)\n",
    "\n",
    "#Predict the response for test dataset\n",
    "y_pred = clf.predict(X_test)\n",
    "\n",
    "#Import scikit-learn metrics module for accuracy and confusion matrix calculation\n",
    "from sklearn.metrics import confusion_matrix, accuracy_score\n",
    "\n",
    "# Confusion Matrix\n",
    "print(\"Confusion Matrix: \\n\",confusion_matrix(y_test, y_pred))\n",
    "\n",
    "# Model Accuracy: how often is the classifier correct?\n",
    "print(\"Accuracy:\",accuracy_score(y_test, y_pred))"
   ]
  },
  {
   "cell_type": "code",
   "execution_count": 220,
   "id": "64c507a2",
   "metadata": {},
   "outputs": [
    {
     "name": "stdout",
     "output_type": "stream",
     "text": [
      "Confusion Matrix: \n",
      " [[  2   0   0   0  27]\n",
      " [  0   0   0   0   8]\n",
      " [  0   0   0   0   1]\n",
      " [  0   0   0   0   9]\n",
      " [  2   0   1   0 121]]\n",
      "Accuracy: 0.7192982456140351\n"
     ]
    }
   ],
   "source": [
    "#Create a svm Classifier\n",
    "clf = svm.SVC(kernel='poly', C = 0.4) # Poly Kernel\n",
    "\n",
    "#Train the model using the training sets\n",
    "clf.fit(X_train, y_train)\n",
    "\n",
    "#Predict the response for test dataset\n",
    "y_pred = clf.predict(X_test)\n",
    "\n",
    "#Import scikit-learn metrics module for accuracy and confusion matrix calculation\n",
    "from sklearn.metrics import confusion_matrix, accuracy_score\n",
    "\n",
    "# Confusion Matrix\n",
    "print(\"Confusion Matrix: \\n\",confusion_matrix(y_test, y_pred))\n",
    "\n",
    "# Model Accuracy: how often is the classifier correct?\n",
    "print(\"Accuracy:\",accuracy_score(y_test, y_pred))"
   ]
  },
  {
   "cell_type": "code",
   "execution_count": 221,
   "id": "c02495f0",
   "metadata": {},
   "outputs": [
    {
     "name": "stdout",
     "output_type": "stream",
     "text": [
      "Confusion Matrix: \n",
      " [[  6   0   0   0  23]\n",
      " [  1   0   0   0   7]\n",
      " [  0   0   0   0   1]\n",
      " [  0   0   0   0   9]\n",
      " [  2   0   1   1 120]]\n",
      "Accuracy: 0.7368421052631579\n"
     ]
    }
   ],
   "source": [
    "#Create a svm Classifier\n",
    "clf = svm.SVC(kernel='poly', C = 1.7) # Poly Kernel\n",
    "\n",
    "#Train the model using the training sets\n",
    "clf.fit(X_train, y_train)\n",
    "\n",
    "#Predict the response for test dataset\n",
    "y_pred = clf.predict(X_test)\n",
    "\n",
    "#Import scikit-learn metrics module for accuracy and confusion matrix calculation\n",
    "from sklearn.metrics import confusion_matrix, accuracy_score\n",
    "\n",
    "# Confusion Matrix\n",
    "print(\"Confusion Matrix: \\n\",confusion_matrix(y_test, y_pred))\n",
    "\n",
    "# Model Accuracy: how often is the classifier correct?\n",
    "print(\"Accuracy:\",accuracy_score(y_test, y_pred))"
   ]
  }
 ],
 "metadata": {
  "kernelspec": {
   "display_name": "Python 3 (ipykernel)",
   "language": "python",
   "name": "python3"
  },
  "language_info": {
   "codemirror_mode": {
    "name": "ipython",
    "version": 3
   },
   "file_extension": ".py",
   "mimetype": "text/x-python",
   "name": "python",
   "nbconvert_exporter": "python",
   "pygments_lexer": "ipython3",
   "version": "3.9.7"
  }
 },
 "nbformat": 4,
 "nbformat_minor": 5
}
